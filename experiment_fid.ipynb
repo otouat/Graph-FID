{
 "cells": [
  {
   "cell_type": "markdown",
   "source": [
    "## Will be used to compute FID of given graph"
   ],
   "metadata": {}
  }
 ],
 "metadata": {
  "orig_nbformat": 4,
  "language_info": {
   "name": "python"
  }
 },
 "nbformat": 4,
 "nbformat_minor": 2
}