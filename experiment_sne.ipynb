{
 "cells": [
  {
   "cell_type": "markdown",
   "source": [
    "## Will be used to display t-SNE representation of each graph classifier"
   ],
   "metadata": {}
  }
 ],
 "metadata": {
  "orig_nbformat": 4,
  "language_info": {
   "name": "python"
  }
 },
 "nbformat": 4,
 "nbformat_minor": 2
}