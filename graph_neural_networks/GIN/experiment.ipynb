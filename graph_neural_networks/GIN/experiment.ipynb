{
 "cells": [
  {
   "cell_type": "markdown",
   "source": [
    "# GIN Experiment\n",
    "This notebook will implement the evaluation pipeline with the FID calculation using the GIN"
   ],
   "metadata": {}
  },
  {
   "cell_type": "markdown",
   "source": [
    "## Setup"
   ],
   "metadata": {}
  },
  {
   "cell_type": "code",
   "execution_count": 1,
   "source": [
    "import argparse\n",
    "import torch\n",
    "import torch.nn as nn\n",
    "import torch.nn.functional as F\n",
    "import torch.optim as optim\n",
    "import numpy as np\n",
    "import pickle\n",
    "from tqdm import tqdm\n",
    "\n",
    "from util import load_data, load_synth_data, separate_data , load_graph_asS2Vgraph\n",
    "from models.graphcnn import GraphCNN\n",
    "\n",
    "\n",
    "criterion = nn.CrossEntropyLoss()"
   ],
   "outputs": [],
   "metadata": {}
  },
  {
   "cell_type": "code",
   "execution_count": 2,
   "source": [
    "def train(iters_per_epoch, batch_size, model, device, train_graphs, optimizer, epoch):\n",
    "    model.train()\n",
    "\n",
    "    total_iters = iters_per_epoch\n",
    "    pbar = tqdm(range(total_iters), unit='batch')\n",
    "\n",
    "    loss_accum = 0\n",
    "    for pos in pbar:\n",
    "        selected_idx = np.random.permutation(len(train_graphs))[:batch_size]\n",
    "\n",
    "        batch_graph = [train_graphs[idx] for idx in selected_idx]\n",
    "        output = model(batch_graph)\n",
    "\n",
    "        labels = torch.LongTensor([graph.label for graph in batch_graph]).to(device)\n",
    "\n",
    "        #compute loss\n",
    "        loss = criterion(output, labels)\n",
    "\n",
    "        #backprop\n",
    "        if optimizer is not None:\n",
    "            optimizer.zero_grad()\n",
    "            loss.backward()         \n",
    "            optimizer.step()\n",
    "        \n",
    "\n",
    "        loss = loss.detach().cpu().numpy()\n",
    "        loss_accum += loss\n",
    "\n",
    "        #report\n",
    "        pbar.set_description('epoch: %d' % (epoch))\n",
    "\n",
    "    average_loss = loss_accum/total_iters\n",
    "    print(\"loss training: %f\" % (average_loss))\n",
    "    \n",
    "    return average_loss\n",
    "\n",
    "###pass data to model with minibatch during testing to avoid memory overflow (does not perform backpropagation)\n",
    "def pass_data_iteratively(model, graphs, minibatch_size = 64):\n",
    "    model.eval()\n",
    "    output = []\n",
    "    idx = np.arange(len(graphs))\n",
    "    for i in range(0, len(graphs), minibatch_size):\n",
    "        sampled_idx = idx[i:i+minibatch_size]\n",
    "        if len(sampled_idx) == 0:\n",
    "            continue\n",
    "        output.append(model([graphs[j] for j in sampled_idx]).detach())\n",
    "    return torch.cat(output, 0)\n",
    "\n",
    "def test(model, device, train_graphs, test_graphs, epoch):\n",
    "    model.eval()\n",
    "\n",
    "    output = pass_data_iteratively(model, train_graphs)\n",
    "    pred = output.max(1, keepdim=True)[1]\n",
    "    labels = torch.LongTensor([graph.label for graph in train_graphs]).to(device)\n",
    "    correct = pred.eq(labels.view_as(pred)).sum().cpu().item()\n",
    "    acc_train = correct / float(len(train_graphs))\n",
    "\n",
    "    output = pass_data_iteratively(model, test_graphs)\n",
    "    pred = output.max(1, keepdim=True)[1]\n",
    "    labels = torch.LongTensor([graph.label for graph in test_graphs]).to(device)\n",
    "    correct = pred.eq(labels.view_as(pred)).sum().cpu().item()\n",
    "    acc_test = correct / float(len(test_graphs))\n",
    "\n",
    "    print(\"accuracy train: %f test: %f\" % (acc_train, acc_test))\n",
    "\n",
    "    return acc_train, acc_test"
   ],
   "outputs": [],
   "metadata": {}
  },
  {
   "cell_type": "markdown",
   "source": [
    "## Training settings"
   ],
   "metadata": {}
  },
  {
   "cell_type": "code",
   "execution_count": 3,
   "source": [
    "dataset = None\n",
    "device = 0 \n",
    "batch_size = 32\n",
    "iters_per_epoch = 50\n",
    "epochs = 60\n",
    "lr = 0.01\n",
    "seed = 0\n",
    "fold_idx = 1\n",
    "num_layers = 5\n",
    "num_mlp_layers = 3\n",
    "hidden_dim = 64\n",
    "final_dropout = 0.5\n",
    "graph_pooling_type = \"sum\"\n",
    "neighbor_pooling_type = \"sum\"\n",
    "learn_eps = True\n",
    "degree_as_tag = True\n",
    "filename = \"\"\n",
    "random = 1"
   ],
   "outputs": [],
   "metadata": {}
  },
  {
   "cell_type": "markdown",
   "source": [
    "## Training "
   ],
   "metadata": {}
  },
  {
   "cell_type": "code",
   "execution_count": 4,
   "source": [
    "#set up seeds and gpu device\n",
    "torch.manual_seed(0)\n",
    "np.random.seed(0)    \n",
    "device = torch.device(\"cuda:\" + str(device)) if torch.cuda.is_available() else torch.device(\"cpu\")\n",
    "if torch.cuda.is_available():\n",
    "    torch.cuda.manual_seed_all(0)\n",
    "\n",
    "if dataset != None :\n",
    "    graphs, num_classes = load_data(dataset, degree_as_tag)\n",
    "else :\n",
    "    graphs, num_classes, tagset , lentagset = load_synth_data(True, random)\n",
    "num_classes\n",
    "##10-fold cross validation. Conduct an experiment on the fold specified by args.fold_idx.\n",
    "train_graphs, test_graphs = separate_data(graphs, seed, fold_idx)\n",
    "\n",
    "model = GraphCNN(num_layers, num_mlp_layers, train_graphs[0].node_features.shape[1], hidden_dim, num_classes, final_dropout, learn_eps, graph_pooling_type, neighbor_pooling_type,random, device).to(device)\n",
    "\n",
    "optimizer = optim.Adam(model.parameters(),lr=lr)\n",
    "scheduler = optim.lr_scheduler.StepLR(optimizer, step_size=50, gamma=0.5)\n",
    "\n",
    "\n",
    "for epoch in range(1, epochs + 1):\n",
    "    scheduler.step()\n",
    "\n",
    "    avg_loss = train(iters_per_epoch,batch_size,model, device, train_graphs, optimizer, epoch)\n",
    "    acc_train, acc_test = test( model, device, train_graphs, test_graphs, epoch)\n",
    "\n",
    "    if not filename == \"\":\n",
    "        with open(filename, 'w') as f:\n",
    "            f.write(\"%f %f %f\" % (avg_loss, acc_train, acc_test))\n",
    "            f.write(\"\\n\")\n",
    "    print(\"\")\n",
    "\n",
    "    print(model.eps)"
   ],
   "outputs": [
    {
     "output_type": "stream",
     "name": "stdout",
     "text": [
      "loading data\n",
      "# classes: 6\n",
      "# maximum node tag: 63\n",
      "# data: 2200\n"
     ]
    },
    {
     "output_type": "stream",
     "name": "stderr",
     "text": [
      "/home/ousmanetouat/anaconda3/envs/graphRL/lib/python3.7/site-packages/torch/optim/lr_scheduler.py:134: UserWarning: Detected call of `lr_scheduler.step()` before `optimizer.step()`. In PyTorch 1.1.0 and later, you should call them in the opposite order: `optimizer.step()` before `lr_scheduler.step()`.  Failure to do this will result in PyTorch skipping the first value of the learning rate schedule. See more details at https://pytorch.org/docs/stable/optim.html#how-to-adjust-learning-rate\n",
      "  \"https://pytorch.org/docs/stable/optim.html#how-to-adjust-learning-rate\", UserWarning)\n",
      "epoch: 1: 100%|██████████| 50/50 [00:02<00:00, 22.59batch/s]\n"
     ]
    },
    {
     "output_type": "stream",
     "name": "stdout",
     "text": [
      "loss training: 32.951359\n",
      "accuracy train: 0.811616 test: 0.790909\n",
      "\n",
      "Parameter containing:\n",
      "tensor([-0.1095, -0.1880,  0.0281, -0.2007], device='cuda:0',\n",
      "       requires_grad=True)\n"
     ]
    },
    {
     "output_type": "stream",
     "name": "stderr",
     "text": [
      "epoch: 2: 100%|██████████| 50/50 [00:01<00:00, 29.14batch/s]\n"
     ]
    },
    {
     "output_type": "stream",
     "name": "stdout",
     "text": [
      "loss training: 14.535753\n",
      "accuracy train: 0.890404 test: 0.886364\n",
      "\n",
      "Parameter containing:\n",
      "tensor([-0.1592, -0.3036, -0.0396, -0.2493], device='cuda:0',\n",
      "       requires_grad=True)\n"
     ]
    },
    {
     "output_type": "stream",
     "name": "stderr",
     "text": [
      "epoch: 3: 100%|██████████| 50/50 [00:02<00:00, 24.72batch/s]\n"
     ]
    },
    {
     "output_type": "stream",
     "name": "stdout",
     "text": [
      "loss training: 10.032494\n",
      "accuracy train: 0.944949 test: 0.940909\n",
      "\n",
      "Parameter containing:\n",
      "tensor([-0.2175, -0.3981, -0.0994, -0.3127], device='cuda:0',\n",
      "       requires_grad=True)\n"
     ]
    },
    {
     "output_type": "stream",
     "name": "stderr",
     "text": [
      "epoch: 4: 100%|██████████| 50/50 [00:01<00:00, 25.80batch/s]\n"
     ]
    },
    {
     "output_type": "stream",
     "name": "stdout",
     "text": [
      "loss training: 9.326299\n",
      "accuracy train: 0.876768 test: 0.877273\n",
      "\n",
      "Parameter containing:\n",
      "tensor([-0.2962, -0.5260, -0.1478, -0.3251], device='cuda:0',\n",
      "       requires_grad=True)\n"
     ]
    },
    {
     "output_type": "stream",
     "name": "stderr",
     "text": [
      "epoch: 5: 100%|██████████| 50/50 [00:01<00:00, 29.73batch/s]\n"
     ]
    },
    {
     "output_type": "stream",
     "name": "stdout",
     "text": [
      "loss training: 10.301158\n",
      "accuracy train: 0.710101 test: 0.709091\n",
      "\n",
      "Parameter containing:\n",
      "tensor([-0.2225, -0.7369, -0.2049, -0.3720], device='cuda:0',\n",
      "       requires_grad=True)\n"
     ]
    },
    {
     "output_type": "stream",
     "name": "stderr",
     "text": [
      "epoch: 6: 100%|██████████| 50/50 [00:01<00:00, 29.30batch/s]\n"
     ]
    },
    {
     "output_type": "stream",
     "name": "stdout",
     "text": [
      "loss training: 5.781251\n",
      "accuracy train: 0.763636 test: 0.768182\n",
      "\n",
      "Parameter containing:\n",
      "tensor([-0.2817, -0.7477, -0.2063, -0.3775], device='cuda:0',\n",
      "       requires_grad=True)\n"
     ]
    },
    {
     "output_type": "stream",
     "name": "stderr",
     "text": [
      "epoch: 7: 100%|██████████| 50/50 [00:01<00:00, 29.37batch/s]\n"
     ]
    },
    {
     "output_type": "stream",
     "name": "stdout",
     "text": [
      "loss training: 5.268178\n",
      "accuracy train: 0.942929 test: 0.945455\n",
      "\n",
      "Parameter containing:\n",
      "tensor([-0.2388, -0.8027, -0.1821, -0.2864], device='cuda:0',\n",
      "       requires_grad=True)\n"
     ]
    },
    {
     "output_type": "stream",
     "name": "stderr",
     "text": [
      "epoch: 8: 100%|██████████| 50/50 [00:01<00:00, 30.33batch/s]\n"
     ]
    },
    {
     "output_type": "stream",
     "name": "stdout",
     "text": [
      "loss training: 7.189422\n",
      "accuracy train: 0.903535 test: 0.904545\n",
      "\n",
      "Parameter containing:\n",
      "tensor([-0.2138, -0.9019, -0.1740, -0.2978], device='cuda:0',\n",
      "       requires_grad=True)\n"
     ]
    },
    {
     "output_type": "stream",
     "name": "stderr",
     "text": [
      "epoch: 9: 100%|██████████| 50/50 [00:01<00:00, 30.11batch/s]\n"
     ]
    },
    {
     "output_type": "stream",
     "name": "stdout",
     "text": [
      "loss training: 6.977389\n",
      "accuracy train: 0.761111 test: 0.768182\n",
      "\n",
      "Parameter containing:\n",
      "tensor([-0.3041, -0.9384, -0.1705, -0.2724], device='cuda:0',\n",
      "       requires_grad=True)\n"
     ]
    },
    {
     "output_type": "stream",
     "name": "stderr",
     "text": [
      "epoch: 10: 100%|██████████| 50/50 [00:01<00:00, 29.83batch/s]\n"
     ]
    },
    {
     "output_type": "stream",
     "name": "stdout",
     "text": [
      "loss training: 7.657804\n",
      "accuracy train: 0.946970 test: 0.940909\n",
      "\n",
      "Parameter containing:\n",
      "tensor([-0.2731, -1.0180, -0.1024, -0.2740], device='cuda:0',\n",
      "       requires_grad=True)\n"
     ]
    },
    {
     "output_type": "stream",
     "name": "stderr",
     "text": [
      "epoch: 11: 100%|██████████| 50/50 [00:01<00:00, 28.51batch/s]\n"
     ]
    },
    {
     "output_type": "stream",
     "name": "stdout",
     "text": [
      "loss training: 3.113824\n",
      "accuracy train: 0.754545 test: 0.750000\n",
      "\n",
      "Parameter containing:\n",
      "tensor([-0.2725, -0.9794, -0.1398, -0.2799], device='cuda:0',\n",
      "       requires_grad=True)\n"
     ]
    },
    {
     "output_type": "stream",
     "name": "stderr",
     "text": [
      "epoch: 12: 100%|██████████| 50/50 [00:01<00:00, 29.57batch/s]\n"
     ]
    },
    {
     "output_type": "stream",
     "name": "stdout",
     "text": [
      "loss training: 3.504567\n",
      "accuracy train: 0.769697 test: 0.763636\n",
      "\n",
      "Parameter containing:\n",
      "tensor([-0.2674, -0.9917, -0.1647, -0.2799], device='cuda:0',\n",
      "       requires_grad=True)\n"
     ]
    },
    {
     "output_type": "stream",
     "name": "stderr",
     "text": [
      "epoch: 13: 100%|██████████| 50/50 [00:01<00:00, 25.90batch/s]\n"
     ]
    },
    {
     "output_type": "stream",
     "name": "stdout",
     "text": [
      "loss training: 1.855248\n",
      "accuracy train: 0.954040 test: 0.950000\n",
      "\n",
      "Parameter containing:\n",
      "tensor([-0.2677, -0.9766, -0.1635, -0.2767], device='cuda:0',\n",
      "       requires_grad=True)\n"
     ]
    },
    {
     "output_type": "stream",
     "name": "stderr",
     "text": [
      "epoch: 14: 100%|██████████| 50/50 [00:02<00:00, 24.04batch/s]\n"
     ]
    },
    {
     "output_type": "stream",
     "name": "stdout",
     "text": [
      "loss training: 1.095302\n",
      "accuracy train: 0.986364 test: 0.981818\n",
      "\n",
      "Parameter containing:\n",
      "tensor([-0.2507, -0.9620, -0.1540, -0.2788], device='cuda:0',\n",
      "       requires_grad=True)\n"
     ]
    },
    {
     "output_type": "stream",
     "name": "stderr",
     "text": [
      "epoch: 15: 100%|██████████| 50/50 [00:02<00:00, 23.15batch/s]\n"
     ]
    },
    {
     "output_type": "stream",
     "name": "stdout",
     "text": [
      "loss training: 1.312591\n",
      "accuracy train: 0.954040 test: 0.954545\n",
      "\n",
      "Parameter containing:\n",
      "tensor([-0.2481, -0.9539, -0.1926, -0.2764], device='cuda:0',\n",
      "       requires_grad=True)\n"
     ]
    },
    {
     "output_type": "stream",
     "name": "stderr",
     "text": [
      "epoch: 16: 100%|██████████| 50/50 [00:01<00:00, 28.92batch/s]\n"
     ]
    },
    {
     "output_type": "stream",
     "name": "stdout",
     "text": [
      "loss training: 2.405580\n",
      "accuracy train: 1.000000 test: 0.995455\n",
      "\n",
      "Parameter containing:\n",
      "tensor([-0.2120, -0.9704, -0.2355, -0.2727], device='cuda:0',\n",
      "       requires_grad=True)\n"
     ]
    },
    {
     "output_type": "stream",
     "name": "stderr",
     "text": [
      "epoch: 17: 100%|██████████| 50/50 [00:01<00:00, 29.11batch/s]\n"
     ]
    },
    {
     "output_type": "stream",
     "name": "stdout",
     "text": [
      "loss training: 0.681191\n",
      "accuracy train: 0.987374 test: 0.990909\n",
      "\n",
      "Parameter containing:\n",
      "tensor([-0.2081, -0.9857, -0.2238, -0.2688], device='cuda:0',\n",
      "       requires_grad=True)\n"
     ]
    },
    {
     "output_type": "stream",
     "name": "stderr",
     "text": [
      "epoch: 18: 100%|██████████| 50/50 [00:01<00:00, 27.00batch/s]\n"
     ]
    },
    {
     "output_type": "stream",
     "name": "stdout",
     "text": [
      "loss training: 0.764968\n",
      "accuracy train: 0.984848 test: 0.981818\n",
      "\n",
      "Parameter containing:\n",
      "tensor([-0.1855, -0.9705, -0.2384, -0.2666], device='cuda:0',\n",
      "       requires_grad=True)\n"
     ]
    },
    {
     "output_type": "stream",
     "name": "stderr",
     "text": [
      "epoch: 19: 100%|██████████| 50/50 [00:01<00:00, 27.67batch/s]\n"
     ]
    },
    {
     "output_type": "stream",
     "name": "stdout",
     "text": [
      "loss training: 1.323785\n",
      "accuracy train: 0.965152 test: 0.963636\n",
      "\n",
      "Parameter containing:\n",
      "tensor([-0.1997, -0.9446, -0.3085, -0.2641], device='cuda:0',\n",
      "       requires_grad=True)\n"
     ]
    },
    {
     "output_type": "stream",
     "name": "stderr",
     "text": [
      "epoch: 20: 100%|██████████| 50/50 [00:01<00:00, 30.87batch/s]\n"
     ]
    },
    {
     "output_type": "stream",
     "name": "stdout",
     "text": [
      "loss training: 1.261575\n",
      "accuracy train: 0.929798 test: 0.927273\n",
      "\n",
      "Parameter containing:\n",
      "tensor([-0.1836, -0.9878, -0.3365, -0.3006], device='cuda:0',\n",
      "       requires_grad=True)\n"
     ]
    },
    {
     "output_type": "stream",
     "name": "stderr",
     "text": [
      "epoch: 21: 100%|██████████| 50/50 [00:01<00:00, 27.32batch/s]\n"
     ]
    },
    {
     "output_type": "stream",
     "name": "stdout",
     "text": [
      "loss training: 1.498072\n",
      "accuracy train: 0.985859 test: 0.986364\n",
      "\n",
      "Parameter containing:\n",
      "tensor([-0.1624, -1.0664, -0.3714, -0.3344], device='cuda:0',\n",
      "       requires_grad=True)\n"
     ]
    },
    {
     "output_type": "stream",
     "name": "stderr",
     "text": [
      "epoch: 22: 100%|██████████| 50/50 [00:01<00:00, 27.13batch/s]\n"
     ]
    },
    {
     "output_type": "stream",
     "name": "stdout",
     "text": [
      "loss training: 1.661247\n",
      "accuracy train: 0.933333 test: 0.940909\n",
      "\n",
      "Parameter containing:\n",
      "tensor([-0.1933, -1.0597, -0.3850, -0.3197], device='cuda:0',\n",
      "       requires_grad=True)\n"
     ]
    },
    {
     "output_type": "stream",
     "name": "stderr",
     "text": [
      "epoch: 23: 100%|██████████| 50/50 [00:01<00:00, 30.95batch/s]\n"
     ]
    },
    {
     "output_type": "stream",
     "name": "stdout",
     "text": [
      "loss training: 1.806455\n",
      "accuracy train: 0.993939 test: 0.990909\n",
      "\n",
      "Parameter containing:\n",
      "tensor([-0.1753, -1.0753, -0.4074, -0.3182], device='cuda:0',\n",
      "       requires_grad=True)\n"
     ]
    },
    {
     "output_type": "stream",
     "name": "stderr",
     "text": [
      "epoch: 24: 100%|██████████| 50/50 [00:01<00:00, 30.17batch/s]\n"
     ]
    },
    {
     "output_type": "stream",
     "name": "stdout",
     "text": [
      "loss training: 0.705904\n",
      "accuracy train: 0.954545 test: 0.954545\n",
      "\n",
      "Parameter containing:\n",
      "tensor([-0.1386, -1.0349, -0.3808, -0.3240], device='cuda:0',\n",
      "       requires_grad=True)\n"
     ]
    },
    {
     "output_type": "stream",
     "name": "stderr",
     "text": [
      "epoch: 25: 100%|██████████| 50/50 [00:01<00:00, 30.68batch/s]\n"
     ]
    },
    {
     "output_type": "stream",
     "name": "stdout",
     "text": [
      "loss training: 3.168835\n",
      "accuracy train: 0.892929 test: 0.877273\n",
      "\n",
      "Parameter containing:\n",
      "tensor([-0.1034, -1.0497, -0.4292, -0.1944], device='cuda:0',\n",
      "       requires_grad=True)\n"
     ]
    },
    {
     "output_type": "stream",
     "name": "stderr",
     "text": [
      "epoch: 26: 100%|██████████| 50/50 [00:01<00:00, 30.82batch/s]\n"
     ]
    },
    {
     "output_type": "stream",
     "name": "stdout",
     "text": [
      "loss training: 2.233885\n",
      "accuracy train: 0.954040 test: 0.954545\n",
      "\n",
      "Parameter containing:\n",
      "tensor([-0.0934, -1.1081, -0.5191, -0.0789], device='cuda:0',\n",
      "       requires_grad=True)\n"
     ]
    },
    {
     "output_type": "stream",
     "name": "stderr",
     "text": [
      "epoch: 27: 100%|██████████| 50/50 [00:01<00:00, 30.37batch/s]\n"
     ]
    },
    {
     "output_type": "stream",
     "name": "stdout",
     "text": [
      "loss training: 0.646204\n",
      "accuracy train: 0.965152 test: 0.963636\n",
      "\n",
      "Parameter containing:\n",
      "tensor([-0.0362, -1.1258, -0.5275, -0.0525], device='cuda:0',\n",
      "       requires_grad=True)\n"
     ]
    },
    {
     "output_type": "stream",
     "name": "stderr",
     "text": [
      "epoch: 28: 100%|██████████| 50/50 [00:01<00:00, 29.70batch/s]\n"
     ]
    },
    {
     "output_type": "stream",
     "name": "stdout",
     "text": [
      "loss training: 0.989288\n",
      "accuracy train: 0.999495 test: 1.000000\n",
      "\n",
      "Parameter containing:\n",
      "tensor([ 0.0033, -1.1132, -0.5519, -0.0466], device='cuda:0',\n",
      "       requires_grad=True)\n"
     ]
    },
    {
     "output_type": "stream",
     "name": "stderr",
     "text": [
      "epoch: 29: 100%|██████████| 50/50 [00:01<00:00, 28.52batch/s]\n"
     ]
    },
    {
     "output_type": "stream",
     "name": "stdout",
     "text": [
      "loss training: 0.486585\n",
      "accuracy train: 0.999495 test: 1.000000\n",
      "\n",
      "Parameter containing:\n",
      "tensor([ 0.0099, -1.1337, -0.5715, -0.0403], device='cuda:0',\n",
      "       requires_grad=True)\n"
     ]
    },
    {
     "output_type": "stream",
     "name": "stderr",
     "text": [
      "epoch: 30: 100%|██████████| 50/50 [00:01<00:00, 25.96batch/s]\n"
     ]
    },
    {
     "output_type": "stream",
     "name": "stdout",
     "text": [
      "loss training: 0.449940\n",
      "accuracy train: 0.956061 test: 0.954545\n",
      "\n",
      "Parameter containing:\n",
      "tensor([-0.0101, -1.1315, -0.5981, -0.0366], device='cuda:0',\n",
      "       requires_grad=True)\n"
     ]
    },
    {
     "output_type": "stream",
     "name": "stderr",
     "text": [
      "epoch: 31: 100%|██████████| 50/50 [00:01<00:00, 27.21batch/s]\n"
     ]
    },
    {
     "output_type": "stream",
     "name": "stdout",
     "text": [
      "loss training: 0.207791\n",
      "accuracy train: 0.996465 test: 0.995455\n",
      "\n",
      "Parameter containing:\n",
      "tensor([-0.0108, -1.1162, -0.6122, -0.0333], device='cuda:0',\n",
      "       requires_grad=True)\n"
     ]
    },
    {
     "output_type": "stream",
     "name": "stderr",
     "text": [
      "epoch: 32: 100%|██████████| 50/50 [00:01<00:00, 28.39batch/s]\n"
     ]
    },
    {
     "output_type": "stream",
     "name": "stdout",
     "text": [
      "loss training: 0.225748\n",
      "accuracy train: 0.991414 test: 0.990909\n",
      "\n",
      "Parameter containing:\n",
      "tensor([-0.0082, -1.0999, -0.6069, -0.0300], device='cuda:0',\n",
      "       requires_grad=True)\n"
     ]
    },
    {
     "output_type": "stream",
     "name": "stderr",
     "text": [
      "epoch: 33: 100%|██████████| 50/50 [00:01<00:00, 29.95batch/s]\n"
     ]
    },
    {
     "output_type": "stream",
     "name": "stdout",
     "text": [
      "loss training: 0.154959\n",
      "accuracy train: 1.000000 test: 1.000000\n",
      "\n",
      "Parameter containing:\n",
      "tensor([-0.0030, -1.1041, -0.6000, -0.0294], device='cuda:0',\n",
      "       requires_grad=True)\n"
     ]
    },
    {
     "output_type": "stream",
     "name": "stderr",
     "text": [
      "epoch: 34: 100%|██████████| 50/50 [00:01<00:00, 29.86batch/s]\n"
     ]
    },
    {
     "output_type": "stream",
     "name": "stdout",
     "text": [
      "loss training: 0.139943\n",
      "accuracy train: 1.000000 test: 1.000000\n",
      "\n",
      "Parameter containing:\n",
      "tensor([ 0.0047, -1.0911, -0.5979, -0.0292], device='cuda:0',\n",
      "       requires_grad=True)\n"
     ]
    },
    {
     "output_type": "stream",
     "name": "stderr",
     "text": [
      "epoch: 35: 100%|██████████| 50/50 [00:01<00:00, 29.94batch/s]\n"
     ]
    },
    {
     "output_type": "stream",
     "name": "stdout",
     "text": [
      "loss training: 0.239111\n",
      "accuracy train: 1.000000 test: 1.000000\n",
      "\n",
      "Parameter containing:\n",
      "tensor([ 0.0166, -1.0864, -0.6038, -0.0277], device='cuda:0',\n",
      "       requires_grad=True)\n"
     ]
    },
    {
     "output_type": "stream",
     "name": "stderr",
     "text": [
      "epoch: 36: 100%|██████████| 50/50 [00:01<00:00, 25.91batch/s]\n"
     ]
    },
    {
     "output_type": "stream",
     "name": "stdout",
     "text": [
      "loss training: 0.140209\n",
      "accuracy train: 1.000000 test: 1.000000\n",
      "\n",
      "Parameter containing:\n",
      "tensor([ 0.0188, -1.0861, -0.6261, -0.0255], device='cuda:0',\n",
      "       requires_grad=True)\n"
     ]
    },
    {
     "output_type": "stream",
     "name": "stderr",
     "text": [
      "epoch: 37: 100%|██████████| 50/50 [00:01<00:00, 30.29batch/s]\n"
     ]
    },
    {
     "output_type": "stream",
     "name": "stdout",
     "text": [
      "loss training: 0.126780\n",
      "accuracy train: 1.000000 test: 1.000000\n",
      "\n",
      "Parameter containing:\n",
      "tensor([ 0.0231, -1.0752, -0.6323, -0.0204], device='cuda:0',\n",
      "       requires_grad=True)\n"
     ]
    },
    {
     "output_type": "stream",
     "name": "stderr",
     "text": [
      "epoch: 38: 100%|██████████| 50/50 [00:01<00:00, 26.97batch/s]\n"
     ]
    },
    {
     "output_type": "stream",
     "name": "stdout",
     "text": [
      "loss training: 0.127596\n",
      "accuracy train: 1.000000 test: 1.000000\n",
      "\n",
      "Parameter containing:\n",
      "tensor([ 0.0336, -1.0699, -0.6300, -0.0171], device='cuda:0',\n",
      "       requires_grad=True)\n"
     ]
    },
    {
     "output_type": "stream",
     "name": "stderr",
     "text": [
      "epoch: 39: 100%|██████████| 50/50 [00:01<00:00, 30.51batch/s]\n"
     ]
    },
    {
     "output_type": "stream",
     "name": "stdout",
     "text": [
      "loss training: 0.162891\n",
      "accuracy train: 0.999495 test: 1.000000\n",
      "\n",
      "Parameter containing:\n",
      "tensor([ 0.0441, -1.0644, -0.6355, -0.0116], device='cuda:0',\n",
      "       requires_grad=True)\n"
     ]
    },
    {
     "output_type": "stream",
     "name": "stderr",
     "text": [
      "epoch: 40: 100%|██████████| 50/50 [00:02<00:00, 24.72batch/s]\n"
     ]
    },
    {
     "output_type": "stream",
     "name": "stdout",
     "text": [
      "loss training: 0.292578\n",
      "accuracy train: 0.997980 test: 0.990909\n",
      "\n",
      "Parameter containing:\n",
      "tensor([ 0.0542, -1.0742, -0.6440, -0.0034], device='cuda:0',\n",
      "       requires_grad=True)\n"
     ]
    },
    {
     "output_type": "stream",
     "name": "stderr",
     "text": [
      "epoch: 41: 100%|██████████| 50/50 [00:01<00:00, 30.43batch/s]\n"
     ]
    },
    {
     "output_type": "stream",
     "name": "stdout",
     "text": [
      "loss training: 0.119505\n",
      "accuracy train: 0.999495 test: 1.000000\n",
      "\n",
      "Parameter containing:\n",
      "tensor([ 0.0691, -1.1046, -0.6602, -0.0045], device='cuda:0',\n",
      "       requires_grad=True)\n"
     ]
    },
    {
     "output_type": "stream",
     "name": "stderr",
     "text": [
      "epoch: 42: 100%|██████████| 50/50 [00:01<00:00, 29.41batch/s]\n"
     ]
    },
    {
     "output_type": "stream",
     "name": "stdout",
     "text": [
      "loss training: 0.388151\n",
      "accuracy train: 0.982323 test: 0.986364\n",
      "\n",
      "Parameter containing:\n",
      "tensor([ 0.0760, -1.1262, -0.6167, -0.0015], device='cuda:0',\n",
      "       requires_grad=True)\n"
     ]
    },
    {
     "output_type": "stream",
     "name": "stderr",
     "text": [
      "epoch: 43: 100%|██████████| 50/50 [00:01<00:00, 30.15batch/s]\n"
     ]
    },
    {
     "output_type": "stream",
     "name": "stdout",
     "text": [
      "loss training: 0.347908\n",
      "accuracy train: 0.969192 test: 0.968182\n",
      "\n",
      "Parameter containing:\n",
      "tensor([ 0.0627, -1.1308, -0.7427,  0.0081], device='cuda:0',\n",
      "       requires_grad=True)\n"
     ]
    },
    {
     "output_type": "stream",
     "name": "stderr",
     "text": [
      "epoch: 44: 100%|██████████| 50/50 [00:01<00:00, 29.65batch/s]\n"
     ]
    },
    {
     "output_type": "stream",
     "name": "stdout",
     "text": [
      "loss training: 1.032282\n",
      "accuracy train: 0.971717 test: 0.968182\n",
      "\n",
      "Parameter containing:\n",
      "tensor([ 0.1143, -1.2079, -0.8270,  0.0112], device='cuda:0',\n",
      "       requires_grad=True)\n"
     ]
    },
    {
     "output_type": "stream",
     "name": "stderr",
     "text": [
      "epoch: 45: 100%|██████████| 50/50 [00:01<00:00, 27.23batch/s]\n"
     ]
    },
    {
     "output_type": "stream",
     "name": "stdout",
     "text": [
      "loss training: 2.116520\n",
      "accuracy train: 0.942929 test: 0.940909\n",
      "\n",
      "Parameter containing:\n",
      "tensor([ 0.2722, -1.3474, -0.9454,  0.0504], device='cuda:0',\n",
      "       requires_grad=True)\n"
     ]
    },
    {
     "output_type": "stream",
     "name": "stderr",
     "text": [
      "epoch: 46: 100%|██████████| 50/50 [00:01<00:00, 27.47batch/s]\n"
     ]
    },
    {
     "output_type": "stream",
     "name": "stdout",
     "text": [
      "loss training: 1.382790\n",
      "accuracy train: 0.954545 test: 0.954545\n",
      "\n",
      "Parameter containing:\n",
      "tensor([ 0.2192, -1.3376, -0.9841,  0.0453], device='cuda:0',\n",
      "       requires_grad=True)\n"
     ]
    },
    {
     "output_type": "stream",
     "name": "stderr",
     "text": [
      "epoch: 47: 100%|██████████| 50/50 [00:01<00:00, 26.61batch/s]\n"
     ]
    },
    {
     "output_type": "stream",
     "name": "stdout",
     "text": [
      "loss training: 0.660665\n",
      "accuracy train: 0.998485 test: 1.000000\n",
      "\n",
      "Parameter containing:\n",
      "tensor([ 0.1111, -1.3184, -1.0407,  0.0553], device='cuda:0',\n",
      "       requires_grad=True)\n"
     ]
    },
    {
     "output_type": "stream",
     "name": "stderr",
     "text": [
      "epoch: 48: 100%|██████████| 50/50 [00:01<00:00, 26.34batch/s]\n"
     ]
    },
    {
     "output_type": "stream",
     "name": "stdout",
     "text": [
      "loss training: 0.586446\n",
      "accuracy train: 0.983333 test: 0.995455\n",
      "\n",
      "Parameter containing:\n",
      "tensor([ 0.0789, -1.3250, -0.9844,  0.0658], device='cuda:0',\n",
      "       requires_grad=True)\n"
     ]
    },
    {
     "output_type": "stream",
     "name": "stderr",
     "text": [
      "epoch: 49: 100%|██████████| 50/50 [00:01<00:00, 26.83batch/s]\n"
     ]
    },
    {
     "output_type": "stream",
     "name": "stdout",
     "text": [
      "loss training: 0.847557\n",
      "accuracy train: 0.996465 test: 0.995455\n",
      "\n",
      "Parameter containing:\n",
      "tensor([ 0.0495, -1.3237, -1.0432,  0.0761], device='cuda:0',\n",
      "       requires_grad=True)\n"
     ]
    },
    {
     "output_type": "stream",
     "name": "stderr",
     "text": [
      "epoch: 50: 100%|██████████| 50/50 [00:01<00:00, 30.11batch/s]\n"
     ]
    },
    {
     "output_type": "stream",
     "name": "stdout",
     "text": [
      "loss training: 0.839045\n",
      "accuracy train: 0.996465 test: 0.990909\n",
      "\n",
      "Parameter containing:\n",
      "tensor([ 0.0149, -1.3099, -1.0607,  0.0873], device='cuda:0',\n",
      "       requires_grad=True)\n"
     ]
    },
    {
     "output_type": "stream",
     "name": "stderr",
     "text": [
      "epoch: 51: 100%|██████████| 50/50 [00:01<00:00, 30.99batch/s]\n"
     ]
    },
    {
     "output_type": "stream",
     "name": "stdout",
     "text": [
      "loss training: 0.343640\n",
      "accuracy train: 1.000000 test: 1.000000\n",
      "\n",
      "Parameter containing:\n",
      "tensor([-1.0966e-03, -1.2978e+00, -1.0953e+00,  8.7959e-02], device='cuda:0',\n",
      "       requires_grad=True)\n"
     ]
    },
    {
     "output_type": "stream",
     "name": "stderr",
     "text": [
      "epoch: 52: 100%|██████████| 50/50 [00:01<00:00, 30.05batch/s]\n"
     ]
    },
    {
     "output_type": "stream",
     "name": "stdout",
     "text": [
      "loss training: 0.153198\n",
      "accuracy train: 1.000000 test: 1.000000\n",
      "\n",
      "Parameter containing:\n",
      "tensor([-1.7171e-04, -1.2936e+00, -1.1067e+00,  8.9682e-02], device='cuda:0',\n",
      "       requires_grad=True)\n"
     ]
    },
    {
     "output_type": "stream",
     "name": "stderr",
     "text": [
      "epoch: 53: 100%|██████████| 50/50 [00:01<00:00, 30.76batch/s]\n"
     ]
    },
    {
     "output_type": "stream",
     "name": "stdout",
     "text": [
      "loss training: 0.150596\n",
      "accuracy train: 1.000000 test: 1.000000\n",
      "\n",
      "Parameter containing:\n",
      "tensor([-0.0033, -1.2996, -1.1103,  0.0902], device='cuda:0',\n",
      "       requires_grad=True)\n"
     ]
    },
    {
     "output_type": "stream",
     "name": "stderr",
     "text": [
      "epoch: 54: 100%|██████████| 50/50 [00:01<00:00, 30.45batch/s]\n"
     ]
    },
    {
     "output_type": "stream",
     "name": "stdout",
     "text": [
      "loss training: 0.127170\n",
      "accuracy train: 1.000000 test: 1.000000\n",
      "\n",
      "Parameter containing:\n",
      "tensor([-0.0057, -1.2951, -1.1086,  0.0891], device='cuda:0',\n",
      "       requires_grad=True)\n"
     ]
    },
    {
     "output_type": "stream",
     "name": "stderr",
     "text": [
      "epoch: 55: 100%|██████████| 50/50 [00:01<00:00, 30.56batch/s]\n"
     ]
    },
    {
     "output_type": "stream",
     "name": "stdout",
     "text": [
      "loss training: 0.116511\n",
      "accuracy train: 1.000000 test: 1.000000\n",
      "\n",
      "Parameter containing:\n",
      "tensor([-0.0026, -1.2908, -1.1063,  0.0882], device='cuda:0',\n",
      "       requires_grad=True)\n"
     ]
    },
    {
     "output_type": "stream",
     "name": "stderr",
     "text": [
      "epoch: 56: 100%|██████████| 50/50 [00:01<00:00, 27.77batch/s]\n"
     ]
    },
    {
     "output_type": "stream",
     "name": "stdout",
     "text": [
      "loss training: 0.093101\n",
      "accuracy train: 1.000000 test: 1.000000\n",
      "\n",
      "Parameter containing:\n",
      "tensor([ 8.2472e-05, -1.2872e+00, -1.1100e+00,  8.8516e-02], device='cuda:0',\n",
      "       requires_grad=True)\n"
     ]
    },
    {
     "output_type": "stream",
     "name": "stderr",
     "text": [
      "epoch: 57: 100%|██████████| 50/50 [00:01<00:00, 25.18batch/s]\n"
     ]
    },
    {
     "output_type": "stream",
     "name": "stdout",
     "text": [
      "loss training: 0.116294\n",
      "accuracy train: 1.000000 test: 1.000000\n",
      "\n",
      "Parameter containing:\n",
      "tensor([ 0.0022, -1.2808, -1.1135,  0.0898], device='cuda:0',\n",
      "       requires_grad=True)\n"
     ]
    },
    {
     "output_type": "stream",
     "name": "stderr",
     "text": [
      "epoch: 58: 100%|██████████| 50/50 [00:01<00:00, 25.45batch/s]\n"
     ]
    },
    {
     "output_type": "stream",
     "name": "stdout",
     "text": [
      "loss training: 0.143449\n",
      "accuracy train: 1.000000 test: 1.000000\n",
      "\n",
      "Parameter containing:\n",
      "tensor([ 0.0013, -1.2739, -1.1254,  0.0900], device='cuda:0',\n",
      "       requires_grad=True)\n"
     ]
    },
    {
     "output_type": "stream",
     "name": "stderr",
     "text": [
      "epoch: 59: 100%|██████████| 50/50 [00:01<00:00, 27.58batch/s]\n"
     ]
    },
    {
     "output_type": "stream",
     "name": "stdout",
     "text": [
      "loss training: 0.137833\n",
      "accuracy train: 1.000000 test: 1.000000\n",
      "\n",
      "Parameter containing:\n",
      "tensor([ 0.0020, -1.2767, -1.1224,  0.0884], device='cuda:0',\n",
      "       requires_grad=True)\n"
     ]
    },
    {
     "output_type": "stream",
     "name": "stderr",
     "text": [
      "epoch: 60: 100%|██████████| 50/50 [00:01<00:00, 31.06batch/s]\n"
     ]
    },
    {
     "output_type": "stream",
     "name": "stdout",
     "text": [
      "loss training: 0.118250\n",
      "accuracy train: 1.000000 test: 1.000000\n",
      "\n",
      "Parameter containing:\n",
      "tensor([-0.0048, -1.2779, -1.1271,  0.0817], device='cuda:0',\n",
      "       requires_grad=True)\n"
     ]
    }
   ],
   "metadata": {}
  },
  {
   "cell_type": "code",
   "execution_count": 5,
   "source": [
    "output = pass_data_iteratively(model, graphs)"
   ],
   "outputs": [],
   "metadata": {}
  },
  {
   "cell_type": "code",
   "execution_count": 6,
   "source": [
    "import time\n",
    "import pandas as pd\n",
    "import numpy as np\n",
    "import matplotlib.pyplot as plt\n",
    "import matplotlib.patheffects as PathEffects\n",
    "%matplotlib inline\n",
    "\n",
    "import seaborn as sns\n",
    "sns.set_style('darkgrid')\n",
    "sns.set_palette('muted')\n",
    "sns.set_context(\"notebook\", font_scale=1.5,\n",
    "                rc={\"lines.linewidth\": 2.5})\n",
    "\n",
    "def fashion_scatter(x, colors):\n",
    "    # choose a color palette with seaborn.\n",
    "    num_classes = len(np.unique(colors))\n",
    "    palette = np.array(sns.color_palette(\"hls\", num_classes))\n",
    "\n",
    "    # create a scatter plot.\n",
    "    f = plt.figure(figsize=(8, 8))\n",
    "    ax = plt.subplot(aspect='equal')\n",
    "    sc = ax.scatter(x[:,0], x[:,1], lw=0, s=40, c=palette[colors.astype(np.int)])\n",
    "    plt.xlim(-25, 25)\n",
    "    plt.ylim(-25, 25)\n",
    "    ax.axis('tight')\n",
    "\n",
    "    # add the labels for each digit corresponding to the label\n",
    "    txts = []\n",
    "\n",
    "    for i in range(num_classes):\n",
    "\n",
    "        # Position of each label at median of data points.\n",
    "\n",
    "        xtext, ytext = np.median(x[colors == i, :], axis=0)\n",
    "        txt = ax.text(xtext, ytext, str(i), fontsize=24)\n",
    "        txt.set_path_effects([\n",
    "            PathEffects.Stroke(linewidth=5, foreground=\"w\"),\n",
    "            PathEffects.Normal()])\n",
    "        txts.append(txt)\n",
    "\n",
    "    return f, ax, sc, txts"
   ],
   "outputs": [],
   "metadata": {}
  },
  {
   "cell_type": "code",
   "execution_count": 7,
   "source": [
    "X=output.cpu()\n",
    "y = np.array([g.label for g in graphs])\n",
    "############################################################\n",
    "from sklearn.manifold import TSNE\n",
    "import time\n",
    "time_start = time.time()\n",
    "\n",
    "fashion_tsne = TSNE(random_state=0).fit_transform(X)\n",
    "fashion_scatter(fashion_tsne, y)"
   ],
   "outputs": [
    {
     "output_type": "stream",
     "name": "stderr",
     "text": [
      "ipykernel_launcher:22: DeprecationWarning: `np.int` is a deprecated alias for the builtin `int`. To silence this warning, use `int` by itself. Doing this will not modify any behavior and is safe. When replacing `np.int`, you may wish to use e.g. `np.int64` or `np.int32` to specify the precision. If you wish to review your current use, check the release note link for additional information.\n",
      "Deprecated in NumPy 1.20; for more details and guidance: https://numpy.org/devdocs/release/1.20.0-notes.html#deprecations\n"
     ]
    },
    {
     "output_type": "execute_result",
     "data": {
      "text/plain": [
       "(<Figure size 576x576 with 1 Axes>,\n",
       " <matplotlib.axes._subplots.AxesSubplot at 0x7fedc6d79050>,\n",
       " <matplotlib.collections.PathCollection at 0x7fedbdbf3310>,\n",
       " [Text(-23.4869,-46.565,'0'),\n",
       "  Text(41.7959,5.83413,'1'),\n",
       "  Text(-21.6425,-15.6149,'2'),\n",
       "  Text(4.51067,27.2513,'3'),\n",
       "  Text(-61.3414,8.06848,'4'),\n",
       "  Text(56.8397,-24.4721,'5')])"
      ]
     },
     "metadata": {},
     "execution_count": 7
    },
    {
     "output_type": "display_data",
     "data": {
      "image/png": "[encoded data removed]",
      "text/plain": [
       "<Figure size 576x576 with 1 Axes>"
      ]
     },
     "metadata": {
      "needs_background": "light"
     }
    }
   ],
   "metadata": {}
  },
  {
   "cell_type": "code",
   "execution_count": 8,
   "source": [
    "np.unique(y)"
   ],
   "outputs": [
    {
     "output_type": "execute_result",
     "data": {
      "text/plain": [
       "array([0, 1, 2, 3, 4, 5])"
      ]
     },
     "metadata": {},
     "execution_count": 8
    }
   ],
   "metadata": {}
  },
  {
   "cell_type": "code",
   "execution_count": 9,
   "source": [
    "import networkx as nx\n",
    "from scipy import linalg\n",
    "## Coming from https://github.com/mseitzer/pytorch-fid\n",
    "def compute_FID(mu1, mu2, cov1, cov2, eps = 1e-6):\n",
    "    assert mu1.shape == mu2.shape, \\\n",
    "        'Training and test mean vectors have different lengths'\n",
    "    assert cov1.shape == cov2.shape, \\\n",
    "        'Training and test covariances have different dimensions'\n",
    "\n",
    "    diff = mu1 - mu2\n",
    "    # Product might be almost singular\n",
    "    covmean, _ = linalg.sqrtm(cov1.dot(cov2), disp=False)\n",
    "    if not np.isfinite(covmean).all():\n",
    "        msg = ('fid calculation produces singular product; '\n",
    "                'adding %s to diagonal of cov estimates') % eps\n",
    "        print(msg)\n",
    "        offset = np.eye(cov1.shape[0]) * eps\n",
    "        covmean = linalg.sqrtm((cov1 + offset).dot(cov2 + offset))\n",
    "\n",
    "    # Numerical error might give slight imaginary component\n",
    "    if np.iscomplexobj(covmean):\n",
    "        if not np.allclose(np.diagonal(covmean).imag, 0, atol=1e-3):\n",
    "            m = np.max(np.abs(covmean.imag))\n",
    "            raise ValueError('Imaginary component {}'.format(m))\n",
    "        covmean = covmean.real\n",
    "\n",
    "    tr_covmean = np.trace(covmean)\n",
    "\n",
    "    return (diff.dot(diff) + np.trace(cov1) +\n",
    "            np.trace(cov2) - 2 * tr_covmean)\n",
    "\n",
    "def compute_fid(ref_graph,ref_label,pred_graph,model):\n",
    "    device = 0\n",
    "    num_layers = 5\n",
    "    num_mlp_layers = 2\n",
    "    hidden_dim = 64\n",
    "    final_dropout = 0.5\n",
    "    graph_pooling_type = \"sum\"\n",
    "    neighbor_pooling_type = \"sum\"\n",
    "    learn_eps = False\n",
    "    \n",
    "    #set up seeds and gpu device\n",
    "    torch.manual_seed(0)\n",
    "    np.random.seed(0)\n",
    "    device = torch.device(\"cuda:\" + str(device)) if torch.cuda.is_available() else torch.device(\"cpu\")\n",
    "    if torch.cuda.is_available():\n",
    "        torch.cuda.manual_seed_all(0)\n",
    "    #model = GraphCNN(num_layers, num_mlp_layers, train_graphs[0].node_features.shape[1], hidden_dim, 5, final_dropout, learn_eps, graph_pooling_type, neighbor_pooling_type, 'cpu').to('cpu')\n",
    "    #model.load_checkpoint()\n",
    "    #model.eval()\n",
    "\n",
    "\n",
    "    with torch.no_grad():\n",
    "        embed_graphs_ref = model.get_graph_embed_sum(ref_graph)\n",
    "        embed_graphs_ref=embed_graphs_ref.cpu().detach().numpy()\n",
    "        mu_ref = np.mean(embed_graphs_ref, axis = 0)\n",
    "        cov_ref = np.cov(embed_graphs_ref, rowvar = False)\n",
    "\n",
    "        embed_graphs_pred = model.get_graph_embed_sum(pred_graph)\n",
    "        embed_graphs_pred=embed_graphs_pred.cpu().detach().numpy()\n",
    "        mu_pred = np.mean(embed_graphs_pred, axis = 0)\n",
    "        cov_pred = np.cov(embed_graphs_pred, rowvar = False)\n",
    "\n",
    "    fid = compute_FID(mu_ref,mu_pred,cov_ref,cov_pred)\n",
    "    return fid\n",
    "\n",
    "def test_acc(model, device, train_graphs):\n",
    "    model.eval()\n",
    "\n",
    "    output = pass_data_iteratively(model, train_graphs)\n",
    "    pred = output.max(1, keepdim=True)[1]\n",
    "    labels = torch.LongTensor([graph.label for graph in train_graphs]).to(device)\n",
    "    correct = pred.eq(labels.view_as(pred)).sum().cpu().item()\n",
    "    acc = float(correct / float(len(train_graphs)))\n",
    "\n",
    "\n",
    "    print(\"accuracy : %f\" % (acc))\n",
    "\n",
    "    return acc"
   ],
   "outputs": [],
   "metadata": {}
  },
  {
   "cell_type": "code",
   "execution_count": 10,
   "source": [
    "from util import load_graph_list\n",
    "graph_grid_test=load_graph_list('saved_graphs/grid_test.p',False)\n",
    "graph_grid_gen=load_graph_list('generated_graphs/grid_GRANMixtureBernoulli_DFS.p',False)\n",
    "graph2= []\n",
    "npr = np.random.RandomState(1)\n",
    "npr.shuffle(graph_grid_test)\n",
    "graph_grid_test=graph_grid_test[:100]\n",
    "for k in range(10,20):\n",
    "    for j in range(10,20):\n",
    "        graph2.append(nx.grid_2d_graph(k,j))\n",
    "graph_grid_gen_rnn=load_graph_list('generated_graphs/grid_RNN_BFS.p',False)\n",
    "graph_grid_gen_mlp=load_graph_list('generated_graphs/grid_RNN_MLP_BFS.p',False)\n",
    "g_list_ref,_ = load_graph_asS2Vgraph(graph_grid_test,5,random,tagset , lentagset)\n",
    "g_list_pred,_ = load_graph_asS2Vgraph(graph_grid_gen,5,random, tagset , lentagset)\n",
    "g_list_pred2,_ = load_graph_asS2Vgraph(graph2,5,random, tagset , lentagset)\n",
    "g_list_pred_rnn,_ = load_graph_asS2Vgraph(graph_grid_gen_rnn,5,random, tagset , lentagset)\n",
    "g_list_pred_mlp,_ = load_graph_asS2Vgraph(graph_grid_gen_mlp,5,random, tagset , lentagset)\n",
    "print(compute_fid(g_list_ref,2,g_list_pred2,model))\n",
    "print(compute_fid(g_list_ref,2,g_list_pred,model))\n",
    "print(compute_fid(g_list_ref,2,g_list_pred_rnn,model))\n",
    "print(compute_fid(g_list_ref,2,g_list_pred_mlp,model))\n",
    "test_acc(model,'cuda:0',g_list_ref)\n",
    "test_acc(model,'cuda:0',g_list_pred)\n",
    "test_acc(model,'cuda:0',g_list_pred_rnn)\n",
    "test_acc(model,'cuda:0',g_list_pred_mlp)"
   ],
   "outputs": [
    {
     "output_type": "stream",
     "name": "stdout",
     "text": [
      "# classes: 1\n",
      "# maximum node tag: 3\n",
      "# data: 100\n",
      "# classes: 1\n",
      "# maximum node tag: 4\n",
      "# data: 100\n",
      "# classes: 1\n",
      "# maximum node tag: 3\n",
      "# data: 100\n",
      "# classes: 1\n",
      "# maximum node tag: 8\n",
      "# data: 100\n",
      "# classes: 1\n",
      "# maximum node tag: 8\n",
      "# data: 100\n",
      "10.546660790896567\n",
      "1757.1287410703262\n",
      "40893.56887614438\n",
      "57068.91785155856\n",
      "accuracy : 1.000000\n",
      "accuracy : 0.990000\n",
      "accuracy : 0.620000\n",
      "accuracy : 0.060000\n"
     ]
    },
    {
     "output_type": "execute_result",
     "data": {
      "text/plain": [
       "0.06"
      ]
     },
     "metadata": {},
     "execution_count": 10
    }
   ],
   "metadata": {}
  },
  {
   "cell_type": "code",
   "execution_count": 11,
   "source": [
    "graph_ba_test=load_graph_list('saved_graphs/barabasi_test.p',False)\n",
    "npr = np.random.RandomState(1)\n",
    "npr.shuffle(graph_ba_test)\n",
    "graph_ba_test=graph_ba_test[:500]\n",
    "graph_ba_gen_dd=load_graph_list('generated_graphs/barabasi_GRANMixtureBernoulli_degree_decent.p',False)\n",
    "graph_ba_gen_bfs=load_graph_list('generated_graphs/barabasi_GRANMixtureBernoulli_BFS.p',False)\n",
    "graph_ba_gen_dfs=load_graph_list('generated_graphs/barabasi_GRANMixtureBernoulli_DFS.p',False)\n",
    "graph_ba_gen_kcore=load_graph_list('generated_graphs/barabasi_GRANMixtureBernoulli_k_core.p',False)\n",
    "graph_ba_gen_noorder=load_graph_list('generated_graphs/barabasi_GRANMixtureBernoulli_no_order.p',False)\n",
    "graph_ba_regen=[]\n",
    "for i in range(100,200):\n",
    "    for j in range(5):\n",
    "        g=nx.barabasi_albert_graph(i,4)\n",
    "        graph_ba_regen.append(g)\n",
    "g_list_ref_ba,_ = load_graph_asS2Vgraph(graph_ba_test,2,random, tagset , lentagset)\n",
    "g_list_ref_ba_regen,_ = load_graph_asS2Vgraph(graph_ba_regen,2,random, tagset , lentagset)\n",
    "g_list_ref_ba_dd,_ = load_graph_asS2Vgraph(graph_ba_gen_dd,2,random, tagset , lentagset)\n",
    "g_list_ref_ba_bfs,_ = load_graph_asS2Vgraph(graph_ba_gen_bfs,2,random, tagset , lentagset)\n",
    "g_list_ref_ba_dfs,_ = load_graph_asS2Vgraph(graph_ba_gen_dfs,2,random, tagset , lentagset)\n",
    "g_list_ref_ba_kcore,_ = load_graph_asS2Vgraph(graph_ba_gen_kcore,2,random, tagset , lentagset)\n",
    "g_list_ref_ba_no,_ = load_graph_asS2Vgraph(graph_ba_gen_noorder,2,random, tagset , lentagset)\n",
    "print(compute_fid(g_list_ref_ba,2,g_list_ref_ba_regen,model))\n",
    "print(compute_fid(g_list_ref_ba,2,g_list_ref_ba_dd,model))\n",
    "print(compute_fid(g_list_ref_ba,2,g_list_ref_ba_bfs,model))\n",
    "print(compute_fid(g_list_ref_ba,2,g_list_ref_ba_dfs,model))\n",
    "print(compute_fid(g_list_ref_ba,2,g_list_ref_ba_kcore,model))\n",
    "print(compute_fid(g_list_ref_ba,2,g_list_ref_ba_no,model))\n",
    "\n",
    "test_acc(model,'cuda:0',g_list_ref_ba)\n",
    "test_acc(model,'cuda:0',g_list_ref_ba_dd)\n",
    "test_acc(model,'cuda:0',g_list_ref_ba_bfs)\n",
    "test_acc(model,'cuda:0',g_list_ref_ba_dfs)\n",
    "test_acc(model,'cuda:0',g_list_ref_ba_kcore)\n",
    "test_acc(model,'cuda:0',g_list_ref_ba_no)"
   ],
   "outputs": [
    {
     "output_type": "stream",
     "name": "stdout",
     "text": [
      "# classes: 1\n",
      "# maximum node tag: 63\n",
      "# data: 500\n",
      "# classes: 1\n",
      "# maximum node tag: 66\n",
      "# data: 500\n",
      "# classes: 1\n",
      "# maximum node tag: 65\n",
      "# data: 500\n",
      "# classes: 1\n",
      "# maximum node tag: 64\n",
      "# data: 500\n",
      "# classes: 1\n",
      "# maximum node tag: 69\n",
      "# data: 500\n",
      "# classes: 1\n",
      "# maximum node tag: 58\n",
      "# data: 500\n",
      "# classes: 1\n",
      "# maximum node tag: 66\n",
      "# data: 500\n",
      "134.70335396096925\n",
      "12992.832628891818\n",
      "23287.256740004377\n",
      "39634.11826801114\n",
      "13096.858524394556\n",
      "51942.69099179399\n",
      "accuracy : 1.000000\n",
      "accuracy : 0.996000\n",
      "accuracy : 0.998000\n",
      "accuracy : 0.996000\n",
      "accuracy : 0.996000\n",
      "accuracy : 1.000000\n"
     ]
    },
    {
     "output_type": "execute_result",
     "data": {
      "text/plain": [
       "1.0"
      ]
     },
     "metadata": {},
     "execution_count": 11
    }
   ],
   "metadata": {}
  },
  {
   "cell_type": "code",
   "execution_count": 12,
   "source": [
    "graph_ws_test=load_graph_list('saved_graphs/watts_test.p',False)\n",
    "npr = np.random.RandomState(1)\n",
    "npr.shuffle(graph_ws_test)\n",
    "graph_ws_test=graph_ba_test[:500]\n",
    "graph_ws_gen_dd=load_graph_list('generated_graphs/wattsSW_GRANMixtureBernoulli_degree_descent.p',False)\n",
    "graph_ws_gen_bfs=load_graph_list('generated_graphs/wattsSW_GRANMixtureBernoulli_BFS.p',False)\n",
    "graph_ws_gen_dfs=load_graph_list('generated_graphs/wattsSW_GRANMixtureBernoulli_DFS.p',False)\n",
    "graph_ws_gen_kcore=load_graph_list('generated_graphs/wattsSW_GRANMixtureBernoulli_k_core.p',False)\n",
    "graph_ws_gen_noorder=load_graph_list('generated_graphs/wattsSW_GRANMixtureBernoulli_no_order.p',False)\n",
    "graph_ws_regen=[]\n",
    "for i in range(100,200):\n",
    "    for j in range(5):\n",
    "        g=nx.watts_strogatz_graph(i,4,0.1)\n",
    "        graph_ws_regen.append(g)\n",
    "g_list_ref_ws,_ = load_graph_asS2Vgraph(graph_ws_test,1,random, tagset , lentagset)\n",
    "g_list_ref_ws_regen,_ = load_graph_asS2Vgraph(graph_ws_regen,1,random, tagset , lentagset)\n",
    "g_list_ref_ws_dd,_ = load_graph_asS2Vgraph(graph_ws_gen_dd,1,random, tagset , lentagset)\n",
    "g_list_ref_ws_bfs,_ = load_graph_asS2Vgraph(graph_ws_gen_bfs,1,random, tagset , lentagset)\n",
    "g_list_ref_ws_dfs,_ = load_graph_asS2Vgraph(graph_ws_gen_dfs,1,random, tagset , lentagset)\n",
    "g_list_ref_ws_kcore,_ = load_graph_asS2Vgraph(graph_ws_gen_kcore,1,random, tagset , lentagset)\n",
    "g_list_ref_ws_no,_ = load_graph_asS2Vgraph(graph_ws_gen_noorder,1,random, tagset , lentagset)\n",
    "print(compute_fid(g_list_ref_ws,1,g_list_ref_ws_regen,model))\n",
    "print(compute_fid(g_list_ref_ws,1,g_list_ref_ws_dd,model))\n",
    "print(compute_fid(g_list_ref_ws,1,g_list_ref_ws_bfs,model))\n",
    "print(compute_fid(g_list_ref_ws,1,g_list_ref_ws_dfs,model))\n",
    "print(compute_fid(g_list_ref_ws,1,g_list_ref_ws_kcore,model))\n",
    "print(compute_fid(g_list_ref_ws,1,g_list_ref_ws_no,model))\n",
    "\n",
    "test_acc(model,'cuda:0',g_list_ref_ws)\n",
    "test_acc(model,'cuda:0',g_list_ref_ws_dd)\n",
    "test_acc(model,'cuda:0',g_list_ref_ws_bfs)\n",
    "test_acc(model,'cuda:0',g_list_ref_ws_dfs)\n",
    "test_acc(model,'cuda:0',g_list_ref_ws_kcore)\n",
    "test_acc(model,'cuda:0',g_list_ref_ws_no)"
   ],
   "outputs": [
    {
     "output_type": "stream",
     "name": "stdout",
     "text": [
      "# classes: 1\n",
      "# maximum node tag: 63\n",
      "# data: 500\n",
      "# classes: 1\n",
      "# maximum node tag: 7\n",
      "# data: 500\n",
      "# classes: 1\n",
      "# maximum node tag: 16\n",
      "# data: 500\n",
      "# classes: 1\n",
      "# maximum node tag: 29\n",
      "# data: 500\n",
      "# classes: 1\n",
      "# maximum node tag: 10\n",
      "# data: 500\n",
      "# classes: 1\n",
      "# maximum node tag: 10\n",
      "# data: 500\n",
      "# classes: 1\n",
      "# maximum node tag: 25\n",
      "# data: 500\n",
      "216058.07199987827\n",
      "212858.14044479723\n",
      "175237.88003746438\n",
      "211410.61271011838\n",
      "204524.7686193012\n",
      "211789.92593212583\n",
      "accuracy : 0.000000\n",
      "accuracy : 0.994000\n",
      "accuracy : 0.950000\n",
      "accuracy : 0.990000\n",
      "accuracy : 0.986000\n",
      "accuracy : 1.000000\n"
     ]
    },
    {
     "output_type": "execute_result",
     "data": {
      "text/plain": [
       "1.0"
      ]
     },
     "metadata": {},
     "execution_count": 12
    }
   ],
   "metadata": {}
  },
  {
   "cell_type": "code",
   "execution_count": 13,
   "source": [
    "def n_community(c_sizes, p_inter=0.01):\n",
    "    graphs = [nx.gnp_random_graph(c_sizes[i], 0.7, seed=i) for i in range(len(c_sizes))]\n",
    "    G = nx.disjoint_union_all(graphs)\n",
    "    communities = [G.subgraph(c) for c in nx.connected_components(G)]\n",
    "    for i in range(len(communities)):\n",
    "        subG1 = communities[i]\n",
    "        nodes1 = list(subG1.nodes())\n",
    "        for j in range(i + 1, len(communities)):\n",
    "            subG2 = communities[j]\n",
    "            nodes2 = list(subG2.nodes())\n",
    "            has_inter_edge = False\n",
    "            for n1 in nodes1:\n",
    "                for n2 in nodes2:\n",
    "                    if np.random.rand() < p_inter:\n",
    "                        G.add_edge(n1, n2)\n",
    "                        has_inter_edge = True\n",
    "            if not has_inter_edge:\n",
    "                G.add_edge(nodes1[0], nodes2[0])\n",
    "    # print('connected comp: ', len(list(nx.connected_component_subgraphs(G))))\n",
    "    return G\n",
    "\n",
    "graph_com2_test=load_graph_list('saved_graphs/community2_test.p',False)\n",
    "graph_com2_gen_dd=load_graph_list('generated_graphs/community2small_GRANMixtureBernoulli_DFS.p',False)\n",
    "graph3=[]\n",
    "for i in range(500):\n",
    "    c_sizes = np.random.choice(list(range(12, 17)), 2)\n",
    "    graph3.append(n_community(c_sizes, p_inter=0.05))\n",
    "g_list_ref_com2,_ = load_graph_asS2Vgraph(graph_com2_test,3,random, tagset , lentagset)\n",
    "g_list_pred_com2,_ = load_graph_asS2Vgraph(graph_com2_gen_dd,3,random, tagset , lentagset)\n",
    "g_list_pred_com3,_ = load_graph_asS2Vgraph(graph3,3,random, tagset , lentagset)\n",
    "print(compute_fid(g_list_ref_com2,2,g_list_pred_com2,model))\n",
    "print(compute_fid(g_list_ref_com2,2,g_list_pred_com3,model))\n",
    "test_acc(model,'cuda:0',g_list_ref_com2)\n",
    "test_acc(model,'cuda:0',g_list_pred_com2)"
   ],
   "outputs": [
    {
     "output_type": "stream",
     "name": "stdout",
     "text": [
      "# classes: 1\n",
      "# maximum node tag: 15\n",
      "# data: 500\n",
      "# classes: 1\n",
      "# maximum node tag: 17\n",
      "# data: 500\n",
      "# classes: 1\n",
      "# maximum node tag: 15\n",
      "# data: 500\n",
      "45.66446075860176\n",
      "1.4965780199312348\n",
      "accuracy : 1.000000\n",
      "accuracy : 1.000000\n"
     ]
    },
    {
     "output_type": "execute_result",
     "data": {
      "text/plain": [
       "1.0"
      ]
     },
     "metadata": {},
     "execution_count": 13
    }
   ],
   "metadata": {}
  },
  {
   "cell_type": "code",
   "execution_count": 14,
   "source": [
    "def test_acc(model, device, train_graphs):\n",
    "    model.eval()\n",
    "\n",
    "    output = pass_data_iteratively(model, train_graphs)\n",
    "    pred = output.max(1, keepdim=True)[1]\n",
    "    labels = torch.LongTensor([graph.label for graph in train_graphs]).to(device)\n",
    "    correct = pred.eq(labels.view_as(pred)).sum().cpu().item()\n",
    "    acc = float(correct / float(len(train_graphs)))\n",
    "\n",
    "\n",
    "    print(\"accuracy : %f\" % (acc))\n",
    "\n",
    "    return acc\n",
    "\n",
    "def n_community(c_sizes, p_inter=0.01):\n",
    "    graphs = [nx.gnp_random_graph(c_sizes[i], 0.7, seed=i) for i in range(len(c_sizes))]\n",
    "    G = nx.disjoint_union_all(graphs)\n",
    "    communities = [G.subgraph(c) for c in nx.connected_components(G)]\n",
    "    for i in range(len(communities)):\n",
    "        subG1 = communities[i]\n",
    "        nodes1 = list(subG1.nodes())\n",
    "        for j in range(i + 1, len(communities)):\n",
    "            subG2 = communities[j]\n",
    "            nodes2 = list(subG2.nodes())\n",
    "            has_inter_edge = False\n",
    "            for n1 in nodes1:\n",
    "                for n2 in nodes2:\n",
    "                    if np.random.rand() < p_inter:\n",
    "                        G.add_edge(n1, n2)\n",
    "                        has_inter_edge = True\n",
    "            if not has_inter_edge:\n",
    "                G.add_edge(nodes1[0], nodes2[0])\n",
    "    # print('connected comp: ', len(list(nx.connected_component_subgraphs(G))))\n",
    "    return G\n",
    "\n",
    "test_acc(model,'cuda:0',g_list_pred_rnn)"
   ],
   "outputs": [
    {
     "output_type": "stream",
     "name": "stdout",
     "text": [
      "accuracy : 0.620000\n"
     ]
    },
    {
     "output_type": "execute_result",
     "data": {
      "text/plain": [
       "0.62"
      ]
     },
     "metadata": {},
     "execution_count": 14
    }
   ],
   "metadata": {}
  }
 ],
 "metadata": {
  "kernelspec": {
   "name": "python3",
   "display_name": "Python 3.7.10 64-bit ('graphRL': conda)"
  },
  "language_info": {
   "codemirror_mode": {
    "name": "ipython",
    "version": 3
   },
   "file_extension": ".py",
   "mimetype": "text/x-python",
   "name": "python",
   "nbconvert_exporter": "python",
   "pygments_lexer": "ipython3",
   "version": "3.7.10"
  },
  "interpreter": {
   "hash": "3d0494937803f43eb53306e8569b34e94f10729ff691099c0010227141b076fc"
  }
 },
 "nbformat": 4,
 "nbformat_minor": 2
}