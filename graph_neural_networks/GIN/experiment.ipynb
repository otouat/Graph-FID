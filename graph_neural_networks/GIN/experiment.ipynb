{
 "cells": [
  {
   "cell_type": "markdown",
   "source": [
    "# GIN Experiment\n",
    "This notebook will implement the evaluation pipeline with the FID calculation using the GIN"
   ],
   "metadata": {}
  },
  {
   "cell_type": "markdown",
   "source": [
    "## Setup"
   ],
   "metadata": {}
  },
  {
   "cell_type": "code",
   "execution_count": 1,
   "source": [
    "import argparse\n",
    "import torch\n",
    "import torch.nn as nn\n",
    "import torch.nn.functional as F\n",
    "import torch.optim as optim\n",
    "import numpy as np\n",
    "import pickle\n",
    "from tqdm import tqdm\n",
    "\n",
    "from util import load_data, load_synth_data, separate_data , load_graph_asS2Vgraph\n",
    "from models.graphcnn import GraphCNN\n",
    "\n",
    "\n",
    "criterion = nn.CrossEntropyLoss()"
   ],
   "outputs": [],
   "metadata": {}
  },
  {
   "cell_type": "code",
   "execution_count": 2,
   "source": [
    "def train(iters_per_epoch, batch_size, model, device, train_graphs, optimizer, epoch):\n",
    "    model.train()\n",
    "\n",
    "    total_iters = iters_per_epoch\n",
    "    pbar = tqdm(range(total_iters), unit='batch')\n",
    "\n",
    "    loss_accum = 0\n",
    "    for pos in pbar:\n",
    "        selected_idx = np.random.permutation(len(train_graphs))[:batch_size]\n",
    "\n",
    "        batch_graph = [train_graphs[idx] for idx in selected_idx]\n",
    "        output = model(batch_graph)\n",
    "\n",
    "        labels = torch.LongTensor([graph.label for graph in batch_graph]).to(device)\n",
    "\n",
    "        #compute loss\n",
    "        loss = criterion(output, labels)\n",
    "\n",
    "        #backprop\n",
    "        if optimizer is not None:\n",
    "            optimizer.zero_grad()\n",
    "            loss.backward()         \n",
    "            optimizer.step()\n",
    "        \n",
    "\n",
    "        loss = loss.detach().cpu().numpy()\n",
    "        loss_accum += loss\n",
    "\n",
    "        #report\n",
    "        pbar.set_description('epoch: %d' % (epoch))\n",
    "\n",
    "    average_loss = loss_accum/total_iters\n",
    "    print(\"loss training: %f\" % (average_loss))\n",
    "    \n",
    "    return average_loss\n",
    "\n",
    "###pass data to model with minibatch during testing to avoid memory overflow (does not perform backpropagation)\n",
    "def pass_data_iteratively(model, graphs, minibatch_size = 64):\n",
    "    model.eval()\n",
    "    output = []\n",
    "    idx = np.arange(len(graphs))\n",
    "    for i in range(0, len(graphs), minibatch_size):\n",
    "        sampled_idx = idx[i:i+minibatch_size]\n",
    "        if len(sampled_idx) == 0:\n",
    "            continue\n",
    "        output.append(model([graphs[j] for j in sampled_idx]).detach())\n",
    "    return torch.cat(output, 0)\n",
    "\n",
    "def test(model, device, train_graphs, test_graphs, epoch):\n",
    "    model.eval()\n",
    "\n",
    "    output = pass_data_iteratively(model, train_graphs)\n",
    "    pred = output.max(1, keepdim=True)[1]\n",
    "    labels = torch.LongTensor([graph.label for graph in train_graphs]).to(device)\n",
    "    correct = pred.eq(labels.view_as(pred)).sum().cpu().item()\n",
    "    acc_train = correct / float(len(train_graphs))\n",
    "\n",
    "    output = pass_data_iteratively(model, test_graphs)\n",
    "    pred = output.max(1, keepdim=True)[1]\n",
    "    labels = torch.LongTensor([graph.label for graph in test_graphs]).to(device)\n",
    "    correct = pred.eq(labels.view_as(pred)).sum().cpu().item()\n",
    "    acc_test = correct / float(len(test_graphs))\n",
    "\n",
    "    print(\"accuracy train: %f test: %f\" % (acc_train, acc_test))\n",
    "\n",
    "    return acc_train, acc_test"
   ],
   "outputs": [],
   "metadata": {}
  },
  {
   "cell_type": "markdown",
   "source": [
    "## Training settings"
   ],
   "metadata": {}
  },
  {
   "cell_type": "code",
   "execution_count": 3,
   "source": [
    "dataset = None\n",
    "device = 0 \n",
    "batch_size = 32\n",
    "iters_per_epoch = 50\n",
    "epochs = 60\n",
    "lr = 0.01\n",
    "seed = 0\n",
    "fold_idx = 1\n",
    "num_layers = 5\n",
    "num_mlp_layers = 3\n",
    "hidden_dim = 64\n",
    "final_dropout = 0.5\n",
    "graph_pooling_type = \"sum\"\n",
    "neighbor_pooling_type = \"sum\"\n",
    "learn_eps = False\n",
    "degree_as_tag = True\n",
    "filename = \"\"\n",
    "random = 1"
   ],
   "outputs": [],
   "metadata": {}
  },
  {
   "cell_type": "markdown",
   "source": [
    "## Training "
   ],
   "metadata": {}
  },
  {
   "cell_type": "code",
   "execution_count": 4,
   "source": [
    "#set up seeds and gpu device\n",
    "torch.manual_seed(0)\n",
    "np.random.seed(0)    \n",
    "device = torch.device(\"cuda:\" + str(device)) if torch.cuda.is_available() else torch.device(\"cpu\")\n",
    "if torch.cuda.is_available():\n",
    "    torch.cuda.manual_seed_all(0)\n",
    "\n",
    "if dataset != None :\n",
    "    graphs, num_classes = load_data(dataset, degree_as_tag)\n",
    "else :\n",
    "    graphs, num_classes, tagset , lentagset = load_synth_data(True, random)\n",
    "num_classes\n",
    "##10-fold cross validation. Conduct an experiment on the fold specified by args.fold_idx.\n",
    "train_graphs, test_graphs = separate_data(graphs, seed, fold_idx)\n",
    "\n",
    "model = GraphCNN(num_layers, num_mlp_layers, train_graphs[0].node_features.shape[1], hidden_dim, num_classes, final_dropout, learn_eps, graph_pooling_type, neighbor_pooling_type,0, device).to(device)\n",
    "\n",
    "optimizer = optim.Adam(model.parameters(),lr=lr)\n",
    "scheduler = optim.lr_scheduler.StepLR(optimizer, step_size=50, gamma=0.5)\n",
    "\n",
    "\n",
    "for epoch in range(1, epochs + 1):\n",
    "    scheduler.step()\n",
    "\n",
    "    avg_loss = train(iters_per_epoch,batch_size,model, device, train_graphs, optimizer, epoch)\n",
    "    acc_train, acc_test = test( model, device, train_graphs, test_graphs, epoch)\n",
    "\n",
    "    if not filename == \"\":\n",
    "        with open(filename, 'w') as f:\n",
    "            f.write(\"%f %f %f\" % (avg_loss, acc_train, acc_test))\n",
    "            f.write(\"\\n\")\n",
    "    print(\"\")\n",
    "\n",
    "    print(model.eps)"
   ],
   "outputs": [
    {
     "output_type": "stream",
     "name": "stdout",
     "text": [
      "loading data\n",
      "# classes: 5\n",
      "# maximum node tag: 66\n",
      "# data: 4000\n"
     ]
    },
    {
     "output_type": "stream",
     "name": "stderr",
     "text": [
      "/home/ousmanetouat/anaconda3/envs/graphRL/lib/python3.7/site-packages/torch/optim/lr_scheduler.py:134: UserWarning: Detected call of `lr_scheduler.step()` before `optimizer.step()`. In PyTorch 1.1.0 and later, you should call them in the opposite order: `optimizer.step()` before `lr_scheduler.step()`.  Failure to do this will result in PyTorch skipping the first value of the learning rate schedule. See more details at https://pytorch.org/docs/stable/optim.html#how-to-adjust-learning-rate\n",
      "  \"https://pytorch.org/docs/stable/optim.html#how-to-adjust-learning-rate\", UserWarning)\n",
      "epoch: 1: 100%|██████████| 50/50 [00:03<00:00, 13.39batch/s]\n"
     ]
    },
    {
     "output_type": "stream",
     "name": "stdout",
     "text": [
      "loss training: 8.646901\n",
      "accuracy train: 1.000000 test: 1.000000\n",
      "\n",
      "Parameter containing:\n",
      "tensor([0.0164, 0.0557, 0.0585, 0.0324], device='cuda:0', requires_grad=True)\n"
     ]
    },
    {
     "output_type": "stream",
     "name": "stderr",
     "text": [
      "epoch: 2: 100%|██████████| 50/50 [00:02<00:00, 22.63batch/s]\n"
     ]
    },
    {
     "output_type": "stream",
     "name": "stdout",
     "text": [
      "loss training: 0.831721\n",
      "accuracy train: 1.000000 test: 1.000000\n",
      "\n",
      "Parameter containing:\n",
      "tensor([0.0513, 0.0771, 0.1266, 0.0710], device='cuda:0', requires_grad=True)\n"
     ]
    },
    {
     "output_type": "stream",
     "name": "stderr",
     "text": [
      "epoch: 3: 100%|██████████| 50/50 [00:02<00:00, 22.56batch/s]\n"
     ]
    },
    {
     "output_type": "stream",
     "name": "stdout",
     "text": [
      "loss training: 0.263683\n",
      "accuracy train: 1.000000 test: 1.000000\n",
      "\n",
      "Parameter containing:\n",
      "tensor([0.0358, 0.0888, 0.1750, 0.0995], device='cuda:0', requires_grad=True)\n"
     ]
    },
    {
     "output_type": "stream",
     "name": "stderr",
     "text": [
      "epoch: 4: 100%|██████████| 50/50 [00:02<00:00, 19.74batch/s]\n"
     ]
    },
    {
     "output_type": "stream",
     "name": "stdout",
     "text": [
      "loss training: 0.275711\n",
      "accuracy train: 1.000000 test: 1.000000\n",
      "\n",
      "Parameter containing:\n",
      "tensor([0.0647, 0.1015, 0.1643, 0.1211], device='cuda:0', requires_grad=True)\n"
     ]
    },
    {
     "output_type": "stream",
     "name": "stderr",
     "text": [
      "epoch: 5: 100%|██████████| 50/50 [00:02<00:00, 22.75batch/s]\n"
     ]
    },
    {
     "output_type": "stream",
     "name": "stdout",
     "text": [
      "loss training: 0.132151\n",
      "accuracy train: 1.000000 test: 1.000000\n",
      "\n",
      "Parameter containing:\n",
      "tensor([0.0758, 0.1307, 0.2288, 0.1689], device='cuda:0', requires_grad=True)\n"
     ]
    },
    {
     "output_type": "stream",
     "name": "stderr",
     "text": [
      "epoch: 6: 100%|██████████| 50/50 [00:02<00:00, 22.62batch/s]\n"
     ]
    },
    {
     "output_type": "stream",
     "name": "stdout",
     "text": [
      "loss training: 0.279531\n",
      "accuracy train: 1.000000 test: 1.000000\n",
      "\n",
      "Parameter containing:\n",
      "tensor([0.0529, 0.1149, 0.2091, 0.2145], device='cuda:0', requires_grad=True)\n"
     ]
    },
    {
     "output_type": "stream",
     "name": "stderr",
     "text": [
      "epoch: 7: 100%|██████████| 50/50 [00:02<00:00, 23.52batch/s]\n"
     ]
    },
    {
     "output_type": "stream",
     "name": "stdout",
     "text": [
      "loss training: 7.456157\n",
      "accuracy train: 0.999444 test: 1.000000\n",
      "\n",
      "Parameter containing:\n",
      "tensor([0.1667, 0.2539, 0.4087, 0.2684], device='cuda:0', requires_grad=True)\n"
     ]
    },
    {
     "output_type": "stream",
     "name": "stderr",
     "text": [
      "epoch: 8: 100%|██████████| 50/50 [00:02<00:00, 22.56batch/s]\n"
     ]
    },
    {
     "output_type": "stream",
     "name": "stdout",
     "text": [
      "loss training: 0.877555\n",
      "accuracy train: 0.999722 test: 1.000000\n",
      "\n",
      "Parameter containing:\n",
      "tensor([0.2092, 0.2952, 0.4165, 0.3319], device='cuda:0', requires_grad=True)\n"
     ]
    },
    {
     "output_type": "stream",
     "name": "stderr",
     "text": [
      "epoch: 9: 100%|██████████| 50/50 [00:02<00:00, 22.34batch/s]\n"
     ]
    },
    {
     "output_type": "stream",
     "name": "stdout",
     "text": [
      "loss training: 0.321721\n",
      "accuracy train: 1.000000 test: 1.000000\n",
      "\n",
      "Parameter containing:\n",
      "tensor([0.2178, 0.3101, 0.4161, 0.3600], device='cuda:0', requires_grad=True)\n"
     ]
    },
    {
     "output_type": "stream",
     "name": "stderr",
     "text": [
      "epoch: 10: 100%|██████████| 50/50 [00:02<00:00, 22.50batch/s]\n"
     ]
    },
    {
     "output_type": "stream",
     "name": "stdout",
     "text": [
      "loss training: 0.137747\n",
      "accuracy train: 1.000000 test: 1.000000\n",
      "\n",
      "Parameter containing:\n",
      "tensor([0.2188, 0.3149, 0.4317, 0.3612], device='cuda:0', requires_grad=True)\n"
     ]
    },
    {
     "output_type": "stream",
     "name": "stderr",
     "text": [
      "epoch: 11: 100%|██████████| 50/50 [00:02<00:00, 22.73batch/s]\n"
     ]
    },
    {
     "output_type": "stream",
     "name": "stdout",
     "text": [
      "loss training: 0.133970\n",
      "accuracy train: 1.000000 test: 1.000000\n",
      "\n",
      "Parameter containing:\n",
      "tensor([0.2147, 0.2990, 0.4166, 0.3629], device='cuda:0', requires_grad=True)\n"
     ]
    },
    {
     "output_type": "stream",
     "name": "stderr",
     "text": [
      "epoch: 12: 100%|██████████| 50/50 [00:02<00:00, 23.03batch/s]\n"
     ]
    },
    {
     "output_type": "stream",
     "name": "stdout",
     "text": [
      "loss training: 0.022208\n",
      "accuracy train: 1.000000 test: 1.000000\n",
      "\n",
      "Parameter containing:\n",
      "tensor([0.2180, 0.2979, 0.4130, 0.3644], device='cuda:0', requires_grad=True)\n"
     ]
    },
    {
     "output_type": "stream",
     "name": "stderr",
     "text": [
      "epoch: 13: 100%|██████████| 50/50 [00:02<00:00, 23.14batch/s]\n"
     ]
    },
    {
     "output_type": "stream",
     "name": "stdout",
     "text": [
      "loss training: 0.254182\n",
      "accuracy train: 1.000000 test: 1.000000\n",
      "\n",
      "Parameter containing:\n",
      "tensor([0.2239, 0.2697, 0.3694, 0.3651], device='cuda:0', requires_grad=True)\n"
     ]
    },
    {
     "output_type": "stream",
     "name": "stderr",
     "text": [
      "epoch: 14: 100%|██████████| 50/50 [00:02<00:00, 19.73batch/s]\n"
     ]
    },
    {
     "output_type": "stream",
     "name": "stdout",
     "text": [
      "loss training: 0.129578\n",
      "accuracy train: 1.000000 test: 1.000000\n",
      "\n",
      "Parameter containing:\n",
      "tensor([0.2207, 0.2743, 0.3836, 0.3632], device='cuda:0', requires_grad=True)\n"
     ]
    },
    {
     "output_type": "stream",
     "name": "stderr",
     "text": [
      "epoch: 15: 100%|██████████| 50/50 [00:02<00:00, 22.89batch/s]\n"
     ]
    },
    {
     "output_type": "stream",
     "name": "stdout",
     "text": [
      "loss training: 0.083898\n",
      "accuracy train: 1.000000 test: 1.000000\n",
      "\n",
      "Parameter containing:\n",
      "tensor([0.2147, 0.2679, 0.3800, 0.3600], device='cuda:0', requires_grad=True)\n"
     ]
    },
    {
     "output_type": "stream",
     "name": "stderr",
     "text": [
      "epoch: 16: 100%|██████████| 50/50 [00:02<00:00, 22.36batch/s]\n"
     ]
    },
    {
     "output_type": "stream",
     "name": "stdout",
     "text": [
      "loss training: 0.321419\n",
      "accuracy train: 1.000000 test: 1.000000\n",
      "\n",
      "Parameter containing:\n",
      "tensor([0.2091, 0.3262, 0.3685, 0.3608], device='cuda:0', requires_grad=True)\n"
     ]
    },
    {
     "output_type": "stream",
     "name": "stderr",
     "text": [
      "epoch: 17: 100%|██████████| 50/50 [00:02<00:00, 22.47batch/s]\n"
     ]
    },
    {
     "output_type": "stream",
     "name": "stdout",
     "text": [
      "loss training: 0.178317\n",
      "accuracy train: 1.000000 test: 1.000000\n",
      "\n",
      "Parameter containing:\n",
      "tensor([0.2078, 0.3339, 0.3984, 0.3803], device='cuda:0', requires_grad=True)\n"
     ]
    },
    {
     "output_type": "stream",
     "name": "stderr",
     "text": [
      "epoch: 18: 100%|██████████| 50/50 [00:02<00:00, 23.02batch/s]\n"
     ]
    },
    {
     "output_type": "stream",
     "name": "stdout",
     "text": [
      "loss training: 0.191655\n",
      "accuracy train: 1.000000 test: 1.000000\n",
      "\n",
      "Parameter containing:\n",
      "tensor([0.2022, 0.3437, 0.4151, 0.3802], device='cuda:0', requires_grad=True)\n"
     ]
    },
    {
     "output_type": "stream",
     "name": "stderr",
     "text": [
      "epoch: 19: 100%|██████████| 50/50 [00:02<00:00, 22.83batch/s]\n"
     ]
    },
    {
     "output_type": "stream",
     "name": "stdout",
     "text": [
      "loss training: 0.122306\n",
      "accuracy train: 1.000000 test: 1.000000\n",
      "\n",
      "Parameter containing:\n",
      "tensor([0.2046, 0.3433, 0.3852, 0.3784], device='cuda:0', requires_grad=True)\n"
     ]
    },
    {
     "output_type": "stream",
     "name": "stderr",
     "text": [
      "epoch: 20: 100%|██████████| 50/50 [00:02<00:00, 22.84batch/s]\n"
     ]
    },
    {
     "output_type": "stream",
     "name": "stdout",
     "text": [
      "loss training: 0.152811\n",
      "accuracy train: 1.000000 test: 1.000000\n",
      "\n",
      "Parameter containing:\n",
      "tensor([0.1861, 0.3506, 0.4057, 0.3796], device='cuda:0', requires_grad=True)\n"
     ]
    },
    {
     "output_type": "stream",
     "name": "stderr",
     "text": [
      "epoch: 21: 100%|██████████| 50/50 [00:02<00:00, 22.56batch/s]\n"
     ]
    },
    {
     "output_type": "stream",
     "name": "stdout",
     "text": [
      "loss training: 0.038282\n",
      "accuracy train: 1.000000 test: 1.000000\n",
      "\n",
      "Parameter containing:\n",
      "tensor([0.1848, 0.3565, 0.4207, 0.3804], device='cuda:0', requires_grad=True)\n"
     ]
    },
    {
     "output_type": "stream",
     "name": "stderr",
     "text": [
      "epoch: 22: 100%|██████████| 50/50 [00:02<00:00, 22.66batch/s]\n"
     ]
    },
    {
     "output_type": "stream",
     "name": "stdout",
     "text": [
      "loss training: 0.009987\n",
      "accuracy train: 1.000000 test: 1.000000\n",
      "\n",
      "Parameter containing:\n",
      "tensor([0.1876, 0.3581, 0.4213, 0.3803], device='cuda:0', requires_grad=True)\n"
     ]
    },
    {
     "output_type": "stream",
     "name": "stderr",
     "text": [
      "epoch: 23: 100%|██████████| 50/50 [00:02<00:00, 22.68batch/s]\n"
     ]
    },
    {
     "output_type": "stream",
     "name": "stdout",
     "text": [
      "loss training: 0.008554\n",
      "accuracy train: 1.000000 test: 1.000000\n",
      "\n",
      "Parameter containing:\n",
      "tensor([0.1871, 0.3575, 0.4219, 0.3804], device='cuda:0', requires_grad=True)\n"
     ]
    },
    {
     "output_type": "stream",
     "name": "stderr",
     "text": [
      "epoch: 24: 100%|██████████| 50/50 [00:02<00:00, 22.48batch/s]\n"
     ]
    },
    {
     "output_type": "stream",
     "name": "stdout",
     "text": [
      "loss training: 0.008894\n",
      "accuracy train: 1.000000 test: 1.000000\n",
      "\n",
      "Parameter containing:\n",
      "tensor([0.1869, 0.3574, 0.4205, 0.3803], device='cuda:0', requires_grad=True)\n"
     ]
    },
    {
     "output_type": "stream",
     "name": "stderr",
     "text": [
      "epoch: 25: 100%|██████████| 50/50 [00:02<00:00, 19.52batch/s]\n"
     ]
    },
    {
     "output_type": "stream",
     "name": "stdout",
     "text": [
      "loss training: 0.042388\n",
      "accuracy train: 1.000000 test: 1.000000\n",
      "\n",
      "Parameter containing:\n",
      "tensor([0.1927, 0.3574, 0.4222, 0.3806], device='cuda:0', requires_grad=True)\n"
     ]
    },
    {
     "output_type": "stream",
     "name": "stderr",
     "text": [
      "epoch: 26: 100%|██████████| 50/50 [00:02<00:00, 22.85batch/s]\n"
     ]
    },
    {
     "output_type": "stream",
     "name": "stdout",
     "text": [
      "loss training: 0.011200\n",
      "accuracy train: 1.000000 test: 1.000000\n",
      "\n",
      "Parameter containing:\n",
      "tensor([0.1927, 0.3576, 0.4248, 0.3815], device='cuda:0', requires_grad=True)\n"
     ]
    },
    {
     "output_type": "stream",
     "name": "stderr",
     "text": [
      "epoch: 27: 100%|██████████| 50/50 [00:02<00:00, 22.71batch/s]\n"
     ]
    },
    {
     "output_type": "stream",
     "name": "stdout",
     "text": [
      "loss training: 0.009893\n",
      "accuracy train: 1.000000 test: 1.000000\n",
      "\n",
      "Parameter containing:\n",
      "tensor([0.1927, 0.3576, 0.4250, 0.3814], device='cuda:0', requires_grad=True)\n"
     ]
    },
    {
     "output_type": "stream",
     "name": "stderr",
     "text": [
      "epoch: 28: 100%|██████████| 50/50 [00:02<00:00, 21.98batch/s]\n"
     ]
    },
    {
     "output_type": "stream",
     "name": "stdout",
     "text": [
      "loss training: 0.005272\n",
      "accuracy train: 1.000000 test: 1.000000\n",
      "\n",
      "Parameter containing:\n",
      "tensor([0.1927, 0.3576, 0.4255, 0.3815], device='cuda:0', requires_grad=True)\n"
     ]
    },
    {
     "output_type": "stream",
     "name": "stderr",
     "text": [
      "epoch: 29: 100%|██████████| 50/50 [00:02<00:00, 19.17batch/s]\n"
     ]
    },
    {
     "output_type": "stream",
     "name": "stdout",
     "text": [
      "loss training: 0.005807\n",
      "accuracy train: 1.000000 test: 1.000000\n",
      "\n",
      "Parameter containing:\n",
      "tensor([0.1927, 0.3578, 0.4270, 0.3814], device='cuda:0', requires_grad=True)\n"
     ]
    },
    {
     "output_type": "stream",
     "name": "stderr",
     "text": [
      "epoch: 30: 100%|██████████| 50/50 [00:02<00:00, 23.34batch/s]\n"
     ]
    },
    {
     "output_type": "stream",
     "name": "stdout",
     "text": [
      "loss training: 0.023583\n",
      "accuracy train: 1.000000 test: 1.000000\n",
      "\n",
      "Parameter containing:\n",
      "tensor([0.1864, 0.3578, 0.4268, 0.3828], device='cuda:0', requires_grad=True)\n"
     ]
    },
    {
     "output_type": "stream",
     "name": "stderr",
     "text": [
      "epoch: 31: 100%|██████████| 50/50 [00:02<00:00, 22.94batch/s]\n"
     ]
    },
    {
     "output_type": "stream",
     "name": "stdout",
     "text": [
      "loss training: 0.690770\n",
      "accuracy train: 0.985278 test: 0.995000\n",
      "\n",
      "Parameter containing:\n",
      "tensor([0.2122, 0.3707, 0.4418, 0.3819], device='cuda:0', requires_grad=True)\n"
     ]
    },
    {
     "output_type": "stream",
     "name": "stderr",
     "text": [
      "epoch: 32: 100%|██████████| 50/50 [00:02<00:00, 23.18batch/s]\n"
     ]
    },
    {
     "output_type": "stream",
     "name": "stdout",
     "text": [
      "loss training: 1.028156\n",
      "accuracy train: 0.995278 test: 0.997500\n",
      "\n",
      "Parameter containing:\n",
      "tensor([0.0609, 0.4271, 0.5027, 0.3825], device='cuda:0', requires_grad=True)\n"
     ]
    },
    {
     "output_type": "stream",
     "name": "stderr",
     "text": [
      "epoch: 33: 100%|██████████| 50/50 [00:02<00:00, 23.23batch/s]\n"
     ]
    },
    {
     "output_type": "stream",
     "name": "stdout",
     "text": [
      "loss training: 4.977467\n",
      "accuracy train: 0.999444 test: 0.997500\n",
      "\n",
      "Parameter containing:\n",
      "tensor([0.1145, 0.5597, 0.7912, 0.6544], device='cuda:0', requires_grad=True)\n"
     ]
    },
    {
     "output_type": "stream",
     "name": "stderr",
     "text": [
      "epoch: 34: 100%|██████████| 50/50 [00:02<00:00, 20.06batch/s]\n"
     ]
    },
    {
     "output_type": "stream",
     "name": "stdout",
     "text": [
      "loss training: 1.763717\n",
      "accuracy train: 1.000000 test: 1.000000\n",
      "\n",
      "Parameter containing:\n",
      "tensor([0.2490, 0.6600, 0.9246, 0.7810], device='cuda:0', requires_grad=True)\n"
     ]
    },
    {
     "output_type": "stream",
     "name": "stderr",
     "text": [
      "epoch: 35: 100%|██████████| 50/50 [00:02<00:00, 22.82batch/s]\n"
     ]
    },
    {
     "output_type": "stream",
     "name": "stdout",
     "text": [
      "loss training: 0.380538\n",
      "accuracy train: 1.000000 test: 1.000000\n",
      "\n",
      "Parameter containing:\n",
      "tensor([0.3012, 0.6972, 0.9254, 0.6895], device='cuda:0', requires_grad=True)\n"
     ]
    },
    {
     "output_type": "stream",
     "name": "stderr",
     "text": [
      "epoch: 36: 100%|██████████| 50/50 [00:02<00:00, 22.83batch/s]\n"
     ]
    },
    {
     "output_type": "stream",
     "name": "stdout",
     "text": [
      "loss training: 0.092178\n",
      "accuracy train: 1.000000 test: 1.000000\n",
      "\n",
      "Parameter containing:\n",
      "tensor([0.2910, 0.7008, 0.9264, 0.6887], device='cuda:0', requires_grad=True)\n"
     ]
    },
    {
     "output_type": "stream",
     "name": "stderr",
     "text": [
      "epoch: 37: 100%|██████████| 50/50 [00:02<00:00, 23.19batch/s]\n"
     ]
    },
    {
     "output_type": "stream",
     "name": "stdout",
     "text": [
      "loss training: 0.105702\n",
      "accuracy train: 1.000000 test: 1.000000\n",
      "\n",
      "Parameter containing:\n",
      "tensor([0.2899, 0.7023, 0.9451, 0.6909], device='cuda:0', requires_grad=True)\n"
     ]
    },
    {
     "output_type": "stream",
     "name": "stderr",
     "text": [
      "epoch: 38: 100%|██████████| 50/50 [00:02<00:00, 20.08batch/s]\n"
     ]
    },
    {
     "output_type": "stream",
     "name": "stdout",
     "text": [
      "loss training: 0.055809\n",
      "accuracy train: 1.000000 test: 1.000000\n",
      "\n",
      "Parameter containing:\n",
      "tensor([0.2886, 0.7060, 0.9110, 0.6908], device='cuda:0', requires_grad=True)\n"
     ]
    },
    {
     "output_type": "stream",
     "name": "stderr",
     "text": [
      "epoch: 39: 100%|██████████| 50/50 [00:02<00:00, 23.32batch/s]\n"
     ]
    },
    {
     "output_type": "stream",
     "name": "stdout",
     "text": [
      "loss training: 0.020765\n",
      "accuracy train: 1.000000 test: 1.000000\n",
      "\n",
      "Parameter containing:\n",
      "tensor([0.2919, 0.7105, 0.9171, 0.6910], device='cuda:0', requires_grad=True)\n"
     ]
    },
    {
     "output_type": "stream",
     "name": "stderr",
     "text": [
      "epoch: 40: 100%|██████████| 50/50 [00:02<00:00, 23.27batch/s]\n"
     ]
    },
    {
     "output_type": "stream",
     "name": "stdout",
     "text": [
      "loss training: 0.007074\n",
      "accuracy train: 1.000000 test: 1.000000\n",
      "\n",
      "Parameter containing:\n",
      "tensor([0.2918, 0.7105, 0.9177, 0.6906], device='cuda:0', requires_grad=True)\n"
     ]
    },
    {
     "output_type": "stream",
     "name": "stderr",
     "text": [
      "epoch: 41: 100%|██████████| 50/50 [00:02<00:00, 23.03batch/s]\n"
     ]
    },
    {
     "output_type": "stream",
     "name": "stdout",
     "text": [
      "loss training: 0.412934\n",
      "accuracy train: 1.000000 test: 1.000000\n",
      "\n",
      "Parameter containing:\n",
      "tensor([0.1610, 0.5590, 0.9170, 0.6906], device='cuda:0', requires_grad=True)\n"
     ]
    },
    {
     "output_type": "stream",
     "name": "stderr",
     "text": [
      "epoch: 42: 100%|██████████| 50/50 [00:02<00:00, 23.16batch/s]\n"
     ]
    },
    {
     "output_type": "stream",
     "name": "stdout",
     "text": [
      "loss training: 0.149997\n",
      "accuracy train: 1.000000 test: 1.000000\n",
      "\n",
      "Parameter containing:\n",
      "tensor([0.1189, 0.4997, 0.9244, 0.6898], device='cuda:0', requires_grad=True)\n"
     ]
    },
    {
     "output_type": "stream",
     "name": "stderr",
     "text": [
      "epoch: 43: 100%|██████████| 50/50 [00:02<00:00, 23.15batch/s]\n"
     ]
    },
    {
     "output_type": "stream",
     "name": "stdout",
     "text": [
      "loss training: 0.167182\n",
      "accuracy train: 1.000000 test: 1.000000\n",
      "\n",
      "Parameter containing:\n",
      "tensor([0.1302, 0.4990, 0.9317, 0.6896], device='cuda:0', requires_grad=True)\n"
     ]
    },
    {
     "output_type": "stream",
     "name": "stderr",
     "text": [
      "epoch: 44: 100%|██████████| 50/50 [00:02<00:00, 20.01batch/s]\n"
     ]
    },
    {
     "output_type": "stream",
     "name": "stdout",
     "text": [
      "loss training: 0.183159\n",
      "accuracy train: 1.000000 test: 1.000000\n",
      "\n",
      "Parameter containing:\n",
      "tensor([0.1585, 0.5165, 0.9404, 0.6899], device='cuda:0', requires_grad=True)\n"
     ]
    },
    {
     "output_type": "stream",
     "name": "stderr",
     "text": [
      "epoch: 45: 100%|██████████| 50/50 [00:02<00:00, 23.27batch/s]\n"
     ]
    },
    {
     "output_type": "stream",
     "name": "stdout",
     "text": [
      "loss training: 0.157938\n",
      "accuracy train: 1.000000 test: 1.000000\n",
      "\n",
      "Parameter containing:\n",
      "tensor([0.1493, 0.5334, 0.9428, 0.6903], device='cuda:0', requires_grad=True)\n"
     ]
    },
    {
     "output_type": "stream",
     "name": "stderr",
     "text": [
      "epoch: 46: 100%|██████████| 50/50 [00:02<00:00, 23.11batch/s]\n"
     ]
    },
    {
     "output_type": "stream",
     "name": "stdout",
     "text": [
      "loss training: 0.023095\n",
      "accuracy train: 1.000000 test: 1.000000\n",
      "\n",
      "Parameter containing:\n",
      "tensor([0.1504, 0.5342, 0.9425, 0.6906], device='cuda:0', requires_grad=True)\n"
     ]
    },
    {
     "output_type": "stream",
     "name": "stderr",
     "text": [
      "epoch: 47: 100%|██████████| 50/50 [00:02<00:00, 23.23batch/s]\n"
     ]
    },
    {
     "output_type": "stream",
     "name": "stdout",
     "text": [
      "loss training: 0.015521\n",
      "accuracy train: 1.000000 test: 1.000000\n",
      "\n",
      "Parameter containing:\n",
      "tensor([0.1506, 0.5343, 0.9425, 0.6907], device='cuda:0', requires_grad=True)\n"
     ]
    },
    {
     "output_type": "stream",
     "name": "stderr",
     "text": [
      "epoch: 48: 100%|██████████| 50/50 [00:02<00:00, 22.93batch/s]\n"
     ]
    },
    {
     "output_type": "stream",
     "name": "stdout",
     "text": [
      "loss training: 0.012138\n",
      "accuracy train: 1.000000 test: 1.000000\n",
      "\n",
      "Parameter containing:\n",
      "tensor([0.1572, 0.5371, 0.9449, 0.6907], device='cuda:0', requires_grad=True)\n"
     ]
    },
    {
     "output_type": "stream",
     "name": "stderr",
     "text": [
      "epoch: 49: 100%|██████████| 50/50 [00:02<00:00, 19.85batch/s]\n"
     ]
    },
    {
     "output_type": "stream",
     "name": "stdout",
     "text": [
      "loss training: 0.005767\n",
      "accuracy train: 1.000000 test: 1.000000\n",
      "\n",
      "Parameter containing:\n",
      "tensor([0.1574, 0.5372, 0.9451, 0.6907], device='cuda:0', requires_grad=True)\n"
     ]
    },
    {
     "output_type": "stream",
     "name": "stderr",
     "text": [
      "epoch: 50: 100%|██████████| 50/50 [00:02<00:00, 21.80batch/s]\n"
     ]
    },
    {
     "output_type": "stream",
     "name": "stdout",
     "text": [
      "loss training: 0.005630\n",
      "accuracy train: 1.000000 test: 1.000000\n",
      "\n",
      "Parameter containing:\n",
      "tensor([0.1574, 0.5372, 0.9455, 0.6907], device='cuda:0', requires_grad=True)\n"
     ]
    },
    {
     "output_type": "stream",
     "name": "stderr",
     "text": [
      "epoch: 51: 100%|██████████| 50/50 [00:02<00:00, 22.98batch/s]\n"
     ]
    },
    {
     "output_type": "stream",
     "name": "stdout",
     "text": [
      "loss training: 0.020995\n",
      "accuracy train: 1.000000 test: 1.000000\n",
      "\n",
      "Parameter containing:\n",
      "tensor([0.1568, 0.5281, 0.9469, 0.6907], device='cuda:0', requires_grad=True)\n"
     ]
    },
    {
     "output_type": "stream",
     "name": "stderr",
     "text": [
      "epoch: 52: 100%|██████████| 50/50 [00:02<00:00, 22.23batch/s]\n"
     ]
    },
    {
     "output_type": "stream",
     "name": "stdout",
     "text": [
      "loss training: 0.002974\n",
      "accuracy train: 1.000000 test: 1.000000\n",
      "\n",
      "Parameter containing:\n",
      "tensor([0.1567, 0.5272, 0.9474, 0.6907], device='cuda:0', requires_grad=True)\n"
     ]
    },
    {
     "output_type": "stream",
     "name": "stderr",
     "text": [
      "epoch: 53: 100%|██████████| 50/50 [00:02<00:00, 23.00batch/s]\n"
     ]
    },
    {
     "output_type": "stream",
     "name": "stdout",
     "text": [
      "loss training: 0.011093\n",
      "accuracy train: 1.000000 test: 1.000000\n",
      "\n",
      "Parameter containing:\n",
      "tensor([0.1567, 0.5275, 0.9520, 0.6907], device='cuda:0', requires_grad=True)\n"
     ]
    },
    {
     "output_type": "stream",
     "name": "stderr",
     "text": [
      "epoch: 54: 100%|██████████| 50/50 [00:02<00:00, 19.89batch/s]\n"
     ]
    },
    {
     "output_type": "stream",
     "name": "stdout",
     "text": [
      "loss training: 0.006009\n",
      "accuracy train: 1.000000 test: 1.000000\n",
      "\n",
      "Parameter containing:\n",
      "tensor([0.1567, 0.5276, 0.9523, 0.6908], device='cuda:0', requires_grad=True)\n"
     ]
    },
    {
     "output_type": "stream",
     "name": "stderr",
     "text": [
      "epoch: 55: 100%|██████████| 50/50 [00:02<00:00, 22.24batch/s]\n"
     ]
    },
    {
     "output_type": "stream",
     "name": "stdout",
     "text": [
      "loss training: 0.024546\n",
      "accuracy train: 1.000000 test: 1.000000\n",
      "\n",
      "Parameter containing:\n",
      "tensor([0.1512, 0.5284, 0.9573, 0.6908], device='cuda:0', requires_grad=True)\n"
     ]
    },
    {
     "output_type": "stream",
     "name": "stderr",
     "text": [
      "epoch: 56: 100%|██████████| 50/50 [00:02<00:00, 22.28batch/s]\n"
     ]
    },
    {
     "output_type": "stream",
     "name": "stdout",
     "text": [
      "loss training: 0.004432\n",
      "accuracy train: 1.000000 test: 1.000000\n",
      "\n",
      "Parameter containing:\n",
      "tensor([0.1509, 0.5284, 0.9576, 0.6907], device='cuda:0', requires_grad=True)\n"
     ]
    },
    {
     "output_type": "stream",
     "name": "stderr",
     "text": [
      "epoch: 57: 100%|██████████| 50/50 [00:02<00:00, 22.61batch/s]\n"
     ]
    },
    {
     "output_type": "stream",
     "name": "stdout",
     "text": [
      "loss training: 0.006224\n",
      "accuracy train: 1.000000 test: 1.000000\n",
      "\n",
      "Parameter containing:\n",
      "tensor([0.1509, 0.5285, 0.9582, 0.6907], device='cuda:0', requires_grad=True)\n"
     ]
    },
    {
     "output_type": "stream",
     "name": "stderr",
     "text": [
      "epoch: 58: 100%|██████████| 50/50 [00:02<00:00, 20.06batch/s]\n"
     ]
    },
    {
     "output_type": "stream",
     "name": "stdout",
     "text": [
      "loss training: 0.006726\n",
      "accuracy train: 1.000000 test: 1.000000\n",
      "\n",
      "Parameter containing:\n",
      "tensor([0.1510, 0.5286, 0.9583, 0.6907], device='cuda:0', requires_grad=True)\n"
     ]
    },
    {
     "output_type": "stream",
     "name": "stderr",
     "text": [
      "epoch: 59: 100%|██████████| 50/50 [00:02<00:00, 22.50batch/s]\n"
     ]
    },
    {
     "output_type": "stream",
     "name": "stdout",
     "text": [
      "loss training: 0.006875\n",
      "accuracy train: 1.000000 test: 1.000000\n",
      "\n",
      "Parameter containing:\n",
      "tensor([0.1510, 0.5286, 0.9582, 0.6908], device='cuda:0', requires_grad=True)\n"
     ]
    },
    {
     "output_type": "stream",
     "name": "stderr",
     "text": [
      "epoch: 60: 100%|██████████| 50/50 [00:02<00:00, 22.73batch/s]\n"
     ]
    },
    {
     "output_type": "stream",
     "name": "stdout",
     "text": [
      "loss training: 0.004307\n",
      "accuracy train: 1.000000 test: 1.000000\n",
      "\n",
      "Parameter containing:\n",
      "tensor([0.1510, 0.5286, 0.9583, 0.6908], device='cuda:0', requires_grad=True)\n"
     ]
    }
   ],
   "metadata": {}
  },
  {
   "cell_type": "code",
   "execution_count": 5,
   "source": [
    "output = pass_data_iteratively(model, graphs)"
   ],
   "outputs": [],
   "metadata": {}
  },
  {
   "cell_type": "code",
   "execution_count": 6,
   "source": [
    "import time\n",
    "import pandas as pd\n",
    "import numpy as np\n",
    "import matplotlib.pyplot as plt\n",
    "import matplotlib.patheffects as PathEffects\n",
    "%matplotlib inline\n",
    "\n",
    "import seaborn as sns\n",
    "sns.set_style('darkgrid')\n",
    "sns.set_palette('muted')\n",
    "sns.set_context(\"notebook\", font_scale=1.5,\n",
    "                rc={\"lines.linewidth\": 2.5})\n",
    "\n",
    "def fashion_scatter(x, colors):\n",
    "    # choose a color palette with seaborn.\n",
    "    num_classes = len(np.unique(colors))\n",
    "    palette = np.array(sns.color_palette(\"hls\", num_classes))\n",
    "\n",
    "    # create a scatter plot.\n",
    "    f = plt.figure(figsize=(8, 8))\n",
    "    ax = plt.subplot(aspect='equal')\n",
    "    sc = ax.scatter(x[:,0], x[:,1], lw=0, s=40, c=palette[colors.astype(np.int)])\n",
    "    plt.xlim(-25, 25)\n",
    "    plt.ylim(-25, 25)\n",
    "    ax.axis('tight')\n",
    "\n",
    "    # add the labels for each digit corresponding to the label\n",
    "    txts = []\n",
    "\n",
    "    for i in range(num_classes):\n",
    "\n",
    "        # Position of each label at median of data points.\n",
    "\n",
    "        xtext, ytext = np.median(x[colors == i, :], axis=0)\n",
    "        txt = ax.text(xtext, ytext, str(i), fontsize=24)\n",
    "        txt.set_path_effects([\n",
    "            PathEffects.Stroke(linewidth=5, foreground=\"w\"),\n",
    "            PathEffects.Normal()])\n",
    "        txts.append(txt)\n",
    "\n",
    "    return f, ax, sc, txts"
   ],
   "outputs": [],
   "metadata": {}
  },
  {
   "cell_type": "code",
   "execution_count": 7,
   "source": [
    "X=output.cpu()\n",
    "y = np.array([g.label for g in graphs])\n",
    "############################################################\n",
    "from sklearn.manifold import TSNE\n",
    "import time\n",
    "time_start = time.time()\n",
    "\n",
    "fashion_tsne = TSNE(random_state=0).fit_transform(X)\n",
    "fashion_scatter(fashion_tsne, y)"
   ],
   "outputs": [
    {
     "output_type": "stream",
     "name": "stderr",
     "text": [
      "/home/ousmanetouat/anaconda3/envs/graphRL/lib/python3.7/site-packages/ipykernel_launcher.py:22: DeprecationWarning: `np.int` is a deprecated alias for the builtin `int`. To silence this warning, use `int` by itself. Doing this will not modify any behavior and is safe. When replacing `np.int`, you may wish to use e.g. `np.int64` or `np.int32` to specify the precision. If you wish to review your current use, check the release note link for additional information.\n",
      "Deprecated in NumPy 1.20; for more details and guidance: https://numpy.org/devdocs/release/1.20.0-notes.html#deprecations\n"
     ]
    },
    {
     "output_type": "execute_result",
     "data": {
      "text/plain": [
       "(<Figure size 576x576 with 1 Axes>,\n",
       " <matplotlib.axes._subplots.AxesSubplot at 0x7f7c709b9ad0>,\n",
       " <matplotlib.collections.PathCollection at 0x7f7c6bfe0c10>,\n",
       " [Text(2.52752,-22.2101,'0'),\n",
       "  Text(-47.8774,7.71783,'1'),\n",
       "  Text(7.97872,33.3077,'2'),\n",
       "  Text(46.4973,3.82391,'3'),\n",
       "  Text(12.0847,-67.5283,'4')])"
      ]
     },
     "metadata": {},
     "execution_count": 7
    },
    {
     "output_type": "display_data",
     "data": {
      "image/png": "[encoded data removed]",
      "text/plain": [
       "<Figure size 576x576 with 1 Axes>"
      ]
     },
     "metadata": {
      "needs_background": "light"
     }
    }
   ],
   "metadata": {}
  },
  {
   "cell_type": "code",
   "execution_count": 8,
   "source": [
    "np.unique(y)"
   ],
   "outputs": [
    {
     "output_type": "execute_result",
     "data": {
      "text/plain": [
       "array([0, 1, 2, 3, 4])"
      ]
     },
     "metadata": {},
     "execution_count": 8
    }
   ],
   "metadata": {}
  },
  {
   "cell_type": "code",
   "execution_count": 9,
   "source": [
    "import networkx as nx\n",
    "from scipy import linalg\n",
    "## Coming from https://github.com/mseitzer/pytorch-fid\n",
    "def compute_FID(mu1, mu2, cov1, cov2, eps = 1e-6):\n",
    "    assert mu1.shape == mu2.shape, \\\n",
    "        'Training and test mean vectors have different lengths'\n",
    "    assert cov1.shape == cov2.shape, \\\n",
    "        'Training and test covariances have different dimensions'\n",
    "\n",
    "    diff = mu1 - mu2\n",
    "    # Product might be almost singular\n",
    "    covmean, _ = linalg.sqrtm(cov1.dot(cov2), disp=False)\n",
    "    if not np.isfinite(covmean).all():\n",
    "        msg = ('fid calculation produces singular product; '\n",
    "                'adding %s to diagonal of cov estimates') % eps\n",
    "        print(msg)\n",
    "        offset = np.eye(cov1.shape[0]) * eps\n",
    "        covmean = linalg.sqrtm((cov1 + offset).dot(cov2 + offset))\n",
    "\n",
    "    # Numerical error might give slight imaginary component\n",
    "    if np.iscomplexobj(covmean):\n",
    "        if not np.allclose(np.diagonal(covmean).imag, 0, atol=1e-3):\n",
    "            m = np.max(np.abs(covmean.imag))\n",
    "            raise ValueError('Imaginary component {}'.format(m))\n",
    "        covmean = covmean.real\n",
    "\n",
    "    tr_covmean = np.trace(covmean)\n",
    "\n",
    "    return (diff.dot(diff) + np.trace(cov1) +\n",
    "            np.trace(cov2) - 2 * tr_covmean)\n",
    "\n",
    "def compute_fid(ref_graph,ref_label,pred_graph,model):\n",
    "    device = 0\n",
    "    num_layers = 5\n",
    "    num_mlp_layers = 2\n",
    "    hidden_dim = 64\n",
    "    final_dropout = 0.5\n",
    "    graph_pooling_type = \"sum\"\n",
    "    neighbor_pooling_type = \"sum\"\n",
    "    learn_eps = False\n",
    "    \n",
    "    #set up seeds and gpu device\n",
    "    torch.manual_seed(0)\n",
    "    np.random.seed(0)\n",
    "    device = torch.device(\"cuda:\" + str(device)) if torch.cuda.is_available() else torch.device(\"cpu\")\n",
    "    if torch.cuda.is_available():\n",
    "        torch.cuda.manual_seed_all(0)\n",
    "    #model = GraphCNN(num_layers, num_mlp_layers, train_graphs[0].node_features.shape[1], hidden_dim, 5, final_dropout, learn_eps, graph_pooling_type, neighbor_pooling_type, 'cpu').to('cpu')\n",
    "    #model.load_checkpoint()\n",
    "    #model.eval()\n",
    "\n",
    "\n",
    "    with torch.no_grad():\n",
    "        embed_graphs_ref = pass_data_iteratively(model,ref_graph)\n",
    "        embed_graphs_ref=embed_graphs_ref.cpu().detach().numpy()\n",
    "        mu_ref = np.mean(embed_graphs_ref, axis = 0)\n",
    "        cov_ref = np.cov(embed_graphs_ref, rowvar = False)\n",
    "\n",
    "        embed_graphs_pred = pass_data_iteratively(model,pred_graph)\n",
    "        embed_graphs_pred=embed_graphs_pred.cpu().detach().numpy()\n",
    "        mu_pred = np.mean(embed_graphs_pred, axis = 0)\n",
    "        cov_pred = np.cov(embed_graphs_pred, rowvar = False)\n",
    "\n",
    "    fid = compute_FID(mu_ref,mu_pred,cov_ref,cov_pred)\n",
    "    return fid\n",
    "\n",
    "def test_acc(model, device, train_graphs):\n",
    "    model.eval()\n",
    "\n",
    "    output = pass_data_iteratively(model, train_graphs)\n",
    "    pred = output.max(1, keepdim=True)[1]\n",
    "    labels = torch.LongTensor([graph.label for graph in train_graphs]).to(device)\n",
    "    correct = pred.eq(labels.view_as(pred)).sum().cpu().item()\n",
    "    acc = float(correct / float(len(train_graphs)))\n",
    "\n",
    "\n",
    "    print(\"accuracy : %f\" % (acc))\n",
    "\n",
    "    return acc"
   ],
   "outputs": [],
   "metadata": {}
  },
  {
   "cell_type": "code",
   "execution_count": 10,
   "source": [
    "from util import load_graph_list\n",
    "graph_grid_test=load_graph_list('saved_graphs/grid_test.p',False)\n",
    "graph_grid_gen=load_graph_list('../../generated_graphs/grid_GRANMixtureBernoulli_DFS.p',False)\n",
    "graph2= []\n",
    "npr = np.random.RandomState(1)\n",
    "npr.shuffle(graph_grid_test)\n",
    "graph_grid_test=graph_grid_test[:100]\n",
    "for k in range(10,20):\n",
    "    for j in range(10,20):\n",
    "        graph2.append(nx.grid_2d_graph(k,j))\n",
    "graph_grid_gen_rnn=load_graph_list('../../generated_graphs/grid_RNN_BFS.p',False)\n",
    "graph_grid_gen_mlp=load_graph_list('../../generated_graphs/grid_RNN_MLP_BFS.p',False)\n",
    "g_list_ref,_ = load_graph_asS2Vgraph(graph_grid_test,4,random,tagset , lentagset)\n",
    "g_list_pred,_ = load_graph_asS2Vgraph(graph_grid_gen,4,random, tagset , lentagset)\n",
    "g_list_pred2,_ = load_graph_asS2Vgraph(graph2,4,random, tagset , lentagset)\n",
    "g_list_pred_rnn,_ = load_graph_asS2Vgraph(graph_grid_gen_rnn,4,random, tagset , lentagset)\n",
    "g_list_pred_mlp,_ = load_graph_asS2Vgraph(graph_grid_gen_mlp,4,random, tagset , lentagset)\n",
    "print(compute_fid([graphs[i] for i in range(len(graphs)) if graphs[i].label ==4],2,g_list_pred2,model))\n",
    "print(compute_fid(graphs,2,g_list_pred,model))\n",
    "print(compute_fid(g_list_ref,2,g_list_pred_rnn,model))\n",
    "print(compute_fid(g_list_ref,2,g_list_pred_mlp,model))\n",
    "test_acc(model,'cuda:0',[graphs[i] for i in range(len(graphs)) if graphs[i].label ==4])\n",
    "test_acc(model,'cuda:0',g_list_pred)\n",
    "test_acc(model,'cuda:0',g_list_pred_rnn)\n",
    "test_acc(model,'cuda:0',g_list_pred_mlp)"
   ],
   "outputs": [
    {
     "output_type": "stream",
     "name": "stdout",
     "text": [
      "# classes: 1\n",
      "# maximum node tag: 3\n",
      "# data: 100\n",
      "# classes: 1\n",
      "# maximum node tag: 4\n",
      "# data: 100\n",
      "# classes: 1\n",
      "# maximum node tag: 3\n",
      "# data: 100\n",
      "# classes: 1\n",
      "# maximum node tag: 8\n",
      "# data: 100\n",
      "# classes: 1\n",
      "# maximum node tag: 8\n",
      "# data: 100\n"
     ]
    },
    {
     "output_type": "error",
     "ename": "ValueError",
     "evalue": "Imaginary component 0.0016702553786435213",
     "traceback": [
      "\u001b[0;31m---------------------------------------------------------------------------\u001b[0m",
      "\u001b[0;31mValueError\u001b[0m                                Traceback (most recent call last)",
      "\u001b[0;32m/tmp/ipykernel_2241/4207918199.py\u001b[0m in \u001b[0;36m<module>\u001b[0;34m\u001b[0m\n\u001b[1;32m     16\u001b[0m \u001b[0mg_list_pred_rnn\u001b[0m\u001b[0;34m,\u001b[0m\u001b[0m_\u001b[0m \u001b[0;34m=\u001b[0m \u001b[0mload_graph_asS2Vgraph\u001b[0m\u001b[0;34m(\u001b[0m\u001b[0mgraph_grid_gen_rnn\u001b[0m\u001b[0;34m,\u001b[0m\u001b[0;36m4\u001b[0m\u001b[0;34m,\u001b[0m\u001b[0mrandom\u001b[0m\u001b[0;34m,\u001b[0m \u001b[0mtagset\u001b[0m \u001b[0;34m,\u001b[0m \u001b[0mlentagset\u001b[0m\u001b[0;34m)\u001b[0m\u001b[0;34m\u001b[0m\u001b[0;34m\u001b[0m\u001b[0m\n\u001b[1;32m     17\u001b[0m \u001b[0mg_list_pred_mlp\u001b[0m\u001b[0;34m,\u001b[0m\u001b[0m_\u001b[0m \u001b[0;34m=\u001b[0m \u001b[0mload_graph_asS2Vgraph\u001b[0m\u001b[0;34m(\u001b[0m\u001b[0mgraph_grid_gen_mlp\u001b[0m\u001b[0;34m,\u001b[0m\u001b[0;36m4\u001b[0m\u001b[0;34m,\u001b[0m\u001b[0mrandom\u001b[0m\u001b[0;34m,\u001b[0m \u001b[0mtagset\u001b[0m \u001b[0;34m,\u001b[0m \u001b[0mlentagset\u001b[0m\u001b[0;34m)\u001b[0m\u001b[0;34m\u001b[0m\u001b[0;34m\u001b[0m\u001b[0m\n\u001b[0;32m---> 18\u001b[0;31m \u001b[0mprint\u001b[0m\u001b[0;34m(\u001b[0m\u001b[0mcompute_fid\u001b[0m\u001b[0;34m(\u001b[0m\u001b[0;34m[\u001b[0m\u001b[0mgraphs\u001b[0m\u001b[0;34m[\u001b[0m\u001b[0mi\u001b[0m\u001b[0;34m]\u001b[0m \u001b[0;32mfor\u001b[0m \u001b[0mi\u001b[0m \u001b[0;32min\u001b[0m \u001b[0mrange\u001b[0m\u001b[0;34m(\u001b[0m\u001b[0mlen\u001b[0m\u001b[0;34m(\u001b[0m\u001b[0mgraphs\u001b[0m\u001b[0;34m)\u001b[0m\u001b[0;34m)\u001b[0m \u001b[0;32mif\u001b[0m \u001b[0mgraphs\u001b[0m\u001b[0;34m[\u001b[0m\u001b[0mi\u001b[0m\u001b[0;34m]\u001b[0m\u001b[0;34m.\u001b[0m\u001b[0mlabel\u001b[0m \u001b[0;34m==\u001b[0m\u001b[0;36m4\u001b[0m\u001b[0;34m]\u001b[0m\u001b[0;34m,\u001b[0m\u001b[0;36m2\u001b[0m\u001b[0;34m,\u001b[0m\u001b[0mg_list_pred2\u001b[0m\u001b[0;34m,\u001b[0m\u001b[0mmodel\u001b[0m\u001b[0;34m)\u001b[0m\u001b[0;34m)\u001b[0m\u001b[0;34m\u001b[0m\u001b[0;34m\u001b[0m\u001b[0m\n\u001b[0m\u001b[1;32m     19\u001b[0m \u001b[0mprint\u001b[0m\u001b[0;34m(\u001b[0m\u001b[0mcompute_fid\u001b[0m\u001b[0;34m(\u001b[0m\u001b[0mgraphs\u001b[0m\u001b[0;34m,\u001b[0m\u001b[0;36m2\u001b[0m\u001b[0;34m,\u001b[0m\u001b[0mg_list_pred\u001b[0m\u001b[0;34m,\u001b[0m\u001b[0mmodel\u001b[0m\u001b[0;34m)\u001b[0m\u001b[0;34m)\u001b[0m\u001b[0;34m\u001b[0m\u001b[0;34m\u001b[0m\u001b[0m\n\u001b[1;32m     20\u001b[0m \u001b[0mprint\u001b[0m\u001b[0;34m(\u001b[0m\u001b[0mcompute_fid\u001b[0m\u001b[0;34m(\u001b[0m\u001b[0mg_list_ref\u001b[0m\u001b[0;34m,\u001b[0m\u001b[0;36m2\u001b[0m\u001b[0;34m,\u001b[0m\u001b[0mg_list_pred_rnn\u001b[0m\u001b[0;34m,\u001b[0m\u001b[0mmodel\u001b[0m\u001b[0;34m)\u001b[0m\u001b[0;34m)\u001b[0m\u001b[0;34m\u001b[0m\u001b[0;34m\u001b[0m\u001b[0m\n",
      "\u001b[0;32m/tmp/ipykernel_2241/4019710070.py\u001b[0m in \u001b[0;36mcompute_fid\u001b[0;34m(ref_graph, ref_label, pred_graph, model)\u001b[0m\n\u001b[1;32m     62\u001b[0m         \u001b[0mcov_pred\u001b[0m \u001b[0;34m=\u001b[0m \u001b[0mnp\u001b[0m\u001b[0;34m.\u001b[0m\u001b[0mcov\u001b[0m\u001b[0;34m(\u001b[0m\u001b[0membed_graphs_pred\u001b[0m\u001b[0;34m,\u001b[0m \u001b[0mrowvar\u001b[0m \u001b[0;34m=\u001b[0m \u001b[0;32mFalse\u001b[0m\u001b[0;34m)\u001b[0m\u001b[0;34m\u001b[0m\u001b[0;34m\u001b[0m\u001b[0m\n\u001b[1;32m     63\u001b[0m \u001b[0;34m\u001b[0m\u001b[0m\n\u001b[0;32m---> 64\u001b[0;31m     \u001b[0mfid\u001b[0m \u001b[0;34m=\u001b[0m \u001b[0mcompute_FID\u001b[0m\u001b[0;34m(\u001b[0m\u001b[0mmu_ref\u001b[0m\u001b[0;34m,\u001b[0m\u001b[0mmu_pred\u001b[0m\u001b[0;34m,\u001b[0m\u001b[0mcov_ref\u001b[0m\u001b[0;34m,\u001b[0m\u001b[0mcov_pred\u001b[0m\u001b[0;34m)\u001b[0m\u001b[0;34m\u001b[0m\u001b[0;34m\u001b[0m\u001b[0m\n\u001b[0m\u001b[1;32m     65\u001b[0m     \u001b[0;32mreturn\u001b[0m \u001b[0mfid\u001b[0m\u001b[0;34m\u001b[0m\u001b[0;34m\u001b[0m\u001b[0m\n\u001b[1;32m     66\u001b[0m \u001b[0;34m\u001b[0m\u001b[0m\n",
      "\u001b[0;32m/tmp/ipykernel_2241/4019710070.py\u001b[0m in \u001b[0;36mcompute_FID\u001b[0;34m(mu1, mu2, cov1, cov2, eps)\u001b[0m\n\u001b[1;32m     22\u001b[0m         \u001b[0;32mif\u001b[0m \u001b[0;32mnot\u001b[0m \u001b[0mnp\u001b[0m\u001b[0;34m.\u001b[0m\u001b[0mallclose\u001b[0m\u001b[0;34m(\u001b[0m\u001b[0mnp\u001b[0m\u001b[0;34m.\u001b[0m\u001b[0mdiagonal\u001b[0m\u001b[0;34m(\u001b[0m\u001b[0mcovmean\u001b[0m\u001b[0;34m)\u001b[0m\u001b[0;34m.\u001b[0m\u001b[0mimag\u001b[0m\u001b[0;34m,\u001b[0m \u001b[0;36m0\u001b[0m\u001b[0;34m,\u001b[0m \u001b[0matol\u001b[0m\u001b[0;34m=\u001b[0m\u001b[0;36m1e-3\u001b[0m\u001b[0;34m)\u001b[0m\u001b[0;34m:\u001b[0m\u001b[0;34m\u001b[0m\u001b[0;34m\u001b[0m\u001b[0m\n\u001b[1;32m     23\u001b[0m             \u001b[0mm\u001b[0m \u001b[0;34m=\u001b[0m \u001b[0mnp\u001b[0m\u001b[0;34m.\u001b[0m\u001b[0mmax\u001b[0m\u001b[0;34m(\u001b[0m\u001b[0mnp\u001b[0m\u001b[0;34m.\u001b[0m\u001b[0mabs\u001b[0m\u001b[0;34m(\u001b[0m\u001b[0mcovmean\u001b[0m\u001b[0;34m.\u001b[0m\u001b[0mimag\u001b[0m\u001b[0;34m)\u001b[0m\u001b[0;34m)\u001b[0m\u001b[0;34m\u001b[0m\u001b[0;34m\u001b[0m\u001b[0m\n\u001b[0;32m---> 24\u001b[0;31m             \u001b[0;32mraise\u001b[0m \u001b[0mValueError\u001b[0m\u001b[0;34m(\u001b[0m\u001b[0;34m'Imaginary component {}'\u001b[0m\u001b[0;34m.\u001b[0m\u001b[0mformat\u001b[0m\u001b[0;34m(\u001b[0m\u001b[0mm\u001b[0m\u001b[0;34m)\u001b[0m\u001b[0;34m)\u001b[0m\u001b[0;34m\u001b[0m\u001b[0;34m\u001b[0m\u001b[0m\n\u001b[0m\u001b[1;32m     25\u001b[0m         \u001b[0mcovmean\u001b[0m \u001b[0;34m=\u001b[0m \u001b[0mcovmean\u001b[0m\u001b[0;34m.\u001b[0m\u001b[0mreal\u001b[0m\u001b[0;34m\u001b[0m\u001b[0;34m\u001b[0m\u001b[0m\n\u001b[1;32m     26\u001b[0m \u001b[0;34m\u001b[0m\u001b[0m\n",
      "\u001b[0;31mValueError\u001b[0m: Imaginary component 0.0016702553786435213"
     ]
    }
   ],
   "metadata": {}
  },
  {
   "cell_type": "code",
   "execution_count": 11,
   "source": [
    "graph_ba_test=load_graph_list('saved_graphs/barabasi_test.p',False)\n",
    "npr = np.random.RandomState(1)\n",
    "npr.shuffle(graph_ba_test)\n",
    "graph_ba_test=graph_ba_test[:500]\n",
    "graph_ba_gen_dd=load_graph_list('../../generated_graphs/barabasi_GRANMixtureBernoulli_degree_decent.p',False)\n",
    "graph_ba_gen_bfs=load_graph_list('../../generated_graphs/barabasi_GRANMixtureBernoulli_BFS.p',False)\n",
    "graph_ba_gen_dfs=load_graph_list('../../generated_graphs/barabasi_GRANMixtureBernoulli_DFS.p',False)\n",
    "graph_ba_gen_kcore=load_graph_list('../../generated_graphs/barabasi_GRANMixtureBernoulli_k_core.p',False)\n",
    "graph_ba_gen_noorder=load_graph_list('../../generated_graphs/barabasi_GRANMixtureBernoulli_no_order.p',False)\n",
    "graph_ba_regen=[]\n",
    "for i in range(100,200):\n",
    "    for j in range(5):\n",
    "        g=nx.barabasi_albert_graph(i,4)\n",
    "        graph_ba_regen.append(g)\n",
    "g_list_ref_ba,_ = load_graph_asS2Vgraph(graph_ba_test,2,random, tagset , lentagset)\n",
    "g_list_ref_ba_regen,_ = load_graph_asS2Vgraph(graph_ba_regen,2,random, tagset , lentagset)\n",
    "g_list_ref_ba_dd,_ = load_graph_asS2Vgraph(graph_ba_gen_dd,2,random, tagset , lentagset)\n",
    "g_list_ref_ba_bfs,_ = load_graph_asS2Vgraph(graph_ba_gen_bfs,2,random, tagset , lentagset)\n",
    "g_list_ref_ba_dfs,_ = load_graph_asS2Vgraph(graph_ba_gen_dfs,2,random, tagset , lentagset)\n",
    "g_list_ref_ba_kcore,_ = load_graph_asS2Vgraph(graph_ba_gen_kcore,2,random, tagset , lentagset)\n",
    "g_list_ref_ba_no,_ = load_graph_asS2Vgraph(graph_ba_gen_noorder,2,random, tagset , lentagset)\n",
    "print(compute_fid(g_list_ref_ba,2,g_list_ref_ba_regen,model))\n",
    "print(compute_fid(g_list_ref_ba,2,g_list_ref_ba_dd,model))\n",
    "print(compute_fid(g_list_ref_ba,2,g_list_ref_ba_bfs,model))\n",
    "print(compute_fid(g_list_ref_ba,2,g_list_ref_ba_dfs,model))\n",
    "print(compute_fid(g_list_ref_ba,2,g_list_ref_ba_kcore,model))\n",
    "print(compute_fid(g_list_ref_ba,2,g_list_ref_ba_no,model))\n",
    "\n",
    "test_acc(model,'cuda:0',g_list_ref_ba)\n",
    "test_acc(model,'cuda:0',g_list_ref_ba_dd)\n",
    "test_acc(model,'cuda:0',g_list_ref_ba_bfs)\n",
    "test_acc(model,'cuda:0',g_list_ref_ba_dfs)\n",
    "test_acc(model,'cuda:0',g_list_ref_ba_kcore)\n",
    "test_acc(model,'cuda:0',g_list_ref_ba_no)"
   ],
   "outputs": [
    {
     "output_type": "stream",
     "name": "stdout",
     "text": [
      "# classes: 1\n",
      "# maximum node tag: 63\n",
      "# data: 500\n",
      "# classes: 1\n",
      "# maximum node tag: 66\n",
      "# data: 500\n",
      "# classes: 1\n",
      "# maximum node tag: 65\n",
      "# data: 500\n",
      "# classes: 1\n",
      "# maximum node tag: 64\n",
      "# data: 500\n"
     ]
    },
    {
     "output_type": "error",
     "ename": "IndexError",
     "evalue": "index 68 is out of bounds for dimension 1 with size 66",
     "traceback": [
      "\u001b[0;31m---------------------------------------------------------------------------\u001b[0m",
      "\u001b[0;31mIndexError\u001b[0m                                Traceback (most recent call last)",
      "\u001b[0;32m/tmp/ipykernel_2241/3877029785.py\u001b[0m in \u001b[0;36m<module>\u001b[0;34m\u001b[0m\n\u001b[1;32m     17\u001b[0m \u001b[0mg_list_ref_ba_dd\u001b[0m\u001b[0;34m,\u001b[0m\u001b[0m_\u001b[0m \u001b[0;34m=\u001b[0m \u001b[0mload_graph_asS2Vgraph\u001b[0m\u001b[0;34m(\u001b[0m\u001b[0mgraph_ba_gen_dd\u001b[0m\u001b[0;34m,\u001b[0m\u001b[0;36m2\u001b[0m\u001b[0;34m,\u001b[0m\u001b[0mrandom\u001b[0m\u001b[0;34m,\u001b[0m \u001b[0mtagset\u001b[0m \u001b[0;34m,\u001b[0m \u001b[0mlentagset\u001b[0m\u001b[0;34m)\u001b[0m\u001b[0;34m\u001b[0m\u001b[0;34m\u001b[0m\u001b[0m\n\u001b[1;32m     18\u001b[0m \u001b[0mg_list_ref_ba_bfs\u001b[0m\u001b[0;34m,\u001b[0m\u001b[0m_\u001b[0m \u001b[0;34m=\u001b[0m \u001b[0mload_graph_asS2Vgraph\u001b[0m\u001b[0;34m(\u001b[0m\u001b[0mgraph_ba_gen_bfs\u001b[0m\u001b[0;34m,\u001b[0m\u001b[0;36m2\u001b[0m\u001b[0;34m,\u001b[0m\u001b[0mrandom\u001b[0m\u001b[0;34m,\u001b[0m \u001b[0mtagset\u001b[0m \u001b[0;34m,\u001b[0m \u001b[0mlentagset\u001b[0m\u001b[0;34m)\u001b[0m\u001b[0;34m\u001b[0m\u001b[0;34m\u001b[0m\u001b[0m\n\u001b[0;32m---> 19\u001b[0;31m \u001b[0mg_list_ref_ba_dfs\u001b[0m\u001b[0;34m,\u001b[0m\u001b[0m_\u001b[0m \u001b[0;34m=\u001b[0m \u001b[0mload_graph_asS2Vgraph\u001b[0m\u001b[0;34m(\u001b[0m\u001b[0mgraph_ba_gen_dfs\u001b[0m\u001b[0;34m,\u001b[0m\u001b[0;36m2\u001b[0m\u001b[0;34m,\u001b[0m\u001b[0mrandom\u001b[0m\u001b[0;34m,\u001b[0m \u001b[0mtagset\u001b[0m \u001b[0;34m,\u001b[0m \u001b[0mlentagset\u001b[0m\u001b[0;34m)\u001b[0m\u001b[0;34m\u001b[0m\u001b[0;34m\u001b[0m\u001b[0m\n\u001b[0m\u001b[1;32m     20\u001b[0m \u001b[0mg_list_ref_ba_kcore\u001b[0m\u001b[0;34m,\u001b[0m\u001b[0m_\u001b[0m \u001b[0;34m=\u001b[0m \u001b[0mload_graph_asS2Vgraph\u001b[0m\u001b[0;34m(\u001b[0m\u001b[0mgraph_ba_gen_kcore\u001b[0m\u001b[0;34m,\u001b[0m\u001b[0;36m2\u001b[0m\u001b[0;34m,\u001b[0m\u001b[0mrandom\u001b[0m\u001b[0;34m,\u001b[0m \u001b[0mtagset\u001b[0m \u001b[0;34m,\u001b[0m \u001b[0mlentagset\u001b[0m\u001b[0;34m)\u001b[0m\u001b[0;34m\u001b[0m\u001b[0;34m\u001b[0m\u001b[0m\n\u001b[1;32m     21\u001b[0m \u001b[0mg_list_ref_ba_no\u001b[0m\u001b[0;34m,\u001b[0m\u001b[0m_\u001b[0m \u001b[0;34m=\u001b[0m \u001b[0mload_graph_asS2Vgraph\u001b[0m\u001b[0;34m(\u001b[0m\u001b[0mgraph_ba_gen_noorder\u001b[0m\u001b[0;34m,\u001b[0m\u001b[0;36m2\u001b[0m\u001b[0;34m,\u001b[0m\u001b[0mrandom\u001b[0m\u001b[0;34m,\u001b[0m \u001b[0mtagset\u001b[0m \u001b[0;34m,\u001b[0m \u001b[0mlentagset\u001b[0m\u001b[0;34m)\u001b[0m\u001b[0;34m\u001b[0m\u001b[0;34m\u001b[0m\u001b[0m\n",
      "\u001b[0;32m~/Documents/Projets Python/Graph-FID/graph_neural_networks/GIN/util.py\u001b[0m in \u001b[0;36mload_graph_asS2Vgraph\u001b[0;34m(graph_list, label, random, tag2index, lentagset)\u001b[0m\n\u001b[1;32m    313\u001b[0m             \u001b[0mg\u001b[0m\u001b[0;34m.\u001b[0m\u001b[0mnode_features\u001b[0m \u001b[0;34m=\u001b[0m \u001b[0mtorch\u001b[0m\u001b[0;34m.\u001b[0m\u001b[0mzeros\u001b[0m\u001b[0;34m(\u001b[0m\u001b[0mlen\u001b[0m\u001b[0;34m(\u001b[0m\u001b[0mg\u001b[0m\u001b[0;34m.\u001b[0m\u001b[0mnode_tags\u001b[0m\u001b[0;34m)\u001b[0m\u001b[0;34m,\u001b[0m \u001b[0mlentagset\u001b[0m\u001b[0;34m)\u001b[0m\u001b[0;34m\u001b[0m\u001b[0;34m\u001b[0m\u001b[0m\n\u001b[1;32m    314\u001b[0m             g.node_features[range(len(g.node_tags)), [tag2index[tag]\n\u001b[0;32m--> 315\u001b[0;31m                                                     for tag in g.node_tags]] = 1\n\u001b[0m\u001b[1;32m    316\u001b[0m \u001b[0;34m\u001b[0m\u001b[0m\n\u001b[1;32m    317\u001b[0m     \u001b[0mprint\u001b[0m\u001b[0;34m(\u001b[0m\u001b[0;34m'# classes: %d'\u001b[0m \u001b[0;34m%\u001b[0m \u001b[0mlen\u001b[0m\u001b[0;34m(\u001b[0m\u001b[0mlabel_dict\u001b[0m\u001b[0;34m)\u001b[0m\u001b[0;34m)\u001b[0m\u001b[0;34m\u001b[0m\u001b[0;34m\u001b[0m\u001b[0m\n",
      "\u001b[0;31mIndexError\u001b[0m: index 68 is out of bounds for dimension 1 with size 66"
     ]
    }
   ],
   "metadata": {}
  },
  {
   "cell_type": "code",
   "execution_count": null,
   "source": [
    "graph_ws_test=load_graph_list('saved_graphs/watts_test.p',False)\n",
    "npr = np.random.RandomState(1)\n",
    "npr.shuffle(graph_ws_test)\n",
    "graph_ws_test=graph_ba_test[:500]\n",
    "graph_ws_gen_dd=load_graph_list('../../generated_graphs/wattsSW_GRANMixtureBernoulli_degree_descent.p',False)\n",
    "graph_ws_gen_bfs=load_graph_list('../../generated_graphs/wattsSW_GRANMixtureBernoulli_BFS.p',False)\n",
    "graph_ws_gen_dfs=load_graph_list('../../generated_graphs/wattsSW_GRANMixtureBernoulli_DFS.p',False)\n",
    "graph_ws_gen_kcore=load_graph_list('../../generated_graphs/wattsSW_GRANMixtureBernoulli_k_core.p',False)\n",
    "graph_ws_gen_noorder=load_graph_list('../../generated_graphs/wattsSW_GRANMixtureBernoulli_no_order.p',False)\n",
    "graph_ws_regen=[]\n",
    "for i in range(100,200):\n",
    "    for j in range(5):\n",
    "        g=nx.watts_strogatz_graph(i,4,0.1)\n",
    "        graph_ws_regen.append(g)\n",
    "g_list_ref_ws,_ = load_graph_asS2Vgraph(graph_ws_test,1,random, tagset , lentagset)\n",
    "g_list_ref_ws_regen,_ = load_graph_asS2Vgraph(graph_ws_regen,1,random, tagset , lentagset)\n",
    "g_list_ref_ws_dd,_ = load_graph_asS2Vgraph(graph_ws_gen_dd,1,random, tagset , lentagset)\n",
    "g_list_ref_ws_bfs,_ = load_graph_asS2Vgraph(graph_ws_gen_bfs,1,random, tagset , lentagset)\n",
    "g_list_ref_ws_dfs,_ = load_graph_asS2Vgraph(graph_ws_gen_dfs,1,random, tagset , lentagset)\n",
    "g_list_ref_ws_kcore,_ = load_graph_asS2Vgraph(graph_ws_gen_kcore,1,random, tagset , lentagset)\n",
    "g_list_ref_ws_no,_ = load_graph_asS2Vgraph(graph_ws_gen_noorder,1,random, tagset , lentagset)\n",
    "print(compute_fid(g_list_ref_ws,1,g_list_ref_ws_regen,model))\n",
    "print(compute_fid(g_list_ref_ws,1,g_list_ref_ws_dd,model))\n",
    "print(compute_fid(g_list_ref_ws,1,g_list_ref_ws_bfs,model))\n",
    "print(compute_fid(g_list_ref_ws,1,g_list_ref_ws_dfs,model))\n",
    "print(compute_fid(g_list_ref_ws,1,g_list_ref_ws_kcore,model))\n",
    "print(compute_fid(g_list_ref_ws,1,g_list_ref_ws_no,model))\n",
    "\n",
    "test_acc(model,'cuda:0',g_list_ref_ws)\n",
    "test_acc(model,'cuda:0',g_list_ref_ws_dd)\n",
    "test_acc(model,'cuda:0',g_list_ref_ws_bfs)\n",
    "test_acc(model,'cuda:0',g_list_ref_ws_dfs)\n",
    "test_acc(model,'cuda:0',g_list_ref_ws_kcore)\n",
    "test_acc(model,'cuda:0',g_list_ref_ws_no)"
   ],
   "outputs": [
    {
     "output_type": "stream",
     "name": "stdout",
     "text": [
      "# classes: 1\n",
      "# maximum node tag: 66\n",
      "# data: 500\n",
      "# classes: 1\n",
      "# maximum node tag: 7\n",
      "# data: 500\n",
      "# classes: 1\n",
      "# maximum node tag: 16\n",
      "# data: 500\n",
      "# classes: 1\n",
      "# maximum node tag: 29\n",
      "# data: 500\n",
      "# classes: 1\n",
      "# maximum node tag: 10\n",
      "# data: 500\n",
      "# classes: 1\n",
      "# maximum node tag: 10\n",
      "# data: 500\n",
      "# classes: 1\n",
      "# maximum node tag: 25\n",
      "# data: 500\n",
      "783485.8193198056\n",
      "989262.8440599522\n",
      "843365.3730332404\n",
      "1058043.5003389467\n",
      "857574.5138306125\n",
      "1016323.2973010978\n",
      "accuracy : 0.000000\n",
      "accuracy : 0.994000\n",
      "accuracy : 0.978000\n",
      "accuracy : 0.982000\n",
      "accuracy : 0.994000\n",
      "accuracy : 1.000000\n"
     ]
    },
    {
     "output_type": "execute_result",
     "data": {
      "text/plain": [
       "1.0"
      ]
     },
     "metadata": {},
     "execution_count": 12
    }
   ],
   "metadata": {}
  },
  {
   "cell_type": "code",
   "execution_count": 13,
   "source": [
    "def n_community(c_sizes, p_inter=0.01):\n",
    "    graphs = [nx.gnp_random_graph(c_sizes[i], 0.7, seed=i) for i in range(len(c_sizes))]\n",
    "    G = nx.disjoint_union_all(graphs)\n",
    "    communities = [G.subgraph(c) for c in nx.connected_components(G)]\n",
    "    for i in range(len(communities)):\n",
    "        subG1 = communities[i]\n",
    "        nodes1 = list(subG1.nodes())\n",
    "        for j in range(i + 1, len(communities)):\n",
    "            subG2 = communities[j]\n",
    "            nodes2 = list(subG2.nodes())\n",
    "            has_inter_edge = False\n",
    "            for n1 in nodes1:\n",
    "                for n2 in nodes2:\n",
    "                    if np.random.rand() < p_inter:\n",
    "                        G.add_edge(n1, n2)\n",
    "                        has_inter_edge = True\n",
    "            if not has_inter_edge:\n",
    "                G.add_edge(nodes1[0], nodes2[0])\n",
    "    # print('connected comp: ', len(list(nx.connected_component_subgraphs(G))))\n",
    "    return G\n",
    "\n",
    "graph_com2_test=load_graph_list('saved_graphs/community2_test.p',False)\n",
    "graph_com2_gen_dd=load_graph_list('../../generated_graphs/community2small_GRANMixtureBernoulli_DFS.p',False)\n",
    "graph3=[]\n",
    "for i in range(500):\n",
    "    c_sizes = np.random.choice(list(range(12, 17)), 2)\n",
    "    graph3.append(n_community(c_sizes, p_inter=0.05))\n",
    "g_list_ref_com2,_ = load_graph_asS2Vgraph(graph_com2_test,3,random, tagset , lentagset)\n",
    "g_list_pred_com2,_ = load_graph_asS2Vgraph(graph_com2_gen_dd,3,random, tagset , lentagset)\n",
    "g_list_pred_com3,_ = load_graph_asS2Vgraph(graph3,3,random, tagset , lentagset)\n",
    "print(compute_fid(g_list_ref_com2,1,g_list_pred_com2,model))\n",
    "print(compute_fid(g_list_ref_com2,1,g_list_pred_com3,model))\n",
    "test_acc(model,'cuda:0',g_list_ref_com2)\n",
    "test_acc(model,'cuda:0',g_list_pred_com2)"
   ],
   "outputs": [
    {
     "output_type": "stream",
     "name": "stdout",
     "text": [
      "# classes: 1\n",
      "# maximum node tag: 15\n",
      "# data: 1000\n",
      "# classes: 1\n",
      "# maximum node tag: 17\n",
      "# data: 500\n",
      "# classes: 1\n",
      "# maximum node tag: 15\n",
      "# data: 500\n",
      "5473053.705843424\n",
      "208.33437900349963\n",
      "accuracy : 0.000000\n",
      "accuracy : 0.000000\n"
     ]
    },
    {
     "output_type": "execute_result",
     "data": {
      "text/plain": [
       "0.0"
      ]
     },
     "metadata": {},
     "execution_count": 13
    }
   ],
   "metadata": {}
  },
  {
   "cell_type": "code",
   "execution_count": null,
   "source": [
    "def test_acc(model, device, train_graphs):\n",
    "    model.eval()\n",
    "\n",
    "    output = pass_data_iteratively(model, train_graphs)\n",
    "    pred = output.max(1, keepdim=True)[1]\n",
    "    labels = torch.LongTensor([graph.label for graph in train_graphs]).to(device)\n",
    "    correct = pred.eq(labels.view_as(pred)).sum().cpu().item()\n",
    "    acc = float(correct / float(len(train_graphs)))\n",
    "\n",
    "\n",
    "    print(\"accuracy : %f\" % (acc))\n",
    "\n",
    "    return acc\n",
    "\n",
    "def n_community(c_sizes, p_inter=0.01):\n",
    "    graphs = [nx.gnp_random_graph(c_sizes[i], 0.7, seed=i) for i in range(len(c_sizes))]\n",
    "    G = nx.disjoint_union_all(graphs)\n",
    "    communities = [G.subgraph(c) for c in nx.connected_components(G)]\n",
    "    for i in range(len(communities)):\n",
    "        subG1 = communities[i]\n",
    "        nodes1 = list(subG1.nodes())\n",
    "        for j in range(i + 1, len(communities)):\n",
    "            subG2 = communities[j]\n",
    "            nodes2 = list(subG2.nodes())\n",
    "            has_inter_edge = False\n",
    "            for n1 in nodes1:\n",
    "                for n2 in nodes2:\n",
    "                    if np.random.rand() < p_inter:\n",
    "                        G.add_edge(n1, n2)\n",
    "                        has_inter_edge = True\n",
    "            if not has_inter_edge:\n",
    "                G.add_edge(nodes1[0], nodes2[0])\n",
    "    # print('connected comp: ', len(list(nx.connected_component_subgraphs(G))))\n",
    "    return G\n",
    "\n",
    "test_acc(model,'cuda:0',g_list_pred_rnn)"
   ],
   "outputs": [
    {
     "output_type": "stream",
     "name": "stdout",
     "text": [
      "accuracy : 1.000000\n"
     ]
    },
    {
     "output_type": "execute_result",
     "data": {
      "text/plain": [
       "1.0"
      ]
     },
     "metadata": {},
     "execution_count": 14
    }
   ],
   "metadata": {}
  }
 ],
 "metadata": {
  "kernelspec": {
   "name": "python3",
   "display_name": "Python 3.7.10 64-bit ('graphRL': conda)"
  },
  "language_info": {
   "codemirror_mode": {
    "name": "ipython",
    "version": 3
   },
   "file_extension": ".py",
   "mimetype": "text/x-python",
   "name": "python",
   "nbconvert_exporter": "python",
   "pygments_lexer": "ipython3",
   "version": "3.7.10"
  },
  "interpreter": {
   "hash": "3d0494937803f43eb53306e8569b34e94f10729ff691099c0010227141b076fc"
  }
 },
 "nbformat": 4,
 "nbformat_minor": 2
}