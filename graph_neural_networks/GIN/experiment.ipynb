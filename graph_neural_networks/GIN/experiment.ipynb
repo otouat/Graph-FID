{
 "cells": [
  {
   "cell_type": "markdown",
   "source": [
    "# GIN Experiment\n",
    "This notebook will implement the evaluation pipeline with the FID calculation using the GIN"
   ],
   "metadata": {}
  },
  {
   "cell_type": "markdown",
   "source": [
    "## Setup"
   ],
   "metadata": {}
  },
  {
   "cell_type": "code",
   "execution_count": 1,
   "source": [
    "import argparse\n",
    "import torch\n",
    "import torch.nn as nn\n",
    "import torch.nn.functional as F\n",
    "import torch.optim as optim\n",
    "import numpy as np\n",
    "import pickle\n",
    "from tqdm import tqdm\n",
    "\n",
    "from util import load_data, load_synth_data, separate_data , load_graph_asS2Vgraph\n",
    "from models.graphcnn import GraphCNN\n",
    "\n",
    "\n",
    "criterion = nn.CrossEntropyLoss()"
   ],
   "outputs": [],
   "metadata": {}
  },
  {
   "cell_type": "code",
   "execution_count": 2,
   "source": [
    "def train(iters_per_epoch, batch_size, model, device, train_graphs, optimizer, epoch):\n",
    "    model.train()\n",
    "\n",
    "    total_iters = iters_per_epoch\n",
    "    pbar = tqdm(range(total_iters), unit='batch')\n",
    "\n",
    "    loss_accum = 0\n",
    "    for pos in pbar:\n",
    "        selected_idx = np.random.permutation(len(train_graphs))[:batch_size]\n",
    "\n",
    "        batch_graph = [train_graphs[idx] for idx in selected_idx]\n",
    "        output = model(batch_graph)\n",
    "\n",
    "        labels = torch.LongTensor([graph.label for graph in batch_graph]).to(device)\n",
    "\n",
    "        #compute loss\n",
    "        loss = criterion(output, labels)\n",
    "\n",
    "        #backprop\n",
    "        if optimizer is not None:\n",
    "            optimizer.zero_grad()\n",
    "            loss.backward()         \n",
    "            optimizer.step()\n",
    "        \n",
    "\n",
    "        loss = loss.detach().cpu().numpy()\n",
    "        loss_accum += loss\n",
    "\n",
    "        #report\n",
    "        pbar.set_description('epoch: %d' % (epoch))\n",
    "\n",
    "    average_loss = loss_accum/total_iters\n",
    "    print(\"loss training: %f\" % (average_loss))\n",
    "    \n",
    "    return average_loss\n",
    "\n",
    "###pass data to model with minibatch during testing to avoid memory overflow (does not perform backpropagation)\n",
    "def pass_data_iteratively(model, graphs, minibatch_size = 64):\n",
    "    model.eval()\n",
    "    output = []\n",
    "    idx = np.arange(len(graphs))\n",
    "    for i in range(0, len(graphs), minibatch_size):\n",
    "        sampled_idx = idx[i:i+minibatch_size]\n",
    "        if len(sampled_idx) == 0:\n",
    "            continue\n",
    "        output.append(model([graphs[j] for j in sampled_idx]).detach())\n",
    "    return torch.cat(output, 0)\n",
    "\n",
    "def test(model, device, train_graphs, test_graphs, epoch):\n",
    "    model.eval()\n",
    "\n",
    "    output = pass_data_iteratively(model, train_graphs)\n",
    "    pred = output.max(1, keepdim=True)[1]\n",
    "    labels = torch.LongTensor([graph.label for graph in train_graphs]).to(device)\n",
    "    correct = pred.eq(labels.view_as(pred)).sum().cpu().item()\n",
    "    acc_train = correct / float(len(train_graphs))\n",
    "\n",
    "    output = pass_data_iteratively(model, test_graphs)\n",
    "    pred = output.max(1, keepdim=True)[1]\n",
    "    labels = torch.LongTensor([graph.label for graph in test_graphs]).to(device)\n",
    "    correct = pred.eq(labels.view_as(pred)).sum().cpu().item()\n",
    "    acc_test = correct / float(len(test_graphs))\n",
    "\n",
    "    print(\"accuracy train: %f test: %f\" % (acc_train, acc_test))\n",
    "\n",
    "    return acc_train, acc_test"
   ],
   "outputs": [],
   "metadata": {}
  },
  {
   "cell_type": "markdown",
   "source": [
    "## Training settings"
   ],
   "metadata": {}
  },
  {
   "cell_type": "code",
   "execution_count": 3,
   "source": [
    "dataset = None\n",
    "device = 0 \n",
    "batch_size = 32\n",
    "iters_per_epoch = 50\n",
    "epochs = 60\n",
    "lr = 0.01\n",
    "seed = 0\n",
    "fold_idx = 1\n",
    "num_layers = [5]\n",
    "num_mlp_layers = 3\n",
    "hidden_dims = [64]\n",
    "final_dropout = 0.5\n",
    "graph_pooling_type = \"sum\"\n",
    "neighbor_pooling_type = \"sum\"\n",
    "learn_eps = False\n",
    "degree_as_tag = True\n",
    "filename = \"\"\n",
    "random = 1"
   ],
   "outputs": [],
   "metadata": {}
  },
  {
   "cell_type": "markdown",
   "source": [
    "## Training "
   ],
   "metadata": {}
  },
  {
   "cell_type": "code",
   "execution_count": 4,
   "source": [
    "from itertools import product\n",
    "\n",
    "train_acc,test_acc=[],[]\n",
    "\n",
    "#set up seeds and gpu device\n",
    "torch.manual_seed(0)\n",
    "np.random.seed(0)    \n",
    "device = torch.device(\"cuda:\" + str(device)) if torch.cuda.is_available() else torch.device(\"cpu\")\n",
    "if torch.cuda.is_available():\n",
    "    torch.cuda.manual_seed_all(0)\n",
    "\n",
    "if dataset != None :\n",
    "    graphs, num_classes = load_data(dataset, degree_as_tag)\n",
    "else :\n",
    "    graphs, num_classes, tagset , lentagset = load_synth_data(True, random)\n",
    "\n",
    "for num_layer,hidden_dim in product(num_layers,hidden_dims):\n",
    "    fold_test_accuracy=[]\n",
    "    fold_train_accuracy=[]\n",
    "    for fold_idx in range(1,2):\n",
    "        train_graphs, test_graphs = separate_data(graphs, seed, fold_idx)\n",
    "\n",
    "        model = GraphCNN(num_layer, num_mlp_layers, train_graphs[0].node_features.shape[1], hidden_dim, num_classes, final_dropout, learn_eps, graph_pooling_type, neighbor_pooling_type,random, device).to(device)\n",
    "\n",
    "        optimizer = optim.Adam(model.parameters(),lr=lr)\n",
    "        scheduler = optim.lr_scheduler.StepLR(optimizer, step_size=50, gamma=0.5)\n",
    "        \n",
    "        for epoch in range(1, epochs + 1):\n",
    "            scheduler.step()\n",
    "\n",
    "            avg_loss = train(iters_per_epoch,batch_size,model, device, train_graphs, optimizer, epoch)\n",
    "            acc_train, acc_test = test( model, device, train_graphs, test_graphs, epoch)\n",
    "            fold_test_accuracy.append(acc_test)\n",
    "            fold_train_accuracy.append(acc_train)\n",
    "    train_acc.append((np.mean(fold_train_accuracy),num_layer,hidden_dim))\n",
    "    test_acc.append((np.mean(fold_test_accuracy),num_layer,hidden_dim))"
   ],
   "outputs": [
    {
     "output_type": "stream",
     "name": "stdout",
     "text": [
      "loading data\n",
      "# classes: 1\n",
      "# maximum node tag: 3\n",
      "# data: 500\n"
     ]
    },
    {
     "output_type": "stream",
     "name": "stderr",
     "text": [
      "/home/ousmanetouat/anaconda3/envs/graphRL/lib/python3.7/site-packages/torch/optim/lr_scheduler.py:134: UserWarning: Detected call of `lr_scheduler.step()` before `optimizer.step()`. In PyTorch 1.1.0 and later, you should call them in the opposite order: `optimizer.step()` before `lr_scheduler.step()`.  Failure to do this will result in PyTorch skipping the first value of the learning rate schedule. See more details at https://pytorch.org/docs/stable/optim.html#how-to-adjust-learning-rate\n",
      "  \"https://pytorch.org/docs/stable/optim.html#how-to-adjust-learning-rate\", UserWarning)\n",
      "epoch: 1: 100%|██████████| 50/50 [00:03<00:00, 14.92batch/s]\n"
     ]
    },
    {
     "output_type": "stream",
     "name": "stdout",
     "text": [
      "loss training: 0.000000\n",
      "accuracy train: 1.000000 test: 1.000000\n"
     ]
    },
    {
     "output_type": "stream",
     "name": "stderr",
     "text": [
      "epoch: 2: 100%|██████████| 50/50 [00:02<00:00, 16.86batch/s]\n"
     ]
    },
    {
     "output_type": "stream",
     "name": "stdout",
     "text": [
      "loss training: 0.000000\n",
      "accuracy train: 1.000000 test: 1.000000\n"
     ]
    },
    {
     "output_type": "stream",
     "name": "stderr",
     "text": [
      "epoch: 3: 100%|██████████| 50/50 [00:02<00:00, 17.15batch/s]\n"
     ]
    },
    {
     "output_type": "stream",
     "name": "stdout",
     "text": [
      "loss training: 0.000000\n",
      "accuracy train: 1.000000 test: 1.000000\n"
     ]
    },
    {
     "output_type": "stream",
     "name": "stderr",
     "text": [
      "epoch: 4: 100%|██████████| 50/50 [00:03<00:00, 16.32batch/s]\n"
     ]
    },
    {
     "output_type": "stream",
     "name": "stdout",
     "text": [
      "loss training: 0.000000\n",
      "accuracy train: 1.000000 test: 1.000000\n"
     ]
    },
    {
     "output_type": "stream",
     "name": "stderr",
     "text": [
      "epoch: 5: 100%|██████████| 50/50 [00:02<00:00, 16.79batch/s]\n"
     ]
    },
    {
     "output_type": "stream",
     "name": "stdout",
     "text": [
      "loss training: 0.000000\n",
      "accuracy train: 1.000000 test: 1.000000\n"
     ]
    },
    {
     "output_type": "stream",
     "name": "stderr",
     "text": [
      "epoch: 6:   0%|          | 0/50 [00:00<?, ?batch/s]"
     ]
    }
   ],
   "metadata": {}
  },
  {
   "cell_type": "code",
   "execution_count": null,
   "source": [
    "output = pass_data_iteratively(model, graphs)"
   ],
   "outputs": [],
   "metadata": {}
  },
  {
   "cell_type": "code",
   "execution_count": null,
   "source": [
    "import time\n",
    "import pandas as pd\n",
    "import numpy as np\n",
    "import matplotlib.pyplot as plt\n",
    "import matplotlib.patheffects as PathEffects\n",
    "%matplotlib inline\n",
    "\n",
    "import seaborn as sns\n",
    "sns.set_style('darkgrid')\n",
    "sns.set_palette('muted')\n",
    "sns.set_context(\"notebook\", font_scale=1.5,\n",
    "                rc={\"lines.linewidth\": 2.5})\n",
    "\n",
    "def fashion_scatter(x, colors):\n",
    "    # choose a color palette with seaborn.\n",
    "    num_classes = len(np.unique(colors))\n",
    "    palette = np.array(sns.color_palette(\"hls\", num_classes))\n",
    "\n",
    "    # create a scatter plot.\n",
    "    f = plt.figure(figsize=(8, 8))\n",
    "    ax = plt.subplot(aspect='equal')\n",
    "    sc = ax.scatter(x[:,0], x[:,1], lw=0, s=40, c=palette[colors.astype(np.int)])\n",
    "    plt.xlim(-25, 25)\n",
    "    plt.ylim(-25, 25)\n",
    "    ax.axis('tight')\n",
    "\n",
    "    # add the labels for each digit corresponding to the label\n",
    "    txts = []\n",
    "\n",
    "    for i in range(num_classes):\n",
    "\n",
    "        # Position of each label at median of data points.\n",
    "\n",
    "        xtext, ytext = np.median(x[colors == i, :], axis=0)\n",
    "        txt = ax.text(xtext, ytext, str(i), fontsize=24)\n",
    "        txt.set_path_effects([\n",
    "            PathEffects.Stroke(linewidth=5, foreground=\"w\"),\n",
    "            PathEffects.Normal()])\n",
    "        txts.append(txt)\n",
    "\n",
    "    return f, ax, sc, txts"
   ],
   "outputs": [],
   "metadata": {}
  },
  {
   "cell_type": "code",
   "execution_count": null,
   "source": [
    "X=output.cpu()\n",
    "y = np.array([g.label for g in graphs])\n",
    "############################################################\n",
    "from sklearn.manifold import TSNE\n",
    "import time\n",
    "time_start = time.time()\n",
    "\n",
    "fashion_tsne = TSNE(random_state=0).fit_transform(X)\n",
    "fashion_scatter(fashion_tsne, y)"
   ],
   "outputs": [
    {
     "output_type": "stream",
     "name": "stderr",
     "text": [
      "/home/ousmanetouat/anaconda3/envs/graphRL/lib/python3.7/site-packages/ipykernel_launcher.py:22: DeprecationWarning: `np.int` is a deprecated alias for the builtin `int`. To silence this warning, use `int` by itself. Doing this will not modify any behavior and is safe. When replacing `np.int`, you may wish to use e.g. `np.int64` or `np.int32` to specify the precision. If you wish to review your current use, check the release note link for additional information.\n",
      "Deprecated in NumPy 1.20; for more details and guidance: https://numpy.org/devdocs/release/1.20.0-notes.html#deprecations\n"
     ]
    },
    {
     "output_type": "execute_result",
     "data": {
      "text/plain": [
       "(<Figure size 576x576 with 1 Axes>,\n",
       " <matplotlib.axes._subplots.AxesSubplot at 0x7f29e00d5d50>,\n",
       " <matplotlib.collections.PathCollection at 0x7f29e0100110>,\n",
       " [Text(-0.942225,-7.85306,'0'),\n",
       "  Text(-49.7159,-1.64681,'1'),\n",
       "  Text(15.0845,44.5278,'2'),\n",
       "  Text(55.249,-2.59657,'3'),\n",
       "  Text(-1.52742,-59.5839,'4')])"
      ]
     },
     "metadata": {},
     "execution_count": 10
    },
    {
     "output_type": "display_data",
     "data": {
      "image/png": "[encoded data removed]",
      "text/plain": [
       "<Figure size 576x576 with 1 Axes>"
      ]
     },
     "metadata": {}
    }
   ],
   "metadata": {}
  },
  {
   "cell_type": "code",
   "execution_count": null,
   "source": [
    "np.unique(y)"
   ],
   "outputs": [
    {
     "output_type": "execute_result",
     "data": {
      "text/plain": [
       "array([0, 1, 2, 3, 4])"
      ]
     },
     "metadata": {},
     "execution_count": 11
    }
   ],
   "metadata": {}
  },
  {
   "cell_type": "code",
   "execution_count": null,
   "source": [
    "import networkx as nx\n",
    "from scipy import linalg\n",
    "## Coming from https://github.com/mseitzer/pytorch-fid\n",
    "def compute_FID(mu1, mu2, cov1, cov2, eps = 1e-6):\n",
    "    assert mu1.shape == mu2.shape, \\\n",
    "        'Training and test mean vectors have different lengths'\n",
    "    assert cov1.shape == cov2.shape, \\\n",
    "        'Training and test covariances have different dimensions'\n",
    "\n",
    "    diff = mu1 - mu2\n",
    "    # Product might be almost singular\n",
    "    covmean, _ = linalg.sqrtm(cov1.dot(cov2), disp=False)\n",
    "    if not np.isfinite(covmean).all():\n",
    "        msg = ('fid calculation produces singular product; '\n",
    "                'adding %s to diagonal of cov estimates') % eps\n",
    "        print(msg)\n",
    "        offset = np.eye(cov1.shape[0]) * eps\n",
    "        covmean = linalg.sqrtm((cov1 + offset).dot(cov2 + offset))\n",
    "\n",
    "    # Numerical error might give slight imaginary component\n",
    "    if np.iscomplexobj(covmean):\n",
    "        if not np.allclose(np.diagonal(covmean).imag, 0, atol=1e-3):\n",
    "            m = np.max(np.abs(covmean.imag))\n",
    "            raise ValueError('Imaginary component {}'.format(m))\n",
    "        covmean = covmean.real\n",
    "\n",
    "    tr_covmean = np.trace(covmean)\n",
    "\n",
    "    return (diff.dot(diff) + np.trace(cov1) +\n",
    "            np.trace(cov2) - 2 * tr_covmean)\n",
    "\n",
    "def compute_fid(ref_graph,ref_label,pred_graph,model):\n",
    "    device = 0\n",
    "    num_layers = 5\n",
    "    num_mlp_layers = 2\n",
    "    hidden_dim = 64\n",
    "    final_dropout = 0.5\n",
    "    graph_pooling_type = \"sum\"\n",
    "    neighbor_pooling_type = \"sum\"\n",
    "    learn_eps = False\n",
    "    \n",
    "    #set up seeds and gpu device\n",
    "    torch.manual_seed(0)\n",
    "    np.random.seed(0)\n",
    "    device = torch.device(\"cuda:\" + str(device)) if torch.cuda.is_available() else torch.device(\"cpu\")\n",
    "    if torch.cuda.is_available():\n",
    "        torch.cuda.manual_seed_all(0)\n",
    "    #model = GraphCNN(num_layers, num_mlp_layers, train_graphs[0].node_features.shape[1], hidden_dim, 5, final_dropout, learn_eps, graph_pooling_type, neighbor_pooling_type, 'cpu').to('cpu')\n",
    "    #model.load_checkpoint()\n",
    "    #model.eval()\n",
    "\n",
    "\n",
    "    with torch.no_grad():\n",
    "        embed_graphs_ref = model.get_graph_embed_sum(ref_graph)\n",
    "        embed_graphs_ref=embed_graphs_ref.cpu().detach().numpy()\n",
    "        mu_ref = np.mean(embed_graphs_ref, axis = 0)\n",
    "        cov_ref = np.cov(embed_graphs_ref, rowvar = False)\n",
    "\n",
    "        embed_graphs_pred = model.get_graph_embed_sum(pred_graph)\n",
    "        embed_graphs_pred=embed_graphs_pred.cpu().detach().numpy()\n",
    "        mu_pred = np.mean(embed_graphs_pred, axis = 0)\n",
    "        cov_pred = np.cov(embed_graphs_pred, rowvar = False)\n",
    "\n",
    "    fid = compute_FID(mu_ref,mu_pred,cov_ref,cov_pred)\n",
    "    return fid\n",
    "\n",
    "def test_acc(model, device, train_graphs):\n",
    "    model.eval()\n",
    "\n",
    "    output = pass_data_iteratively(model, train_graphs)\n",
    "    pred = output.max(1, keepdim=True)[1]\n",
    "    labels = torch.LongTensor([graph.label for graph in train_graphs]).to(device)\n",
    "    correct = pred.eq(labels.view_as(pred)).sum().cpu().item()\n",
    "    acc = float(correct / float(len(train_graphs)))\n",
    "\n",
    "\n",
    "    print(\"accuracy : %f\" % (acc))\n",
    "\n",
    "    return acc"
   ],
   "outputs": [],
   "metadata": {}
  },
  {
   "cell_type": "code",
   "execution_count": null,
   "source": [
    "from util import load_graph_list\n",
    "graph_grid_test=load_graph_list('saved_graphs/grid_test.p',False)\n",
    "graph_grid_gen=load_graph_list('../../generated_graphs/grid_GRANMixtureBernoulli_DFS.p',False)\n",
    "graph2= []\n",
    "npr = np.random.RandomState(1)\n",
    "npr.shuffle(graph_grid_test)\n",
    "graph_grid_test=graph_grid_test[:100]\n",
    "for k in range(10,20):\n",
    "    for j in range(10,20):\n",
    "        graph2.append(nx.grid_2d_graph(k,j))\n",
    "graph_grid_gen_rnn=load_graph_list('../../generated_graphs/grid_RNN_BFS.p',False)\n",
    "graph_grid_gen_mlp=load_graph_list('../../generated_graphs/grid_RNN_MLP_BFS.p',False)\n",
    "g_list_ref,_ = load_graph_asS2Vgraph(graph_grid_test,4,random,tagset , lentagset)\n",
    "g_list_pred,_ = load_graph_asS2Vgraph(graph_grid_gen,4,random, tagset , lentagset)\n",
    "g_list_pred2,_ = load_graph_asS2Vgraph(graph2,4,random, tagset , lentagset)\n",
    "g_list_pred_rnn,_ = load_graph_asS2Vgraph(graph_grid_gen_rnn,4,random, tagset , lentagset)\n",
    "g_list_pred_mlp,_ = load_graph_asS2Vgraph(graph_grid_gen_mlp,4,random, tagset , lentagset)\n",
    "print(compute_fid([graphs[i] for i in range(len(graphs)) if graphs[i].label ==1],2,g_list_pred2,model))\n",
    "print(compute_fid([graphs[i] for i in range(len(graphs)) if graphs[i].label ==1],2,g_list_pred,model))\n",
    "print(compute_fid([graphs[i] for i in range(len(graphs)) if graphs[i].label ==1],2,g_list_pred_rnn,model))\n",
    "print(compute_fid([graphs[i] for i in range(len(graphs)) if graphs[i].label ==1],2,g_list_pred_mlp,model))\n",
    "test_acc(model,'cuda:0',[graphs[i] for i in range(len(graphs)) if graphs[i].label ==1])\n",
    "test_acc(model,'cuda:0',g_list_pred)\n",
    "test_acc(model,'cuda:0',g_list_pred_rnn)\n",
    "test_acc(model,'cuda:0',g_list_pred_mlp)"
   ],
   "outputs": [
    {
     "output_type": "stream",
     "name": "stdout",
     "text": [
      "# classes: 1\n",
      "# maximum node tag: 3\n",
      "# data: 100\n",
      "# classes: 1\n",
      "# maximum node tag: 4\n",
      "# data: 100\n",
      "# classes: 1\n",
      "# maximum node tag: 3\n",
      "# data: 100\n",
      "# classes: 1\n",
      "# maximum node tag: 8\n",
      "# data: 100\n",
      "# classes: 1\n",
      "# maximum node tag: 8\n",
      "# data: 100\n",
      "35.35968009468888\n",
      "4014.4102485260646\n",
      "26027.419415881854\n",
      "65476.91343120941\n",
      "accuracy : 1.000000\n",
      "accuracy : 1.000000\n",
      "accuracy : 1.000000\n",
      "accuracy : 0.930000\n"
     ]
    },
    {
     "output_type": "execute_result",
     "data": {
      "text/plain": [
       "0.93"
      ]
     },
     "metadata": {},
     "execution_count": 19
    }
   ],
   "metadata": {}
  },
  {
   "cell_type": "code",
   "execution_count": null,
   "source": [
    "graph_ba_test=load_graph_list('saved_graphs/barabasi_test.p',False)\n",
    "npr = np.random.RandomState(1)\n",
    "npr.shuffle(graph_ba_test)\n",
    "graph_ba_test=graph_ba_test[:10]\n",
    "graph_ba_gen_dd=load_graph_list('../../generated_graphs/barabasi_GRANMixtureBernoulli_degree_decent.p',False)\n",
    "graph_ba_gen_bfs=load_graph_list('../../generated_graphs/barabasi_GRANMixtureBernoulli_BFS.p',False)\n",
    "graph_ba_gen_dfs=load_graph_list('../../generated_graphs/barabasi_GRANMixtureBernoulli_DFS.p',False)\n",
    "graph_ba_gen_kcore=load_graph_list('../../generated_graphs/barabasi_GRANMixtureBernoulli_k_core.p',False)\n",
    "graph_ba_gen_noorder=load_graph_list('../../generated_graphs/barabasi_GRANMixtureBernoulli_no_order.p',False)\n",
    "graph_ba_regen=[]\n",
    "for i in range(100,200):\n",
    "    for j in range(5):\n",
    "        g=nx.barabasi_albert_graph(i,4)\n",
    "        graph_ba_regen.append(g)\n",
    "g_list_ref_ba,_ = load_graph_asS2Vgraph(graph_ba_test,2,random, tagset , lentagset)\n",
    "g_list_ref_ba_regen,_ = load_graph_asS2Vgraph(graph_ba_regen,2,random, tagset , lentagset)\n",
    "g_list_ref_ba_dd,_ = load_graph_asS2Vgraph(graph_ba_gen_dd,2,random, tagset , lentagset)\n",
    "g_list_ref_ba_bfs,_ = load_graph_asS2Vgraph(graph_ba_gen_bfs,2,random, tagset , lentagset)\n",
    "g_list_ref_ba_dfs,_ = load_graph_asS2Vgraph(graph_ba_gen_dfs,2,random, tagset , lentagset)\n",
    "g_list_ref_ba_kcore,_ = load_graph_asS2Vgraph(graph_ba_gen_kcore,2,random, tagset , lentagset)\n",
    "g_list_ref_ba_no,_ = load_graph_asS2Vgraph(graph_ba_gen_noorder,2,random, tagset , lentagset)\n",
    "print(compute_fid([graphs[i] for i in range(len(graphs)) if graphs[i].label ==2][:100],2,g_list_ref_ba_regen,model))\n",
    "print(compute_fid([graphs[i] for i in range(len(graphs)) if graphs[i].label ==2][:100],2,g_list_ref_ba_dd,model))\n",
    "print(compute_fid([graphs[i] for i in range(len(graphs)) if graphs[i].label ==2][:100],2,g_list_ref_ba_bfs,model))\n",
    "print(compute_fid([graphs[i] for i in range(len(graphs)) if graphs[i].label ==2][:100],2,g_list_ref_ba_dfs,model))\n",
    "print(compute_fid([graphs[i] for i in range(len(graphs)) if graphs[i].label ==2][:100],2,g_list_ref_ba_kcore,model))\n",
    "print(compute_fid([graphs[i] for i in range(len(graphs)) if graphs[i].label ==2][:100],2,g_list_ref_ba_no,model))\n",
    "\n",
    "test_acc(model,'cuda:0',g_list_ref_ba)\n",
    "test_acc(model,'cuda:0',g_list_ref_ba_dd)\n",
    "test_acc(model,'cuda:0',g_list_ref_ba_bfs)\n",
    "test_acc(model,'cuda:0',g_list_ref_ba_dfs)\n",
    "test_acc(model,'cuda:0',g_list_ref_ba_kcore)\n",
    "test_acc(model,'cuda:0',g_list_ref_ba_no)"
   ],
   "outputs": [
    {
     "output_type": "stream",
     "name": "stdout",
     "text": [
      "# classes: 1\n",
      "# maximum node tag: 45\n",
      "# data: 10\n",
      "# classes: 1\n",
      "# maximum node tag: 66\n",
      "# data: 500\n",
      "# classes: 1\n",
      "# maximum node tag: 65\n",
      "# data: 500\n",
      "# classes: 1\n",
      "# maximum node tag: 64\n",
      "# data: 500\n",
      "# classes: 1\n",
      "# maximum node tag: 69\n",
      "# data: 500\n",
      "# classes: 1\n",
      "# maximum node tag: 58\n",
      "# data: 500\n",
      "# classes: 1\n",
      "# maximum node tag: 66\n",
      "# data: 500\n",
      "1016880.1972972867\n",
      "1482377.276299108\n",
      "650900.3113275735\n",
      "5227228.469139386\n",
      "822772.9403548855\n",
      "9370804.800407553\n",
      "accuracy : 0.000000\n",
      "accuracy : 0.002000\n",
      "accuracy : 0.000000\n",
      "accuracy : 0.002000\n",
      "accuracy : 0.004000\n",
      "accuracy : 0.000000\n"
     ]
    },
    {
     "output_type": "execute_result",
     "data": {
      "text/plain": [
       "0.0"
      ]
     },
     "metadata": {},
     "execution_count": 21
    }
   ],
   "metadata": {}
  },
  {
   "cell_type": "code",
   "execution_count": null,
   "source": [
    "graph_ws_test=load_graph_list('saved_graphs/watts_test.p',False)\n",
    "npr = np.random.RandomState(1)\n",
    "npr.shuffle(graph_ws_test)\n",
    "graph_ws_test=graph_ba_test[:500]\n",
    "graph_ws_gen_dd=load_graph_list('../../generated_graphs/wattsSW_GRANMixtureBernoulli_degree_descent.p',False)\n",
    "graph_ws_gen_bfs=load_graph_list('../../generated_graphs/wattsSW_GRANMixtureBernoulli_BFS.p',False)\n",
    "graph_ws_gen_dfs=load_graph_list('../../generated_graphs/wattsSW_GRANMixtureBernoulli_DFS.p',False)\n",
    "graph_ws_gen_kcore=load_graph_list('../../generated_graphs/wattsSW_GRANMixtureBernoulli_k_core.p',False)\n",
    "graph_ws_gen_noorder=load_graph_list('../../generated_graphs/wattsSW_GRANMixtureBernoulli_no_order.p',False)\n",
    "graph_ws_regen=[]\n",
    "for i in range(100,200):\n",
    "    for j in range(5):\n",
    "        g=nx.watts_strogatz_graph(i,4,0.1)\n",
    "        graph_ws_regen.append(g)\n",
    "g_list_ref_ws,_ = load_graph_asS2Vgraph(graph_ws_test,1,random, tagset , lentagset)\n",
    "g_list_ref_ws_regen,_ = load_graph_asS2Vgraph(graph_ws_regen,1,random, tagset , lentagset)\n",
    "g_list_ref_ws_dd,_ = load_graph_asS2Vgraph(graph_ws_gen_dd,1,random, tagset , lentagset)\n",
    "g_list_ref_ws_bfs,_ = load_graph_asS2Vgraph(graph_ws_gen_bfs,1,random, tagset , lentagset)\n",
    "g_list_ref_ws_dfs,_ = load_graph_asS2Vgraph(graph_ws_gen_dfs,1,random, tagset , lentagset)\n",
    "g_list_ref_ws_kcore,_ = load_graph_asS2Vgraph(graph_ws_gen_kcore,1,random, tagset , lentagset)\n",
    "g_list_ref_ws_no,_ = load_graph_asS2Vgraph(graph_ws_gen_noorder,1,random, tagset , lentagset)\n",
    "print(compute_fid(g_list_ref_ws,1,g_list_ref_ws_regen,model))\n",
    "print(compute_fid(g_list_ref_ws,1,g_list_ref_ws_dd,model))\n",
    "print(compute_fid(g_list_ref_ws,1,g_list_ref_ws_bfs,model))\n",
    "print(compute_fid(g_list_ref_ws,1,g_list_ref_ws_dfs,model))\n",
    "print(compute_fid(g_list_ref_ws,1,g_list_ref_ws_kcore,model))\n",
    "print(compute_fid(g_list_ref_ws,1,g_list_ref_ws_no,model))\n",
    "\n",
    "test_acc(model,'cuda:0',g_list_ref_ws)\n",
    "test_acc(model,'cuda:0',g_list_ref_ws_dd)\n",
    "test_acc(model,'cuda:0',g_list_ref_ws_bfs)\n",
    "test_acc(model,'cuda:0',g_list_ref_ws_dfs)\n",
    "test_acc(model,'cuda:0',g_list_ref_ws_kcore)\n",
    "test_acc(model,'cuda:0',g_list_ref_ws_no)"
   ],
   "outputs": [
    {
     "output_type": "stream",
     "name": "stdout",
     "text": [
      "# classes: 1\n",
      "# maximum node tag: 67\n",
      "# data: 500\n",
      "# classes: 1\n",
      "# maximum node tag: 7\n",
      "# data: 500\n",
      "# classes: 1\n",
      "# maximum node tag: 16\n",
      "# data: 500\n",
      "# classes: 1\n",
      "# maximum node tag: 29\n",
      "# data: 500\n",
      "# classes: 1\n",
      "# maximum node tag: 10\n",
      "# data: 500\n",
      "# classes: 1\n",
      "# maximum node tag: 10\n",
      "# data: 500\n",
      "# classes: 1\n",
      "# maximum node tag: 25\n",
      "# data: 500\n",
      "7258120.195728873\n",
      "7235047.506023419\n",
      "3516124.148399424\n",
      "7216705.166170676\n",
      "7224543.672919266\n",
      "7205840.056679942\n",
      "accuracy : 1.000000\n",
      "accuracy : 0.002000\n",
      "accuracy : 0.032000\n",
      "accuracy : 0.000000\n",
      "accuracy : 0.000000\n",
      "accuracy : 0.000000\n"
     ]
    },
    {
     "output_type": "execute_result",
     "data": {
      "text/plain": [
       "0.0"
      ]
     },
     "metadata": {},
     "execution_count": 12
    }
   ],
   "metadata": {}
  },
  {
   "cell_type": "code",
   "execution_count": null,
   "source": [
    "def n_community(c_sizes, p_inter=0.01):\n",
    "    graphs = [nx.gnp_random_graph(c_sizes[i], 0.7, seed=i) for i in range(len(c_sizes))]\n",
    "    G = nx.disjoint_union_all(graphs)\n",
    "    communities = [G.subgraph(c) for c in nx.connected_components(G)]\n",
    "    for i in range(len(communities)):\n",
    "        subG1 = communities[i]\n",
    "        nodes1 = list(subG1.nodes())\n",
    "        for j in range(i + 1, len(communities)):\n",
    "            subG2 = communities[j]\n",
    "            nodes2 = list(subG2.nodes())\n",
    "            has_inter_edge = False\n",
    "            for n1 in nodes1:\n",
    "                for n2 in nodes2:\n",
    "                    if np.random.rand() < p_inter:\n",
    "                        G.add_edge(n1, n2)\n",
    "                        has_inter_edge = True\n",
    "            if not has_inter_edge:\n",
    "                G.add_edge(nodes1[0], nodes2[0])\n",
    "    # print('connected comp: ', len(list(nx.connected_component_subgraphs(G))))\n",
    "    return G\n",
    "\n",
    "graph_com2_test=load_graph_list('saved_graphs/community2_test.p',False)\n",
    "graph_com2_gen_dd=load_graph_list('../../generated_graphs/community2small_GRANMixtureBernoulli_DFS.p',False)\n",
    "graph3=[]\n",
    "for i in range(500):\n",
    "    c_sizes = np.random.choice(list(range(12, 17)), 2)\n",
    "    graph3.append(n_community(c_sizes, p_inter=0.05))\n",
    "g_list_ref_com2,_ = load_graph_asS2Vgraph(graph_com2_test,3,random, tagset , lentagset)\n",
    "g_list_pred_com2,_ = load_graph_asS2Vgraph(graph_com2_gen_dd,3,random, tagset , lentagset)\n",
    "g_list_pred_com3,_ = load_graph_asS2Vgraph(graph3,3,random, tagset , lentagset)\n",
    "print(compute_fid(g_list_ref_com2,1,g_list_pred_com2,model))\n",
    "print(compute_fid(g_list_ref_com2,1,g_list_pred_com3,model))\n",
    "test_acc(model,'cuda:0',g_list_ref_com2)\n",
    "test_acc(model,'cuda:0',g_list_pred_com2)"
   ],
   "outputs": [
    {
     "output_type": "stream",
     "name": "stdout",
     "text": [
      "# classes: 1\n",
      "# maximum node tag: 15\n",
      "# data: 1000\n",
      "# classes: 1\n",
      "# maximum node tag: 17\n",
      "# data: 500\n",
      "# classes: 1\n",
      "# maximum node tag: 15\n",
      "# data: 500\n",
      "1159.5768720300985\n",
      "1.5968673082034002\n",
      "accuracy : 0.000000\n",
      "accuracy : 0.000000\n"
     ]
    },
    {
     "output_type": "execute_result",
     "data": {
      "text/plain": [
       "0.0"
      ]
     },
     "metadata": {},
     "execution_count": 12
    }
   ],
   "metadata": {}
  },
  {
   "cell_type": "code",
   "execution_count": null,
   "source": [
    "def test_acc(model, device, train_graphs):\n",
    "    model.eval()\n",
    "\n",
    "    output = pass_data_iteratively(model, train_graphs)\n",
    "    pred = output.max(1, keepdim=True)[1]\n",
    "    labels = torch.LongTensor([graph.label for graph in train_graphs]).to(device)\n",
    "    correct = pred.eq(labels.view_as(pred)).sum().cpu().item()\n",
    "    acc = float(correct / float(len(train_graphs)))\n",
    "\n",
    "\n",
    "    print(\"accuracy : %f\" % (acc))\n",
    "\n",
    "    return acc\n",
    "\n",
    "def n_community(c_sizes, p_inter=0.01):\n",
    "    graphs = [nx.gnp_random_graph(c_sizes[i], 0.7, seed=i) for i in range(len(c_sizes))]\n",
    "    G = nx.disjoint_union_all(graphs)\n",
    "    communities = [G.subgraph(c) for c in nx.connected_components(G)]\n",
    "    for i in range(len(communities)):\n",
    "        subG1 = communities[i]\n",
    "        nodes1 = list(subG1.nodes())\n",
    "        for j in range(i + 1, len(communities)):\n",
    "            subG2 = communities[j]\n",
    "            nodes2 = list(subG2.nodes())\n",
    "            has_inter_edge = False\n",
    "            for n1 in nodes1:\n",
    "                for n2 in nodes2:\n",
    "                    if np.random.rand() < p_inter:\n",
    "                        G.add_edge(n1, n2)\n",
    "                        has_inter_edge = True\n",
    "            if not has_inter_edge:\n",
    "                G.add_edge(nodes1[0], nodes2[0])\n",
    "    # print('connected comp: ', len(list(nx.connected_component_subgraphs(G))))\n",
    "    return G\n",
    "\n",
    "test_acc(model,'cuda:0',g_list_pred_rnn)"
   ],
   "outputs": [
    {
     "output_type": "stream",
     "name": "stdout",
     "text": [
      "accuracy : 1.000000\n"
     ]
    },
    {
     "output_type": "execute_result",
     "data": {
      "text/plain": [
       "1.0"
      ]
     },
     "metadata": {},
     "execution_count": 14
    }
   ],
   "metadata": {}
  }
 ],
 "metadata": {
  "kernelspec": {
   "name": "python3",
   "display_name": "Python 3.7.10 64-bit ('graphRL': conda)"
  },
  "language_info": {
   "codemirror_mode": {
    "name": "ipython",
    "version": 3
   },
   "file_extension": ".py",
   "mimetype": "text/x-python",
   "name": "python",
   "nbconvert_exporter": "python",
   "pygments_lexer": "ipython3",
   "version": "3.7.10"
  },
  "interpreter": {
   "hash": "3d0494937803f43eb53306e8569b34e94f10729ff691099c0010227141b076fc"
  }
 },
 "nbformat": 4,
 "nbformat_minor": 2
}