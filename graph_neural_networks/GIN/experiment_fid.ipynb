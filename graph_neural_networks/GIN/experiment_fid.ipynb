{
 "cells": [
  {
   "cell_type": "markdown",
   "metadata": {},
   "source": [
    "# GIN Experiment\n",
    "This notebook will implement the evaluation pipeline with the FID calculation using the GIN"
   ]
  },
  {
   "cell_type": "markdown",
   "metadata": {},
   "source": [
    "## Setup"
   ]
  },
  {
   "cell_type": "code",
   "execution_count": 1,
   "metadata": {},
   "outputs": [],
   "source": [
    "%load_ext autoreload\n",
    "%autoreload 2\n",
    "import argparse\n",
    "import torch\n",
    "import torch.nn as nn\n",
    "import torch.nn.functional as F\n",
    "import torch.optim as optim\n",
    "import numpy as np\n",
    "import pickle\n",
    "from tqdm import tqdm\n",
    "from util import load_graph_list\n",
    "from util import load_data, load_synth_data, separate_data , load_graph_asS2Vgraph\n",
    "from models.graphcnn import GraphCNN\n",
    "from prdc import compute_prdc\n",
    "from kid_metric import kernel_classifier_distance_and_std_from_activations\n",
    "\n",
    "criterion = nn.CrossEntropyLoss()"
   ]
  },
  {
   "cell_type": "code",
   "execution_count": 2,
   "metadata": {},
   "outputs": [],
   "source": [
    "def train(iters_per_epoch, batch_size, model, device, train_graphs, optimizer, epoch):\n",
    "    model.train()\n",
    "\n",
    "    total_iters = iters_per_epoch\n",
    "    pbar = tqdm(range(total_iters), unit='batch')\n",
    "\n",
    "    loss_accum = 0\n",
    "    for pos in pbar:\n",
    "        selected_idx = np.random.permutation(len(train_graphs))[:batch_size]\n",
    "\n",
    "        batch_graph = [train_graphs[idx] for idx in selected_idx]\n",
    "        output = model(batch_graph)\n",
    "\n",
    "        labels = torch.LongTensor([graph.label for graph in batch_graph]).to(device)\n",
    "\n",
    "        #compute loss\n",
    "        loss = criterion(output, labels)\n",
    "\n",
    "        #backprop\n",
    "        if optimizer is not None:\n",
    "            optimizer.zero_grad()\n",
    "            loss.backward()         \n",
    "            optimizer.step()\n",
    "        \n",
    "\n",
    "        loss = loss.detach().cpu().numpy()\n",
    "        loss_accum += loss\n",
    "\n",
    "        #report\n",
    "        pbar.set_description('epoch: %d' % (epoch))\n",
    "\n",
    "    average_loss = loss_accum/total_iters\n",
    "    print(\"loss training: %f\" % (average_loss))\n",
    "    \n",
    "    return average_loss\n",
    "\n",
    "###pass data to model with minibatch during testing to avoid memory overflow (does not perform backpropagation)\n",
    "def pass_data_iteratively(model, graphs, minibatch_size = 64):\n",
    "    model.eval()\n",
    "    output = []\n",
    "    idx = np.arange(len(graphs))\n",
    "    for i in range(0, len(graphs), minibatch_size):\n",
    "        sampled_idx = idx[i:i+minibatch_size]\n",
    "        if len(sampled_idx) == 0:\n",
    "            continue\n",
    "        output.append(model([graphs[j] for j in sampled_idx]).detach())\n",
    "    return torch.cat(output, 0)\n",
    "\n",
    "def test(model, device, train_graphs, test_graphs, epoch):\n",
    "    model.eval()\n",
    "\n",
    "    output = pass_data_iteratively(model, train_graphs)\n",
    "    pred = output.max(1, keepdim=True)[1]\n",
    "    labels = torch.LongTensor([graph.label for graph in train_graphs]).to(device)\n",
    "    correct = pred.eq(labels.view_as(pred)).sum().cpu().item()\n",
    "    acc_train = correct / float(len(train_graphs))\n",
    "\n",
    "    output = pass_data_iteratively(model, test_graphs)\n",
    "    pred = output.max(1, keepdim=True)[1]\n",
    "    labels = torch.LongTensor([graph.label for graph in test_graphs]).to(device)\n",
    "    correct = pred.eq(labels.view_as(pred)).sum().cpu().item()\n",
    "    acc_test = correct / float(len(test_graphs))\n",
    "\n",
    "    print(\"accuracy train: %f test: %f\" % (acc_train, acc_test))\n",
    "\n",
    "    return acc_train, acc_test"
   ]
  },
  {
   "cell_type": "markdown",
   "metadata": {},
   "source": [
    "## Training settings"
   ]
  },
  {
   "cell_type": "code",
   "execution_count": 3,
   "metadata": {},
   "outputs": [],
   "source": [
    "dataset = None\n",
    "device = 0 \n",
    "batch_size = 32\n",
    "iters_per_epoch = 50\n",
    "epochs = 60\n",
    "lr = 0.01\n",
    "seed = 0\n",
    "fold_idx = 1\n",
    "num_layers = [5]\n",
    "num_mlp_layers = 3\n",
    "hidden_dims = [64]\n",
    "final_dropout = 0.5\n",
    "graph_pooling_type = \"sum\"\n",
    "neighbor_pooling_type = \"sum\"\n",
    "learn_eps = False\n",
    "degree_as_tag = True\n",
    "filename = \"\"\n",
    "random = 1\n",
    "onehot=False"
   ]
  },
  {
   "cell_type": "markdown",
   "metadata": {},
   "source": [
    "## Training "
   ]
  },
  {
   "cell_type": "code",
   "execution_count": 4,
   "metadata": {},
   "outputs": [
    {
     "name": "stdout",
     "output_type": "stream",
     "text": [
      "loading data\n",
      "# classes: 9\n",
      "# maximum node tag: 77\n",
      "# data: 4100\n"
     ]
    },
    {
     "name": "stderr",
     "output_type": "stream",
     "text": [
      "D:\\anaconda3\\envs\\graphRL\\lib\\site-packages\\torch\\optim\\lr_scheduler.py:134: UserWarning: Detected call of `lr_scheduler.step()` before `optimizer.step()`. In PyTorch 1.1.0 and later, you should call them in the opposite order: `optimizer.step()` before `lr_scheduler.step()`.  Failure to do this will result in PyTorch skipping the first value of the learning rate schedule. See more details at https://pytorch.org/docs/stable/optim.html#how-to-adjust-learning-rate\n",
      "  \"https://pytorch.org/docs/stable/optim.html#how-to-adjust-learning-rate\", UserWarning)\n",
      "epoch: 1: 100%|██████████| 50/50 [00:17<00:00,  2.91batch/s]\n"
     ]
    },
    {
     "name": "stdout",
     "output_type": "stream",
     "text": [
      "loss training: 62.448876\n"
     ]
    },
    {
     "name": "stderr",
     "output_type": "stream",
     "text": [
      "epoch: 2:   6%|▌         | 3/50 [00:00<00:02, 20.86batch/s]"
     ]
    },
    {
     "name": "stdout",
     "output_type": "stream",
     "text": [
      "accuracy train: 0.619512 test: 0.617073\n"
     ]
    },
    {
     "name": "stderr",
     "output_type": "stream",
     "text": [
      "epoch: 2: 100%|██████████| 50/50 [00:02<00:00, 18.26batch/s]\n"
     ]
    },
    {
     "name": "stdout",
     "output_type": "stream",
     "text": [
      "loss training: 19.137138\n"
     ]
    },
    {
     "name": "stderr",
     "output_type": "stream",
     "text": [
      "epoch: 3:   6%|▌         | 3/50 [00:00<00:02, 21.33batch/s]"
     ]
    },
    {
     "name": "stdout",
     "output_type": "stream",
     "text": [
      "accuracy train: 0.826016 test: 0.824390\n"
     ]
    },
    {
     "name": "stderr",
     "output_type": "stream",
     "text": [
      "epoch: 3: 100%|██████████| 50/50 [00:02<00:00, 17.66batch/s]\n"
     ]
    },
    {
     "name": "stdout",
     "output_type": "stream",
     "text": [
      "loss training: 11.810457\n"
     ]
    },
    {
     "name": "stderr",
     "output_type": "stream",
     "text": [
      "epoch: 4:   6%|▌         | 3/50 [00:00<00:02, 21.00batch/s]"
     ]
    },
    {
     "name": "stdout",
     "output_type": "stream",
     "text": [
      "accuracy train: 0.851491 test: 0.856098\n"
     ]
    },
    {
     "name": "stderr",
     "output_type": "stream",
     "text": [
      "epoch: 4: 100%|██████████| 50/50 [00:02<00:00, 22.18batch/s]\n"
     ]
    },
    {
     "name": "stdout",
     "output_type": "stream",
     "text": [
      "loss training: 18.173062\n"
     ]
    },
    {
     "name": "stderr",
     "output_type": "stream",
     "text": [
      "epoch: 5:   6%|▌         | 3/50 [00:00<00:02, 20.89batch/s]"
     ]
    },
    {
     "name": "stdout",
     "output_type": "stream",
     "text": [
      "accuracy train: 0.728455 test: 0.731707\n"
     ]
    },
    {
     "name": "stderr",
     "output_type": "stream",
     "text": [
      "epoch: 5: 100%|██████████| 50/50 [00:02<00:00, 22.70batch/s]\n"
     ]
    },
    {
     "name": "stdout",
     "output_type": "stream",
     "text": [
      "loss training: 16.154962\n"
     ]
    },
    {
     "name": "stderr",
     "output_type": "stream",
     "text": [
      "epoch: 6:   6%|▌         | 3/50 [00:00<00:02, 22.79batch/s]"
     ]
    },
    {
     "name": "stdout",
     "output_type": "stream",
     "text": [
      "accuracy train: 0.845799 test: 0.841463\n"
     ]
    },
    {
     "name": "stderr",
     "output_type": "stream",
     "text": [
      "epoch: 6: 100%|██████████| 50/50 [00:02<00:00, 22.34batch/s]\n"
     ]
    },
    {
     "name": "stdout",
     "output_type": "stream",
     "text": [
      "loss training: 20.466276\n"
     ]
    },
    {
     "name": "stderr",
     "output_type": "stream",
     "text": [
      "epoch: 7:   6%|▌         | 3/50 [00:00<00:02, 20.60batch/s]"
     ]
    },
    {
     "name": "stdout",
     "output_type": "stream",
     "text": [
      "accuracy train: 0.709756 test: 0.712195\n"
     ]
    },
    {
     "name": "stderr",
     "output_type": "stream",
     "text": [
      "epoch: 7: 100%|██████████| 50/50 [00:02<00:00, 22.42batch/s]\n"
     ]
    },
    {
     "name": "stdout",
     "output_type": "stream",
     "text": [
      "loss training: 6.870281\n"
     ]
    },
    {
     "name": "stderr",
     "output_type": "stream",
     "text": [
      "epoch: 8:   6%|▌         | 3/50 [00:00<00:02, 22.28batch/s]"
     ]
    },
    {
     "name": "stdout",
     "output_type": "stream",
     "text": [
      "accuracy train: 0.965041 test: 0.963415\n"
     ]
    },
    {
     "name": "stderr",
     "output_type": "stream",
     "text": [
      "epoch: 8: 100%|██████████| 50/50 [00:02<00:00, 22.37batch/s]\n"
     ]
    },
    {
     "name": "stdout",
     "output_type": "stream",
     "text": [
      "loss training: 16.324743\n"
     ]
    },
    {
     "name": "stderr",
     "output_type": "stream",
     "text": [
      "epoch: 9:   6%|▌         | 3/50 [00:00<00:02, 22.79batch/s]"
     ]
    },
    {
     "name": "stdout",
     "output_type": "stream",
     "text": [
      "accuracy train: 0.820867 test: 0.824390\n"
     ]
    },
    {
     "name": "stderr",
     "output_type": "stream",
     "text": [
      "epoch: 9: 100%|██████████| 50/50 [00:02<00:00, 22.84batch/s]\n"
     ]
    },
    {
     "name": "stdout",
     "output_type": "stream",
     "text": [
      "loss training: 8.028273\n"
     ]
    },
    {
     "name": "stderr",
     "output_type": "stream",
     "text": [
      "epoch: 10:   6%|▌         | 3/50 [00:00<00:02, 22.62batch/s]"
     ]
    },
    {
     "name": "stdout",
     "output_type": "stream",
     "text": [
      "accuracy train: 0.931707 test: 0.939024\n"
     ]
    },
    {
     "name": "stderr",
     "output_type": "stream",
     "text": [
      "epoch: 10: 100%|██████████| 50/50 [00:02<00:00, 18.04batch/s]\n"
     ]
    },
    {
     "name": "stdout",
     "output_type": "stream",
     "text": [
      "loss training: 3.224037\n"
     ]
    },
    {
     "name": "stderr",
     "output_type": "stream",
     "text": [
      "epoch: 11:   6%|▌         | 3/50 [00:00<00:02, 21.49batch/s]"
     ]
    },
    {
     "name": "stdout",
     "output_type": "stream",
     "text": [
      "accuracy train: 0.884011 test: 0.882927\n"
     ]
    },
    {
     "name": "stderr",
     "output_type": "stream",
     "text": [
      "epoch: 11: 100%|██████████| 50/50 [00:02<00:00, 22.90batch/s]\n"
     ]
    },
    {
     "name": "stdout",
     "output_type": "stream",
     "text": [
      "loss training: 2.724815\n"
     ]
    },
    {
     "name": "stderr",
     "output_type": "stream",
     "text": [
      "epoch: 12:   4%|▍         | 2/50 [00:00<00:02, 19.85batch/s]"
     ]
    },
    {
     "name": "stdout",
     "output_type": "stream",
     "text": [
      "accuracy train: 0.848780 test: 0.846341\n"
     ]
    },
    {
     "name": "stderr",
     "output_type": "stream",
     "text": [
      "epoch: 12: 100%|██████████| 50/50 [00:02<00:00, 22.92batch/s]\n"
     ]
    },
    {
     "name": "stdout",
     "output_type": "stream",
     "text": [
      "loss training: 7.293886\n"
     ]
    },
    {
     "name": "stderr",
     "output_type": "stream",
     "text": [
      "epoch: 13:   6%|▌         | 3/50 [00:00<00:02, 23.32batch/s]"
     ]
    },
    {
     "name": "stdout",
     "output_type": "stream",
     "text": [
      "accuracy train: 0.975068 test: 0.975610\n"
     ]
    },
    {
     "name": "stderr",
     "output_type": "stream",
     "text": [
      "epoch: 13: 100%|██████████| 50/50 [00:02<00:00, 22.62batch/s]\n"
     ]
    },
    {
     "name": "stdout",
     "output_type": "stream",
     "text": [
      "loss training: 5.281034\n"
     ]
    },
    {
     "name": "stderr",
     "output_type": "stream",
     "text": [
      "epoch: 14:   6%|▌         | 3/50 [00:00<00:02, 22.79batch/s]"
     ]
    },
    {
     "name": "stdout",
     "output_type": "stream",
     "text": [
      "accuracy train: 0.974797 test: 0.975610\n"
     ]
    },
    {
     "name": "stderr",
     "output_type": "stream",
     "text": [
      "epoch: 14: 100%|██████████| 50/50 [00:02<00:00, 18.25batch/s]\n"
     ]
    },
    {
     "name": "stdout",
     "output_type": "stream",
     "text": [
      "loss training: 11.585181\n"
     ]
    },
    {
     "name": "stderr",
     "output_type": "stream",
     "text": [
      "epoch: 15:   6%|▌         | 3/50 [00:00<00:02, 19.92batch/s]"
     ]
    },
    {
     "name": "stdout",
     "output_type": "stream",
     "text": [
      "accuracy train: 0.876423 test: 0.878049\n"
     ]
    },
    {
     "name": "stderr",
     "output_type": "stream",
     "text": [
      "epoch: 15: 100%|██████████| 50/50 [00:02<00:00, 22.53batch/s]\n"
     ]
    },
    {
     "name": "stdout",
     "output_type": "stream",
     "text": [
      "loss training: 2.357840\n"
     ]
    },
    {
     "name": "stderr",
     "output_type": "stream",
     "text": [
      "epoch: 16:   6%|▌         | 3/50 [00:00<00:02, 22.28batch/s]"
     ]
    },
    {
     "name": "stdout",
     "output_type": "stream",
     "text": [
      "accuracy train: 0.936585 test: 0.934146\n"
     ]
    },
    {
     "name": "stderr",
     "output_type": "stream",
     "text": [
      "epoch: 16: 100%|██████████| 50/50 [00:02<00:00, 22.33batch/s]\n"
     ]
    },
    {
     "name": "stdout",
     "output_type": "stream",
     "text": [
      "loss training: 9.221566\n"
     ]
    },
    {
     "name": "stderr",
     "output_type": "stream",
     "text": [
      "epoch: 17:   6%|▌         | 3/50 [00:00<00:02, 22.12batch/s]"
     ]
    },
    {
     "name": "stdout",
     "output_type": "stream",
     "text": [
      "accuracy train: 0.836856 test: 0.846341\n"
     ]
    },
    {
     "name": "stderr",
     "output_type": "stream",
     "text": [
      "epoch: 17: 100%|██████████| 50/50 [00:02<00:00, 22.54batch/s]\n"
     ]
    },
    {
     "name": "stdout",
     "output_type": "stream",
     "text": [
      "loss training: 2.284986\n"
     ]
    },
    {
     "name": "stderr",
     "output_type": "stream",
     "text": [
      "epoch: 18:   6%|▌         | 3/50 [00:00<00:02, 22.79batch/s]"
     ]
    },
    {
     "name": "stdout",
     "output_type": "stream",
     "text": [
      "accuracy train: 0.975339 test: 0.975610\n"
     ]
    },
    {
     "name": "stderr",
     "output_type": "stream",
     "text": [
      "epoch: 18: 100%|██████████| 50/50 [00:02<00:00, 22.77batch/s]\n"
     ]
    },
    {
     "name": "stdout",
     "output_type": "stream",
     "text": [
      "loss training: 11.933511\n"
     ]
    },
    {
     "name": "stderr",
     "output_type": "stream",
     "text": [
      "epoch: 19:   6%|▌         | 3/50 [00:00<00:02, 21.04batch/s]"
     ]
    },
    {
     "name": "stdout",
     "output_type": "stream",
     "text": [
      "accuracy train: 0.850678 test: 0.853659\n"
     ]
    },
    {
     "name": "stderr",
     "output_type": "stream",
     "text": [
      "epoch: 19: 100%|██████████| 50/50 [00:02<00:00, 18.56batch/s]\n"
     ]
    },
    {
     "name": "stdout",
     "output_type": "stream",
     "text": [
      "loss training: 7.517957\n"
     ]
    },
    {
     "name": "stderr",
     "output_type": "stream",
     "text": [
      "epoch: 20:   6%|▌         | 3/50 [00:00<00:02, 21.04batch/s]"
     ]
    },
    {
     "name": "stdout",
     "output_type": "stream",
     "text": [
      "accuracy train: 0.835501 test: 0.836585\n"
     ]
    },
    {
     "name": "stderr",
     "output_type": "stream",
     "text": [
      "epoch: 20: 100%|██████████| 50/50 [00:02<00:00, 22.39batch/s]\n"
     ]
    },
    {
     "name": "stdout",
     "output_type": "stream",
     "text": [
      "loss training: 4.515594\n"
     ]
    },
    {
     "name": "stderr",
     "output_type": "stream",
     "text": [
      "epoch: 21:   6%|▌         | 3/50 [00:00<00:02, 22.62batch/s]"
     ]
    },
    {
     "name": "stdout",
     "output_type": "stream",
     "text": [
      "accuracy train: 0.971816 test: 0.973171\n"
     ]
    },
    {
     "name": "stderr",
     "output_type": "stream",
     "text": [
      "epoch: 21: 100%|██████████| 50/50 [00:02<00:00, 22.72batch/s]\n"
     ]
    },
    {
     "name": "stdout",
     "output_type": "stream",
     "text": [
      "loss training: 2.749280\n"
     ]
    },
    {
     "name": "stderr",
     "output_type": "stream",
     "text": [
      "epoch: 22:   6%|▌         | 3/50 [00:00<00:02, 22.79batch/s]"
     ]
    },
    {
     "name": "stdout",
     "output_type": "stream",
     "text": [
      "accuracy train: 0.904607 test: 0.907317\n"
     ]
    },
    {
     "name": "stderr",
     "output_type": "stream",
     "text": [
      "epoch: 22: 100%|██████████| 50/50 [00:02<00:00, 18.34batch/s]\n"
     ]
    },
    {
     "name": "stdout",
     "output_type": "stream",
     "text": [
      "loss training: 1.417049\n"
     ]
    },
    {
     "name": "stderr",
     "output_type": "stream",
     "text": [
      "epoch: 23:   4%|▍         | 2/50 [00:00<00:02, 18.92batch/s]"
     ]
    },
    {
     "name": "stdout",
     "output_type": "stream",
     "text": [
      "accuracy train: 0.956911 test: 0.958537\n"
     ]
    },
    {
     "name": "stderr",
     "output_type": "stream",
     "text": [
      "epoch: 23: 100%|██████████| 50/50 [00:02<00:00, 22.63batch/s]\n"
     ]
    },
    {
     "name": "stdout",
     "output_type": "stream",
     "text": [
      "loss training: 4.590929\n"
     ]
    },
    {
     "name": "stderr",
     "output_type": "stream",
     "text": [
      "epoch: 24:   6%|▌         | 3/50 [00:00<00:02, 22.25batch/s]"
     ]
    },
    {
     "name": "stdout",
     "output_type": "stream",
     "text": [
      "accuracy train: 0.889160 test: 0.885366\n"
     ]
    },
    {
     "name": "stderr",
     "output_type": "stream",
     "text": [
      "epoch: 24: 100%|██████████| 50/50 [00:02<00:00, 23.50batch/s]\n"
     ]
    },
    {
     "name": "stdout",
     "output_type": "stream",
     "text": [
      "loss training: 1.699394\n"
     ]
    },
    {
     "name": "stderr",
     "output_type": "stream",
     "text": [
      "epoch: 25:   6%|▌         | 3/50 [00:00<00:02, 22.62batch/s]"
     ]
    },
    {
     "name": "stdout",
     "output_type": "stream",
     "text": [
      "accuracy train: 0.988889 test: 0.992683\n"
     ]
    },
    {
     "name": "stderr",
     "output_type": "stream",
     "text": [
      "epoch: 25: 100%|██████████| 50/50 [00:02<00:00, 22.09batch/s]\n"
     ]
    },
    {
     "name": "stdout",
     "output_type": "stream",
     "text": [
      "loss training: 1.389073\n"
     ]
    },
    {
     "name": "stderr",
     "output_type": "stream",
     "text": [
      "epoch: 26:   6%|▌         | 3/50 [00:00<00:02, 21.33batch/s]"
     ]
    },
    {
     "name": "stdout",
     "output_type": "stream",
     "text": [
      "accuracy train: 0.904878 test: 0.907317\n"
     ]
    },
    {
     "name": "stderr",
     "output_type": "stream",
     "text": [
      "epoch: 26: 100%|██████████| 50/50 [00:03<00:00, 16.52batch/s]\n"
     ]
    },
    {
     "name": "stdout",
     "output_type": "stream",
     "text": [
      "loss training: 5.231222\n"
     ]
    },
    {
     "name": "stderr",
     "output_type": "stream",
     "text": [
      "epoch: 27:   6%|▌         | 3/50 [00:00<00:02, 23.14batch/s]"
     ]
    },
    {
     "name": "stdout",
     "output_type": "stream",
     "text": [
      "accuracy train: 0.975339 test: 0.975610\n"
     ]
    },
    {
     "name": "stderr",
     "output_type": "stream",
     "text": [
      "epoch: 27: 100%|██████████| 50/50 [00:02<00:00, 17.76batch/s]\n"
     ]
    },
    {
     "name": "stdout",
     "output_type": "stream",
     "text": [
      "loss training: 3.206927\n"
     ]
    },
    {
     "name": "stderr",
     "output_type": "stream",
     "text": [
      "epoch: 28:   4%|▍         | 2/50 [00:00<00:02, 19.85batch/s]"
     ]
    },
    {
     "name": "stdout",
     "output_type": "stream",
     "text": [
      "accuracy train: 0.975068 test: 0.973171\n"
     ]
    },
    {
     "name": "stderr",
     "output_type": "stream",
     "text": [
      "epoch: 28: 100%|██████████| 50/50 [00:02<00:00, 21.26batch/s]\n"
     ]
    },
    {
     "name": "stdout",
     "output_type": "stream",
     "text": [
      "loss training: 2.082106\n"
     ]
    },
    {
     "name": "stderr",
     "output_type": "stream",
     "text": [
      "epoch: 29:   6%|▌         | 3/50 [00:00<00:02, 20.46batch/s]"
     ]
    },
    {
     "name": "stdout",
     "output_type": "stream",
     "text": [
      "accuracy train: 0.759892 test: 0.756098\n"
     ]
    },
    {
     "name": "stderr",
     "output_type": "stream",
     "text": [
      "epoch: 29: 100%|██████████| 50/50 [00:02<00:00, 21.04batch/s]\n"
     ]
    },
    {
     "name": "stdout",
     "output_type": "stream",
     "text": [
      "loss training: 7.135928\n"
     ]
    },
    {
     "name": "stderr",
     "output_type": "stream",
     "text": [
      "epoch: 30:   6%|▌         | 3/50 [00:00<00:02, 21.64batch/s]"
     ]
    },
    {
     "name": "stdout",
     "output_type": "stream",
     "text": [
      "accuracy train: 0.890515 test: 0.892683\n"
     ]
    },
    {
     "name": "stderr",
     "output_type": "stream",
     "text": [
      "epoch: 30: 100%|██████████| 50/50 [00:02<00:00, 21.47batch/s]\n"
     ]
    },
    {
     "name": "stdout",
     "output_type": "stream",
     "text": [
      "loss training: 4.164296\n"
     ]
    },
    {
     "name": "stderr",
     "output_type": "stream",
     "text": [
      "epoch: 31:   6%|▌         | 3/50 [00:00<00:02, 23.11batch/s]"
     ]
    },
    {
     "name": "stdout",
     "output_type": "stream",
     "text": [
      "accuracy train: 0.826829 test: 0.824390\n"
     ]
    },
    {
     "name": "stderr",
     "output_type": "stream",
     "text": [
      "epoch: 31: 100%|██████████| 50/50 [00:02<00:00, 19.22batch/s]\n"
     ]
    },
    {
     "name": "stdout",
     "output_type": "stream",
     "text": [
      "loss training: 7.053771\n"
     ]
    },
    {
     "name": "stderr",
     "output_type": "stream",
     "text": [
      "epoch: 32:   6%|▌         | 3/50 [00:00<00:02, 21.18batch/s]"
     ]
    },
    {
     "name": "stdout",
     "output_type": "stream",
     "text": [
      "accuracy train: 0.969377 test: 0.968293\n"
     ]
    },
    {
     "name": "stderr",
     "output_type": "stream",
     "text": [
      "epoch: 32: 100%|██████████| 50/50 [00:02<00:00, 22.97batch/s]\n"
     ]
    },
    {
     "name": "stdout",
     "output_type": "stream",
     "text": [
      "loss training: 1.873196\n"
     ]
    },
    {
     "name": "stderr",
     "output_type": "stream",
     "text": [
      "epoch: 33:   6%|▌         | 3/50 [00:00<00:01, 24.66batch/s]"
     ]
    },
    {
     "name": "stdout",
     "output_type": "stream",
     "text": [
      "accuracy train: 0.969919 test: 0.973171\n"
     ]
    },
    {
     "name": "stderr",
     "output_type": "stream",
     "text": [
      "epoch: 33: 100%|██████████| 50/50 [00:02<00:00, 23.91batch/s]\n"
     ]
    },
    {
     "name": "stdout",
     "output_type": "stream",
     "text": [
      "loss training: 4.532157\n"
     ]
    },
    {
     "name": "stderr",
     "output_type": "stream",
     "text": [
      "epoch: 34:   6%|▌         | 3/50 [00:00<00:01, 24.66batch/s]"
     ]
    },
    {
     "name": "stdout",
     "output_type": "stream",
     "text": [
      "accuracy train: 0.773713 test: 0.770732\n"
     ]
    },
    {
     "name": "stderr",
     "output_type": "stream",
     "text": [
      "epoch: 34: 100%|██████████| 50/50 [00:02<00:00, 24.03batch/s]\n"
     ]
    },
    {
     "name": "stdout",
     "output_type": "stream",
     "text": [
      "loss training: 3.370326\n"
     ]
    },
    {
     "name": "stderr",
     "output_type": "stream",
     "text": [
      "epoch: 35:   6%|▌         | 3/50 [00:00<00:02, 21.80batch/s]"
     ]
    },
    {
     "name": "stdout",
     "output_type": "stream",
     "text": [
      "accuracy train: 0.860434 test: 0.860976\n"
     ]
    },
    {
     "name": "stderr",
     "output_type": "stream",
     "text": [
      "epoch: 35: 100%|██████████| 50/50 [00:02<00:00, 19.29batch/s]\n"
     ]
    },
    {
     "name": "stdout",
     "output_type": "stream",
     "text": [
      "loss training: 0.907076\n"
     ]
    },
    {
     "name": "stderr",
     "output_type": "stream",
     "text": [
      "epoch: 36:   6%|▌         | 3/50 [00:00<00:02, 22.79batch/s]"
     ]
    },
    {
     "name": "stdout",
     "output_type": "stream",
     "text": [
      "accuracy train: 0.961518 test: 0.960976\n"
     ]
    },
    {
     "name": "stderr",
     "output_type": "stream",
     "text": [
      "epoch: 36: 100%|██████████| 50/50 [00:02<00:00, 23.76batch/s]\n"
     ]
    },
    {
     "name": "stdout",
     "output_type": "stream",
     "text": [
      "loss training: 2.998947\n"
     ]
    },
    {
     "name": "stderr",
     "output_type": "stream",
     "text": [
      "epoch: 37:   6%|▌         | 3/50 [00:00<00:01, 23.87batch/s]"
     ]
    },
    {
     "name": "stdout",
     "output_type": "stream",
     "text": [
      "accuracy train: 0.778862 test: 0.763415\n"
     ]
    },
    {
     "name": "stderr",
     "output_type": "stream",
     "text": [
      "epoch: 37: 100%|██████████| 50/50 [00:02<00:00, 24.71batch/s]\n"
     ]
    },
    {
     "name": "stdout",
     "output_type": "stream",
     "text": [
      "loss training: 1.672368\n"
     ]
    },
    {
     "name": "stderr",
     "output_type": "stream",
     "text": [
      "epoch: 38:   6%|▌         | 3/50 [00:00<00:01, 25.28batch/s]"
     ]
    },
    {
     "name": "stdout",
     "output_type": "stream",
     "text": [
      "accuracy train: 0.883198 test: 0.892683\n"
     ]
    },
    {
     "name": "stderr",
     "output_type": "stream",
     "text": [
      "epoch: 38: 100%|██████████| 50/50 [00:02<00:00, 24.37batch/s]\n"
     ]
    },
    {
     "name": "stdout",
     "output_type": "stream",
     "text": [
      "loss training: 5.179932\n"
     ]
    },
    {
     "name": "stderr",
     "output_type": "stream",
     "text": [
      "epoch: 39:   6%|▌         | 3/50 [00:00<00:01, 25.49batch/s]"
     ]
    },
    {
     "name": "stdout",
     "output_type": "stream",
     "text": [
      "accuracy train: 0.889431 test: 0.887805\n"
     ]
    },
    {
     "name": "stderr",
     "output_type": "stream",
     "text": [
      "epoch: 39: 100%|██████████| 50/50 [00:02<00:00, 24.23batch/s]\n"
     ]
    },
    {
     "name": "stdout",
     "output_type": "stream",
     "text": [
      "loss training: 4.248486\n"
     ]
    },
    {
     "name": "stderr",
     "output_type": "stream",
     "text": [
      "epoch: 40:   6%|▌         | 3/50 [00:00<00:01, 25.25batch/s]"
     ]
    },
    {
     "name": "stdout",
     "output_type": "stream",
     "text": [
      "accuracy train: 0.978049 test: 0.978049\n"
     ]
    },
    {
     "name": "stderr",
     "output_type": "stream",
     "text": [
      "epoch: 40: 100%|██████████| 50/50 [00:02<00:00, 19.74batch/s]\n"
     ]
    },
    {
     "name": "stdout",
     "output_type": "stream",
     "text": [
      "loss training: 2.624047\n"
     ]
    },
    {
     "name": "stderr",
     "output_type": "stream",
     "text": [
      "epoch: 41:   6%|▌         | 3/50 [00:00<00:02, 22.62batch/s]"
     ]
    },
    {
     "name": "stdout",
     "output_type": "stream",
     "text": [
      "accuracy train: 0.903252 test: 0.902439\n"
     ]
    },
    {
     "name": "stderr",
     "output_type": "stream",
     "text": [
      "epoch: 41: 100%|██████████| 50/50 [00:02<00:00, 24.17batch/s]\n"
     ]
    },
    {
     "name": "stdout",
     "output_type": "stream",
     "text": [
      "loss training: 3.074602\n"
     ]
    },
    {
     "name": "stderr",
     "output_type": "stream",
     "text": [
      "epoch: 42:   6%|▌         | 3/50 [00:00<00:02, 22.26batch/s]"
     ]
    },
    {
     "name": "stdout",
     "output_type": "stream",
     "text": [
      "accuracy train: 0.961518 test: 0.963415\n"
     ]
    },
    {
     "name": "stderr",
     "output_type": "stream",
     "text": [
      "epoch: 42: 100%|██████████| 50/50 [00:02<00:00, 24.18batch/s]\n"
     ]
    },
    {
     "name": "stdout",
     "output_type": "stream",
     "text": [
      "loss training: 0.893902\n"
     ]
    },
    {
     "name": "stderr",
     "output_type": "stream",
     "text": [
      "epoch: 43:   6%|▌         | 3/50 [00:00<00:01, 24.46batch/s]"
     ]
    },
    {
     "name": "stdout",
     "output_type": "stream",
     "text": [
      "accuracy train: 0.823577 test: 0.821951\n"
     ]
    },
    {
     "name": "stderr",
     "output_type": "stream",
     "text": [
      "epoch: 43: 100%|██████████| 50/50 [00:02<00:00, 24.71batch/s]\n"
     ]
    },
    {
     "name": "stdout",
     "output_type": "stream",
     "text": [
      "loss training: 3.121870\n"
     ]
    },
    {
     "name": "stderr",
     "output_type": "stream",
     "text": [
      "epoch: 44:   6%|▌         | 3/50 [00:00<00:01, 24.26batch/s]"
     ]
    },
    {
     "name": "stdout",
     "output_type": "stream",
     "text": [
      "accuracy train: 0.793225 test: 0.795122\n"
     ]
    },
    {
     "name": "stderr",
     "output_type": "stream",
     "text": [
      "epoch: 44: 100%|██████████| 50/50 [00:02<00:00, 24.36batch/s]\n"
     ]
    },
    {
     "name": "stdout",
     "output_type": "stream",
     "text": [
      "loss training: 2.404125\n"
     ]
    },
    {
     "name": "stderr",
     "output_type": "stream",
     "text": [
      "epoch: 45:   6%|▌         | 3/50 [00:00<00:01, 24.66batch/s]"
     ]
    },
    {
     "name": "stdout",
     "output_type": "stream",
     "text": [
      "accuracy train: 0.970461 test: 0.982927\n"
     ]
    },
    {
     "name": "stderr",
     "output_type": "stream",
     "text": [
      "epoch: 45: 100%|██████████| 50/50 [00:02<00:00, 19.43batch/s]\n"
     ]
    },
    {
     "name": "stdout",
     "output_type": "stream",
     "text": [
      "loss training: 1.417235\n"
     ]
    },
    {
     "name": "stderr",
     "output_type": "stream",
     "text": [
      "epoch: 46:   6%|▌         | 3/50 [00:00<00:02, 22.93batch/s]"
     ]
    },
    {
     "name": "stdout",
     "output_type": "stream",
     "text": [
      "accuracy train: 0.971274 test: 0.973171\n"
     ]
    },
    {
     "name": "stderr",
     "output_type": "stream",
     "text": [
      "epoch: 46: 100%|██████████| 50/50 [00:02<00:00, 24.25batch/s]\n"
     ]
    },
    {
     "name": "stdout",
     "output_type": "stream",
     "text": [
      "loss training: 1.990815\n"
     ]
    },
    {
     "name": "stderr",
     "output_type": "stream",
     "text": [
      "epoch: 47:   6%|▌         | 3/50 [00:00<00:01, 23.69batch/s]"
     ]
    },
    {
     "name": "stdout",
     "output_type": "stream",
     "text": [
      "accuracy train: 0.973442 test: 0.975610\n"
     ]
    },
    {
     "name": "stderr",
     "output_type": "stream",
     "text": [
      "epoch: 47: 100%|██████████| 50/50 [00:02<00:00, 24.45batch/s]\n"
     ]
    },
    {
     "name": "stdout",
     "output_type": "stream",
     "text": [
      "loss training: 0.708015\n"
     ]
    },
    {
     "name": "stderr",
     "output_type": "stream",
     "text": [
      "epoch: 48:   6%|▌         | 3/50 [00:00<00:01, 24.46batch/s]"
     ]
    },
    {
     "name": "stdout",
     "output_type": "stream",
     "text": [
      "accuracy train: 0.873984 test: 0.878049\n"
     ]
    },
    {
     "name": "stderr",
     "output_type": "stream",
     "text": [
      "epoch: 48: 100%|██████████| 50/50 [00:02<00:00, 24.92batch/s]\n"
     ]
    },
    {
     "name": "stdout",
     "output_type": "stream",
     "text": [
      "loss training: 0.548565\n"
     ]
    },
    {
     "name": "stderr",
     "output_type": "stream",
     "text": [
      "epoch: 49:   6%|▌         | 3/50 [00:00<00:01, 23.50batch/s]"
     ]
    },
    {
     "name": "stdout",
     "output_type": "stream",
     "text": [
      "accuracy train: 0.960434 test: 0.963415\n"
     ]
    },
    {
     "name": "stderr",
     "output_type": "stream",
     "text": [
      "epoch: 49: 100%|██████████| 50/50 [00:02<00:00, 24.35batch/s]\n"
     ]
    },
    {
     "name": "stdout",
     "output_type": "stream",
     "text": [
      "loss training: 3.478165\n"
     ]
    },
    {
     "name": "stderr",
     "output_type": "stream",
     "text": [
      "epoch: 50:   6%|▌         | 3/50 [00:00<00:01, 24.45batch/s]"
     ]
    },
    {
     "name": "stdout",
     "output_type": "stream",
     "text": [
      "accuracy train: 0.788347 test: 0.773171\n"
     ]
    },
    {
     "name": "stderr",
     "output_type": "stream",
     "text": [
      "epoch: 50: 100%|██████████| 50/50 [00:02<00:00, 19.24batch/s]\n"
     ]
    },
    {
     "name": "stdout",
     "output_type": "stream",
     "text": [
      "loss training: 1.027217\n"
     ]
    },
    {
     "name": "stderr",
     "output_type": "stream",
     "text": [
      "epoch: 51:   6%|▌         | 3/50 [00:00<00:02, 22.45batch/s]"
     ]
    },
    {
     "name": "stdout",
     "output_type": "stream",
     "text": [
      "accuracy train: 0.962060 test: 0.963415\n"
     ]
    },
    {
     "name": "stderr",
     "output_type": "stream",
     "text": [
      "epoch: 51: 100%|██████████| 50/50 [00:02<00:00, 23.67batch/s]\n"
     ]
    },
    {
     "name": "stdout",
     "output_type": "stream",
     "text": [
      "loss training: 0.626932\n"
     ]
    },
    {
     "name": "stderr",
     "output_type": "stream",
     "text": [
      "epoch: 52:   6%|▌         | 3/50 [00:00<00:01, 25.07batch/s]"
     ]
    },
    {
     "name": "stdout",
     "output_type": "stream",
     "text": [
      "accuracy train: 0.900813 test: 0.904878\n"
     ]
    },
    {
     "name": "stderr",
     "output_type": "stream",
     "text": [
      "epoch: 52: 100%|██████████| 50/50 [00:02<00:00, 24.38batch/s]\n"
     ]
    },
    {
     "name": "stdout",
     "output_type": "stream",
     "text": [
      "loss training: 0.482727\n"
     ]
    },
    {
     "name": "stderr",
     "output_type": "stream",
     "text": [
      "epoch: 53:   6%|▌         | 3/50 [00:00<00:01, 25.49batch/s]"
     ]
    },
    {
     "name": "stdout",
     "output_type": "stream",
     "text": [
      "accuracy train: 0.992954 test: 0.990244\n"
     ]
    },
    {
     "name": "stderr",
     "output_type": "stream",
     "text": [
      "epoch: 53: 100%|██████████| 50/50 [00:02<00:00, 24.24batch/s]\n"
     ]
    },
    {
     "name": "stdout",
     "output_type": "stream",
     "text": [
      "loss training: 1.318923\n"
     ]
    },
    {
     "name": "stderr",
     "output_type": "stream",
     "text": [
      "epoch: 54:   6%|▌         | 3/50 [00:00<00:02, 23.14batch/s]"
     ]
    },
    {
     "name": "stdout",
     "output_type": "stream",
     "text": [
      "accuracy train: 0.986179 test: 0.987805\n"
     ]
    },
    {
     "name": "stderr",
     "output_type": "stream",
     "text": [
      "epoch: 54: 100%|██████████| 50/50 [00:02<00:00, 19.63batch/s]\n"
     ]
    },
    {
     "name": "stdout",
     "output_type": "stream",
     "text": [
      "loss training: 2.405558\n"
     ]
    },
    {
     "name": "stderr",
     "output_type": "stream",
     "text": [
      "epoch: 55:   6%|▌         | 3/50 [00:00<00:02, 22.45batch/s]"
     ]
    },
    {
     "name": "stdout",
     "output_type": "stream",
     "text": [
      "accuracy train: 0.973984 test: 0.975610\n"
     ]
    },
    {
     "name": "stderr",
     "output_type": "stream",
     "text": [
      "epoch: 55: 100%|██████████| 50/50 [00:02<00:00, 24.20batch/s]\n"
     ]
    },
    {
     "name": "stdout",
     "output_type": "stream",
     "text": [
      "loss training: 0.875149\n"
     ]
    },
    {
     "name": "stderr",
     "output_type": "stream",
     "text": [
      "epoch: 56:   6%|▌         | 3/50 [00:00<00:01, 24.86batch/s]"
     ]
    },
    {
     "name": "stdout",
     "output_type": "stream",
     "text": [
      "accuracy train: 0.974797 test: 0.973171\n"
     ]
    },
    {
     "name": "stderr",
     "output_type": "stream",
     "text": [
      "epoch: 56: 100%|██████████| 50/50 [00:02<00:00, 24.24batch/s]\n"
     ]
    },
    {
     "name": "stdout",
     "output_type": "stream",
     "text": [
      "loss training: 0.667598\n"
     ]
    },
    {
     "name": "stderr",
     "output_type": "stream",
     "text": [
      "epoch: 57:   6%|▌         | 3/50 [00:00<00:01, 24.06batch/s]"
     ]
    },
    {
     "name": "stdout",
     "output_type": "stream",
     "text": [
      "accuracy train: 0.969648 test: 0.968293\n"
     ]
    },
    {
     "name": "stderr",
     "output_type": "stream",
     "text": [
      "epoch: 57: 100%|██████████| 50/50 [00:02<00:00, 24.36batch/s]\n"
     ]
    },
    {
     "name": "stdout",
     "output_type": "stream",
     "text": [
      "loss training: 0.704851\n"
     ]
    },
    {
     "name": "stderr",
     "output_type": "stream",
     "text": [
      "epoch: 58:   6%|▌         | 3/50 [00:00<00:01, 23.87batch/s]"
     ]
    },
    {
     "name": "stdout",
     "output_type": "stream",
     "text": [
      "accuracy train: 0.971816 test: 0.968293\n"
     ]
    },
    {
     "name": "stderr",
     "output_type": "stream",
     "text": [
      "epoch: 58: 100%|██████████| 50/50 [00:02<00:00, 23.85batch/s]\n"
     ]
    },
    {
     "name": "stdout",
     "output_type": "stream",
     "text": [
      "loss training: 0.752267\n"
     ]
    },
    {
     "name": "stderr",
     "output_type": "stream",
     "text": [
      "epoch: 59:   6%|▌         | 3/50 [00:00<00:01, 23.88batch/s]"
     ]
    },
    {
     "name": "stdout",
     "output_type": "stream",
     "text": [
      "accuracy train: 0.954472 test: 0.953659\n"
     ]
    },
    {
     "name": "stderr",
     "output_type": "stream",
     "text": [
      "epoch: 59: 100%|██████████| 50/50 [00:02<00:00, 19.88batch/s]\n"
     ]
    },
    {
     "name": "stdout",
     "output_type": "stream",
     "text": [
      "loss training: 1.617333\n"
     ]
    },
    {
     "name": "stderr",
     "output_type": "stream",
     "text": [
      "epoch: 60:   6%|▌         | 3/50 [00:00<00:02, 23.32batch/s]"
     ]
    },
    {
     "name": "stdout",
     "output_type": "stream",
     "text": [
      "accuracy train: 0.971545 test: 0.970732\n"
     ]
    },
    {
     "name": "stderr",
     "output_type": "stream",
     "text": [
      "epoch: 60: 100%|██████████| 50/50 [00:02<00:00, 24.22batch/s]\n"
     ]
    },
    {
     "name": "stdout",
     "output_type": "stream",
     "text": [
      "loss training: 0.506262\n",
      "accuracy train: 0.905691 test: 0.902439\n"
     ]
    }
   ],
   "source": [
    "from itertools import product\n",
    "\n",
    "train_acc,test_acc=[],[]\n",
    "\n",
    "#set up seeds and gpu device\n",
    "torch.manual_seed(0)\n",
    "np.random.seed(0)    \n",
    "device = torch.device(\"cuda:\" + str(device)) if torch.cuda.is_available() else torch.device(\"cpu\")\n",
    "if torch.cuda.is_available():\n",
    "    torch.cuda.manual_seed_all(0)\n",
    "\n",
    "if dataset != None :\n",
    "    graphs, num_classes = load_data(dataset, degree_as_tag)\n",
    "else :\n",
    "    graphs, num_classes, tagset , lentagset = load_synth_data(True, random, onehot,True)\n",
    "\n",
    "for num_layer,hidden_dim in product(num_layers,hidden_dims):\n",
    "    fold_test_accuracy=[]\n",
    "    fold_train_accuracy=[]\n",
    "    for fold_idx in range(1,2):\n",
    "        train_graphs, test_graphs = separate_data(graphs, seed, fold_idx)\n",
    "\n",
    "        model = GraphCNN(num_layer, num_mlp_layers, train_graphs[0].node_features.shape[1], hidden_dim, num_classes, final_dropout, learn_eps, graph_pooling_type, neighbor_pooling_type,random, device).to(device)\n",
    "\n",
    "        optimizer = optim.Adam(model.parameters(),lr=lr)\n",
    "        scheduler = optim.lr_scheduler.StepLR(optimizer, step_size=50, gamma=0.5)\n",
    "        \n",
    "        for epoch in range(1, epochs + 1):\n",
    "            scheduler.step()\n",
    "\n",
    "            avg_loss = train(iters_per_epoch,batch_size,model, device, train_graphs, optimizer, epoch)\n",
    "            acc_train, acc_test = test( model, device, train_graphs, test_graphs, epoch)\n",
    "            fold_test_accuracy.append(acc_test)\n",
    "            fold_train_accuracy.append(acc_train)\n",
    "    train_acc.append((np.mean(fold_train_accuracy),num_layer,hidden_dim))\n",
    "    test_acc.append((np.mean(fold_test_accuracy),num_layer,hidden_dim))"
   ]
  },
  {
   "cell_type": "code",
   "execution_count": 5,
   "metadata": {},
   "outputs": [],
   "source": [
    "output = pass_data_iteratively(model, graphs)"
   ]
  },
  {
   "cell_type": "code",
   "execution_count": 6,
   "metadata": {},
   "outputs": [],
   "source": [
    "import time\n",
    "import pandas as pd\n",
    "import numpy as np\n",
    "import matplotlib.pyplot as plt\n",
    "import matplotlib.patheffects as PathEffects\n",
    "%matplotlib inline\n",
    "\n",
    "import seaborn as sns\n",
    "sns.set_style('darkgrid')\n",
    "sns.set_palette('muted')\n",
    "sns.set_context(\"notebook\", font_scale=1.5,\n",
    "                rc={\"lines.linewidth\": 2.5})\n",
    "\n",
    "def fashion_scatter(x, colors):\n",
    "    # choose a color palette with seaborn.\n",
    "    num_classes = len(np.unique(colors))\n",
    "    palette = np.array(sns.color_palette(\"hls\", num_classes))\n",
    "\n",
    "    # create a scatter plot.\n",
    "    f = plt.figure(figsize=(8, 8))\n",
    "    ax = plt.subplot(aspect='equal')\n",
    "    sc = ax.scatter(x[:,0], x[:,1], lw=0, s=40, c=palette[colors.astype(np.int)])\n",
    "    plt.xlim(-25, 25)\n",
    "    plt.ylim(-25, 25)\n",
    "    ax.axis('tight')\n",
    "\n",
    "    # add the labels for each digit corresponding to the label\n",
    "    txts = []\n",
    "\n",
    "    for i in range(num_classes):\n",
    "\n",
    "        # Position of each label at median of data points.\n",
    "\n",
    "        xtext, ytext = np.median(x[colors == i, :], axis=0)\n",
    "        txt = ax.text(xtext, ytext, str(i), fontsize=24)\n",
    "        txt.set_path_effects([\n",
    "            PathEffects.Stroke(linewidth=5, foreground=\"w\"),\n",
    "            PathEffects.Normal()])\n",
    "        txts.append(txt)\n",
    "\n",
    "    return f, ax, sc, txts"
   ]
  },
  {
   "cell_type": "code",
   "execution_count": 7,
   "metadata": {},
   "outputs": [
    {
     "data": {
      "text/plain": "(<Figure size 576x576 with 1 Axes>,\n <matplotlib.axes._subplots.AxesSubplot at 0x28980bdd988>,\n <matplotlib.collections.PathCollection at 0x289202bee48>,\n [Text(-54.964,-3.02069,'0'),\n  Text(24.1614,58.9997,'1'),\n  Text(-42.0391,-28.3669,'2'),\n  Text(-23.6931,19.5462,'3'),\n  Text(-39.2604,2.63518,'4'),\n  Text(40.6607,-2.5295,'5'),\n  Text(13.4838,27.2399,'6'),\n  Text(2.14441,-29.7841,'7'),\n  Text(13.8661,-60.0295,'8')])"
     },
     "execution_count": 7,
     "metadata": {},
     "output_type": "execute_result"
    },
    {
     "data": {
      "text/plain": "<Figure size 576x576 with 1 Axes>",
      "image/png": "[encoded data removed]"
     },
     "metadata": {
      "needs_background": "light"
     },
     "output_type": "display_data"
    }
   ],
   "source": [
    "X=output.cpu()\n",
    "y = np.array([g.label for g in graphs])\n",
    "############################################################\n",
    "from sklearn.manifold import TSNE\n",
    "import time\n",
    "time_start = time.time()\n",
    "\n",
    "fashion_tsne = TSNE(random_state=0).fit_transform(X)\n",
    "fashion_scatter(fashion_tsne, y)"
   ]
  },
  {
   "cell_type": "code",
   "execution_count": 8,
   "metadata": {},
   "outputs": [
    {
     "data": {
      "text/plain": "array([0, 1, 2, 3, 4, 5, 6, 7, 8])"
     },
     "execution_count": 8,
     "metadata": {},
     "output_type": "execute_result"
    }
   ],
   "source": [
    "np.unique(y)"
   ]
  },
  {
   "cell_type": "code",
   "execution_count": 17,
   "metadata": {},
   "outputs": [],
   "source": [
    "import networkx as nx\n",
    "from scipy import linalg\n",
    "## Coming from https://github.com/mseitzer/pytorch-fid\n",
    "def compute_FID(mu1, mu2, cov1, cov2, eps = 1e-6):\n",
    "    assert mu1.shape == mu2.shape, \\\n",
    "        'Training and test mean vectors have different lengths'\n",
    "    assert cov1.shape == cov2.shape, \\\n",
    "        'Training and test covariances have different dimensions'\n",
    "\n",
    "    diff = mu1 - mu2\n",
    "    # Product might be almost singular\n",
    "    covmean, _ = linalg.sqrtm(cov1.dot(cov2), disp=False)\n",
    "    if not np.isfinite(covmean).all():\n",
    "        msg = ('fid calculation produces singular product; '\n",
    "                'adding %s to diagonal of cov estimates') % eps\n",
    "        print(msg)\n",
    "        offset = np.eye(cov1.shape[0]) * eps\n",
    "        covmean = linalg.sqrtm((cov1 + offset).dot(cov2 + offset))\n",
    "\n",
    "    # Numerical error might give slight imaginary component\n",
    "    if np.iscomplexobj(covmean):\n",
    "        if not np.allclose(np.diagonal(covmean).imag, 0, atol=1e-3):\n",
    "            m = np.max(np.abs(covmean.imag))\n",
    "            raise ValueError('Imaginary component {}'.format(m))\n",
    "        covmean = covmean.real\n",
    "\n",
    "    tr_covmean = np.trace(covmean)\n",
    "\n",
    "    return (diff.dot(diff) + np.trace(cov1) +\n",
    "            np.trace(cov2) - 2 * tr_covmean)\n",
    "\n",
    "def compute_fid(ref_graph,pred_graph,model):\n",
    "    device = 0\n",
    "    \n",
    "    with torch.no_grad():\n",
    "        embed_graphs_ref = model.get_graph_embed_sum(ref_graph)\n",
    "        embed_graphs_ref=embed_graphs_ref.cpu().detach().numpy()\n",
    "        mu_ref = np.mean(embed_graphs_ref, axis = 0)\n",
    "        cov_ref = np.cov(embed_graphs_ref, rowvar = False)\n",
    "\n",
    "        embed_graphs_pred = model.get_graph_embed_sum(pred_graph)\n",
    "        embed_graphs_pred=embed_graphs_pred.cpu().detach().numpy()\n",
    "        mu_pred = np.mean(embed_graphs_pred, axis = 0)\n",
    "        cov_pred = np.cov(embed_graphs_pred, rowvar = False)\n",
    "\n",
    "        fid = compute_FID(mu_ref,mu_pred,cov_ref,cov_pred)\n",
    "        prdc = compute_prdc(real_features=embed_graphs_ref,\n",
    "                           fake_features=embed_graphs_pred,\n",
    "                           nearest_k=5)\n",
    "        #kd,std = kernel_classifier_distance_and_std_from_activations(real_activations=embed_graphs_ref,generated_activations=embed_graphs_pred,dtype=\"float32\")\n",
    "    return fid ,prdc\n",
    "\n",
    "def test_acc(model, device, train_graphs):\n",
    "    model.eval()\n",
    "\n",
    "    output = pass_data_iteratively(model, train_graphs)\n",
    "    pred = output.max(1, keepdim=True)[1]\n",
    "    labels = torch.LongTensor([graph.label for graph in train_graphs]).to(device)\n",
    "    correct = pred.eq(labels.view_as(pred)).sum().cpu().item()\n",
    "    acc = correct / float(len(train_graphs))\n",
    "\n",
    "\n",
    "    #print(\"accuracy : %f\" % (acc))\n",
    "\n",
    "    return acc"
   ]
  },
  {
   "cell_type": "code",
   "execution_count": 13,
   "metadata": {},
   "outputs": [],
   "source": [
    "\n",
    "def get_fid(filename,label,model):\n",
    "    graph_gen = load_graph_list(filename,False)\n",
    "    g_list,_=load_graph_asS2Vgraph(graph_gen,label,random,tagset,lentagset,onehot=onehot)\n",
    "    fid,prdc=compute_fid([graphs[i] for i in range(len(graphs)) if graphs[i].label ==label],g_list,model)\n",
    "    print(filename+\" fid : \",fid)\n",
    "    print(filename+\" GIN accuracy : \",test_acc(model,device,g_list))\n",
    "    print(filename+\" prdc : \", prdc)\n",
    "\n",
    "    return fid,prdc\n",
    "\n",
    "def get_fid_synth(graph,label,model):\n",
    "    g_list,_=load_graph_asS2Vgraph(graph,label,random,tagset,lentagset,onehot=onehot)\n",
    "    fid,prdc=compute_fid([graphs[i] for i in range(len(graphs)) if graphs[i].label ==label],g_list,model)\n",
    "    print(\" fid : \",fid)\n",
    "    print(\" GIN accuracy : \",test_acc(model,device,g_list))\n",
    "    print(\" prdc : \", prdc)\n",
    "\n",
    "    return fid,prdc"
   ]
  },
  {
   "cell_type": "code",
   "execution_count": 1,
   "metadata": {},
   "outputs": [
    {
     "ename": "NameError",
     "evalue": "name 'get_fid' is not defined",
     "output_type": "error",
     "traceback": [
      "\u001B[1;31m---------------------------------------------------------------------------\u001B[0m",
      "\u001B[1;31mNameError\u001B[0m                                 Traceback (most recent call last)",
      "\u001B[1;32m<ipython-input-1-0797dc9606f6>\u001B[0m in \u001B[0;36m<module>\u001B[1;34m\u001B[0m\n\u001B[0;32m      1\u001B[0m \u001B[1;31m# Grid graph\u001B[0m\u001B[1;33m\u001B[0m\u001B[1;33m\u001B[0m\u001B[1;33m\u001B[0m\u001B[0m\n\u001B[0;32m      2\u001B[0m \u001B[1;33m\u001B[0m\u001B[0m\n\u001B[1;32m----> 3\u001B[1;33m \u001B[0mget_fid\u001B[0m\u001B[1;33m(\u001B[0m\u001B[1;34m'../../generated_graphs/grid_GRANMixtureBernoulli_DFS.p'\u001B[0m\u001B[1;33m,\u001B[0m\u001B[1;36m4\u001B[0m\u001B[1;33m,\u001B[0m\u001B[0mmodel\u001B[0m\u001B[1;33m)\u001B[0m\u001B[1;33m\u001B[0m\u001B[1;33m\u001B[0m\u001B[0m\n\u001B[0m\u001B[0;32m      4\u001B[0m \u001B[0mget_fid\u001B[0m\u001B[1;33m(\u001B[0m\u001B[1;34m'../../generated_graphs/grid_RNN_BFS.p'\u001B[0m\u001B[1;33m,\u001B[0m\u001B[1;36m4\u001B[0m\u001B[1;33m,\u001B[0m\u001B[0mmodel\u001B[0m\u001B[1;33m)\u001B[0m\u001B[1;33m\u001B[0m\u001B[1;33m\u001B[0m\u001B[0m\n\u001B[0;32m      5\u001B[0m \u001B[0mget_fid\u001B[0m\u001B[1;33m(\u001B[0m\u001B[1;34m'../../generated_graphs/grid_RNN_MLP_BFS.p'\u001B[0m\u001B[1;33m,\u001B[0m\u001B[1;36m4\u001B[0m\u001B[1;33m,\u001B[0m\u001B[0mmodel\u001B[0m\u001B[1;33m)\u001B[0m\u001B[1;33m\u001B[0m\u001B[1;33m\u001B[0m\u001B[0m\n",
      "\u001B[1;31mNameError\u001B[0m: name 'get_fid' is not defined"
     ]
    }
   ],
   "source": [
    "# Grid graph\n",
    "\n",
    "get_fid('../../generated_graphs/grid_GRANMixtureBernoulli_DFS.p',4,model)\n",
    "get_fid('../../generated_graphs/grid_RNN_BFS.p',4,model)\n",
    "get_fid('../../generated_graphs/grid_RNN_MLP_BFS.p',4,model)"
   ]
  },
  {
   "cell_type": "code",
   "execution_count": null,
   "metadata": {
    "pycharm": {
     "name": "#%%\n"
    }
   },
   "outputs": [],
   "source": [
    "def n_community(c_sizes, p_inter=0.01):\n",
    "    graphs = [nx.gnp_random_graph(c_sizes[i], 0.7, seed=i) for i in range(len(c_sizes))]\n",
    "    G = nx.disjoint_union_all(graphs)\n",
    "    communities = [G.subgraph(c) for c in nx.connected_components(G)]\n",
    "    for i in range(len(communities)):\n",
    "        subG1 = communities[i]\n",
    "        nodes1 = list(subG1.nodes())\n",
    "        for j in range(i + 1, len(communities)):\n",
    "            subG2 = communities[j]\n",
    "            nodes2 = list(subG2.nodes())\n",
    "            has_inter_edge = False\n",
    "            for n1 in nodes1:\n",
    "                for n2 in nodes2:\n",
    "                    if np.random.rand() < p_inter:\n",
    "                        G.add_edge(n1, n2)\n",
    "                        has_inter_edge = True\n",
    "            if not has_inter_edge:\n",
    "                G.add_edge(nodes1[0], nodes2[0])\n",
    "    # print('connected comp: ', len(list(nx.connected_component_subgraphs(G))))\n",
    "    return G\n",
    "#barabasi\n",
    "graph=[]\n",
    "for i in range(100,200):\n",
    "    for j in range(5):\n",
    "        graph.append(nx.barabasi_albert_graph(i,4))\n",
    "get_fid_synth(graph,1,model)\n",
    "#watts\n",
    "graph=[]\n",
    "for i in range(100,200):\n",
    "    for j in range(5):\n",
    "        graph.append(nx.watts_strogatz_graph(i,4,0.1))\n",
    "get_fid_synth(graph,0,model)\n",
    "#com2\n",
    "graph=[]\n",
    "for k in range(100, 200):\n",
    "    for j in range(5):\n",
    "        c_sizes = np.random.choice(list(range(6, 10)), 2)\n",
    "        g = n_community(c_sizes, p_inter=0.005)\n",
    "        graph.append(g)\n",
    "get_fid_synth(graph,2,model)"
   ]
  },
  {
   "cell_type": "code",
   "execution_count": null,
   "metadata": {},
   "outputs": [],
   "source": [
    "#Barabasi\n",
    "get_fid('../../generated_graphs/barabasi_GRANMixtureBernoulli_BFS.p',1,model)\n",
    "get_fid('../../generated_graphs/barabasi_GRANMixtureBernoulli_DFS.p',1,model)\n",
    "get_fid('../../generated_graphs/barabasi_GRANMixtureBernoulli_degree_decent.p',1,model)\n",
    "get_fid('../../generated_graphs/barabasi_GRANMixtureBernoulli_k_core.p',1,model)\n",
    "get_fid('../../generated_graphs/barabasi_GRANMixtureBernoulli_no_order.p',1,model)\n",
    "\n",
    "get_fid('../../generated_graphs/barabasi_RNN_BFS.p',1,model)\n",
    "get_fid('../../generated_graphs/barabasi_RNN_BFSMAX.p',1,model)\n",
    "get_fid('../../generated_graphs/barabasi_RNN_DFS.p',1,model)\n",
    "get_fid('../../generated_graphs/barabasi_RNN_nobfs.p',1,model)"
   ]
  },
  {
   "cell_type": "code",
   "execution_count": null,
   "metadata": {},
   "outputs": [],
   "source": [
    "#watts\n",
    "\n",
    "get_fid('../../generated_graphs/wattsSW_GRANMixtureBernoulli_BFS.p',0,model)\n",
    "get_fid('../../generated_graphs/wattsSW_GRANMixtureBernoulli_DFS.p',0,model)\n",
    "get_fid('../../generated_graphs/wattsSW_GRANMixtureBernoulli_degree_descent.p',0,model)\n",
    "get_fid('../../generated_graphs/wattsSW_GRANMixtureBernoulli_k_core.p',0,model)\n",
    "get_fid('../../generated_graphs/wattsSW_GRANMixtureBernoulli_no_order.p',0,model)\n",
    "\n",
    "get_fid('../../generated_graphs/wattsSW_RNN_BFS.p',0,model)\n",
    "get_fid('../../generated_graphs/wattsSW_RNN_BFSMAX.p',0,model)\n",
    "get_fid('../../generated_graphs/wattsSW_RNN_DFS.p',0,model)\n",
    "get_fid('../../generated_graphs/wattsSW_RNN_nobfs.p',0,model)"
   ]
  },
  {
   "cell_type": "code",
   "execution_count": null,
   "metadata": {},
   "outputs": [],
   "source": [
    "#community2\n",
    "\n",
    "get_fid('../../generated_graphs/community2small_GRANMixtureBernoulli_BFS.p',2,model)\n",
    "get_fid('../../generated_graphs/community2small_GRANMixtureBernoulli_DFS.p',2,model)\n",
    "get_fid('../../generated_graphs/community2small_GRANMixtureBernoulli_degree_decent.p',2,model)\n",
    "get_fid('../../generated_graphs/community2small_GRANMixtureBernoulli_k_core.p',2,model)\n",
    "get_fid('../../generated_graphs/community2small_GRANMixtureBernoulli_degree_accent.p',2,model)\n",
    "get_fid('../../generated_graphs/community2small_GRANMixtureBernoulli_None.p',2,model)\n",
    "\n",
    "get_fid('../../generated_graphs/community2small_RNN_BFS.p',2,model)\n",
    "get_fid('../../generated_graphs/community2small_RNN_BFSMAX.p',2,model)\n",
    "get_fid('../../generated_graphs/community2small_RNN_DFS.p',2,model)\n",
    "get_fid('../../generated_graphs/community2small_RNN_nobfs.p',2,model)"
   ]
  },
  {
   "cell_type": "code",
   "execution_count": null,
   "outputs": [],
   "source": [],
   "metadata": {
    "collapsed": false,
    "pycharm": {
     "name": "#%%\n"
    }
   }
  },
  {
   "cell_type": "code",
   "execution_count": null,
   "metadata": {},
   "outputs": [],
   "source": [
    "def test_acc(model, device, train_graphs):\n",
    "    model.eval()\n",
    "\n",
    "    output = pass_data_iteratively(model, train_graphs)\n",
    "    pred = output.max(1, keepdim=True)[1]\n",
    "    labels = torch.LongTensor([graph.label for graph in train_graphs]).to(device)\n",
    "    correct = pred.eq(labels.view_as(pred)).sum().cpu().item()\n",
    "    acc = float(correct / float(len(train_graphs)))\n",
    "\n",
    "\n",
    "    print(\"accuracy : %f\" % (acc))\n",
    "\n",
    "    return acc\n",
    "\n",
    "def n_community(c_sizes, p_inter=0.01):\n",
    "    graphs = [nx.gnp_random_graph(c_sizes[i], 0.7, seed=i) for i in range(len(c_sizes))]\n",
    "    G = nx.disjoint_union_all(graphs)\n",
    "    communities = [G.subgraph(c) for c in nx.connected_components(G)]\n",
    "    for i in range(len(communities)):\n",
    "        subG1 = communities[i]\n",
    "        nodes1 = list(subG1.nodes())\n",
    "        for j in range(i + 1, len(communities)):\n",
    "            subG2 = communities[j]\n",
    "            nodes2 = list(subG2.nodes())\n",
    "            has_inter_edge = False\n",
    "            for n1 in nodes1:\n",
    "                for n2 in nodes2:\n",
    "                    if np.random.rand() < p_inter:\n",
    "                        G.add_edge(n1, n2)\n",
    "                        has_inter_edge = True\n",
    "            if not has_inter_edge:\n",
    "                G.add_edge(nodes1[0], nodes2[0])\n",
    "    # print('connected comp: ', len(list(nx.connected_component_subgraphs(G))))\n",
    "    return G\n",
    "\n",
    "test_acc(model,'cuda:0',g_list_pred_rnn)"
   ]
  },
  {
   "cell_type": "markdown",
   "metadata": {},
   "source": [
    "## Perturbation Test"
   ]
  },
  {
   "cell_type": "code",
   "execution_count": null,
   "metadata": {},
   "outputs": [],
   "source": [
    "def perturb_new(graph_list, p):\n",
    "    ''' Perturb the list of graphs by adding/removing edges.\n",
    "    Args:\n",
    "        p_add: probability of adding edges. If None, estimate it according to graph density,\n",
    "            such that the expected number of added edges is equal to that of deleted edges.\n",
    "        p_del: probability of removing edges\n",
    "    Returns:\n",
    "        A list of graphs that are perturbed from the original graphs\n",
    "    '''\n",
    "    perturbed_graph_list = []\n",
    "    for G_original in graph_list:\n",
    "        G = G_original.copy()\n",
    "        edge_remove_count = 0\n",
    "        for (u, v) in list(G.edges()):\n",
    "            if np.random.rand()<p:\n",
    "                G.remove_edge(u, v)\n",
    "                edge_remove_count += 1\n",
    "        # randomly add the edges back\n",
    "        for i in range(edge_remove_count):\n",
    "            while True:\n",
    "                u = np.random.randint(0, G.number_of_nodes())\n",
    "                v = np.random.randint(0, G.number_of_nodes())\n",
    "                if (not G.has_edge(u,v)) and (u!=v):\n",
    "                    break\n",
    "            G.add_edge(u, v)\n",
    "        perturbed_graph_list.append(G)\n",
    "    return perturbed_graph_list\n",
    "\n",
    "graph_ba_regen=[]\n",
    "for i in range(100,200):\n",
    "    for j in range(5):\n",
    "        g=nx.watts_strogatz_graph(i,4,0.1)\n",
    "        graph_ba_regen.append(g)\n",
    "g_list_ref_ba_regen0,_ = load_graph_asS2Vgraph(graph_ba_regen,1,random, tagset , lentagset)\n",
    "g_list_ref_ba_regen10,_ = load_graph_asS2Vgraph(perturb_new(graph_ba_regen,0.1),1,random, tagset , lentagset)\n",
    "g_list_ref_ba_regen20,_ = load_graph_asS2Vgraph(perturb_new(graph_ba_regen,0.2),1,random, tagset , lentagset)\n",
    "g_list_ref_ba_regen30,_ = load_graph_asS2Vgraph(perturb_new(graph_ba_regen,0.3),1,random, tagset , lentagset)\n",
    "g_list_ref_ba_regen40,_ = load_graph_asS2Vgraph(perturb_new(graph_ba_regen,0.4),1,random, tagset , lentagset)\n",
    "g_list_ref_ba_regen50,_ = load_graph_asS2Vgraph(perturb_new(graph_ba_regen,0.5),1,random, tagset , lentagset)\n",
    "g_list_ref_ba_regen60,_ = load_graph_asS2Vgraph(perturb_new(graph_ba_regen,0.6),1,random, tagset , lentagset)\n",
    "g_list_ref_ba_regen70,_ = load_graph_asS2Vgraph(perturb_new(graph_ba_regen,0.7),1,random, tagset , lentagset)"
   ]
  },
  {
   "cell_type": "code",
   "execution_count": null,
   "metadata": {},
   "outputs": [],
   "source": [
    "\n",
    "g_list_ref_ba_regen80,_ = load_graph_asS2Vgraph(perturb_new(graph_ba_regen,0.8),1,random, tagset , lentagset)\n",
    "g_list_ref_ba_regen90,_ = load_graph_asS2Vgraph(perturb_new(graph_ba_regen,0.9),1,random, tagset , lentagset)\n",
    "g_list_ref_ba_regen100,_ = load_graph_asS2Vgraph(perturb_new(graph_ba_regen,1.0),1,random, tagset , lentagset)\n",
    "\n"
   ]
  },
  {
   "cell_type": "code",
   "execution_count": null,
   "metadata": {},
   "outputs": [],
   "source": [
    "fids1=[]\n",
    "fids1.append(compute_fid([graphs[i] for i in range(len(graphs)) if graphs[i].label ==0],g_list_ref_ba_regen0,model))\n",
    "fids1.append(compute_fid([graphs[i] for i in range(len(graphs)) if graphs[i].label ==0],g_list_ref_ba_regen10,model))\n",
    "fids1.append(compute_fid([graphs[i] for i in range(len(graphs)) if graphs[i].label ==0],g_list_ref_ba_regen20,model))\n",
    "fids1.append(compute_fid([graphs[i] for i in range(len(graphs)) if graphs[i].label ==0],g_list_ref_ba_regen30,model))\n",
    "fids1.append(compute_fid([graphs[i] for i in range(len(graphs)) if graphs[i].label ==0],g_list_ref_ba_regen40,model))\n",
    "fids1.append(compute_fid([graphs[i] for i in range(len(graphs)) if graphs[i].label ==0],g_list_ref_ba_regen50,model))\n",
    "fids1.append(compute_fid([graphs[i] for i in range(len(graphs)) if graphs[i].label ==0],g_list_ref_ba_regen70,model))\n",
    "fids1.append(compute_fid([graphs[i] for i in range(len(graphs)) if graphs[i].label ==0],g_list_ref_ba_regen80,model))\n",
    "fids1.append(compute_fid([graphs[i] for i in range(len(graphs)) if graphs[i].label ==0],g_list_ref_ba_regen90,model))\n",
    "fids1.append(compute_fid([graphs[i] for i in range(len(graphs)) if graphs[i].label ==0],g_list_ref_ba_regen100,model))\n",
    "\n",
    "\n"
   ]
  },
  {
   "cell_type": "code",
   "execution_count": null,
   "metadata": {},
   "outputs": [],
   "source": [
    "\n",
    "import matplotlib.pyplot as plt\n",
    "perturb = np.arange(0,1,0.1)\n",
    "plt.figure(figsize=(10,7))\n",
    "plt.xlabel(\"Noise perturbation\")\n",
    "plt.ylabel(\"Fréchet Distance to the ref graph\")\n",
    "#\n",
    "plt.plot(perturb,fids1,label='watts')\n",
    "plt.draw()\n",
    "plt.legend()"
   ]
  }
 ],
 "metadata": {
  "interpreter": {
   "hash": "3d0494937803f43eb53306e8569b34e94f10729ff691099c0010227141b076fc"
  },
  "kernelspec": {
   "name": "python3",
   "language": "python",
   "display_name": "Python 3"
  },
  "language_info": {
   "codemirror_mode": {
    "name": "ipython",
    "version": 3
   },
   "file_extension": ".py",
   "mimetype": "text/x-python",
   "name": "python",
   "nbconvert_exporter": "python",
   "pygments_lexer": "ipython3",
   "version": "3.7.10"
  }
 },
 "nbformat": 4,
 "nbformat_minor": 2
}